{
 "cells": [
  {
   "cell_type": "markdown",
   "id": "ea6b80bf",
   "metadata": {},
   "source": [
    "# Título"
   ]
  },
  {
   "cell_type": "markdown",
   "id": "7f8e18f6",
   "metadata": {},
   "source": [
    "# 1.Importación librerías"
   ]
  },
  {
   "cell_type": "markdown",
   "id": "80d37c4d",
   "metadata": {},
   "source": [
    "# 2.Importación fuente de datos"
   ]
  },
  {
   "cell_type": "markdown",
   "id": "1f5ec089",
   "metadata": {},
   "source": [
    "# 3.Análisis de Datos (EDA) + Preprocesado"
   ]
  },
  {
   "cell_type": "markdown",
   "id": "d67b42f4",
   "metadata": {},
   "source": [
    "## 3.1 Limpieza inicial"
   ]
  },
  {
   "cell_type": "markdown",
   "id": "ef8f252c",
   "metadata": {},
   "source": [
    "## 3.2 Visualización"
   ]
  },
  {
   "cell_type": "markdown",
   "id": "bdc0b164",
   "metadata": {},
   "source": [
    "### 3.2.1 Plots básicos"
   ]
  },
  {
   "cell_type": "markdown",
   "id": "e4bca5a6",
   "metadata": {},
   "source": [
    "### 3.2.2 Plot geográficos"
   ]
  },
  {
   "cell_type": "markdown",
   "id": "f1a8d845",
   "metadata": {},
   "source": [
    "### 3.2.3 Otras variables"
   ]
  },
  {
   "cell_type": "markdown",
   "id": "2ebbbc01",
   "metadata": {},
   "source": [
    "## 3.3 Limpieza final"
   ]
  },
  {
   "cell_type": "markdown",
   "id": "0aa96791",
   "metadata": {},
   "source": [
    "### 3.3.2 Limpieza temporal"
   ]
  },
  {
   "cell_type": "markdown",
   "id": "c40af5ed",
   "metadata": {},
   "source": [
    "### 3.3.3 Transformación variables categóricas"
   ]
  },
  {
   "cell_type": "markdown",
   "id": "4b727164",
   "metadata": {},
   "source": [
    "# 4.Train Test Split"
   ]
  },
  {
   "cell_type": "markdown",
   "id": "1abc2c95",
   "metadata": {},
   "source": [
    "# 5.Escalado"
   ]
  },
  {
   "cell_type": "markdown",
   "id": "fbe0c6d2",
   "metadata": {},
   "source": [
    "# 6.Creación del modelo\n",
    "\n",
    "    # Para un problema de clasificación multiclase\n",
    "    model.compile(optimizer='adam',\n",
    "                  loss='categorical_crossentropy',\n",
    "                  metrics=['accuracy'])\n",
    "                  \n",
    "    "
   ]
  },
  {
   "cell_type": "markdown",
   "id": "7d68c394",
   "metadata": {},
   "source": [
    "# 7. Entrenamiento del modelo"
   ]
  },
  {
   "cell_type": "markdown",
   "id": "69a0af9f",
   "metadata": {},
   "source": [
    "# 8. Evaluación del modelo"
   ]
  },
  {
   "cell_type": "markdown",
   "id": "ff58e9d1",
   "metadata": {},
   "source": [
    "## 8.1 Predicción sobre el conjunto de Test"
   ]
  },
  {
   "cell_type": "markdown",
   "id": "9f96b23f",
   "metadata": {},
   "source": [
    "## 8.2 Predicción sobre nuevos datos"
   ]
  },
  {
   "cell_type": "markdown",
   "id": "04a549a2",
   "metadata": {},
   "source": [
    "# 9.Monitorización con Tensorboard"
   ]
  },
  {
   "cell_type": "markdown",
   "id": "bf9f6b63",
   "metadata": {},
   "source": [
    "## 9.1 Entrenamiento del modelo"
   ]
  },
  {
   "cell_type": "markdown",
   "id": "3593f7a9",
   "metadata": {},
   "source": [
    "## 9.2 Ejecutar Tensorboard"
   ]
  }
 ],
 "metadata": {
  "kernelspec": {
   "display_name": "Python 3 (ipykernel)",
   "language": "python",
   "name": "python3"
  },
  "language_info": {
   "codemirror_mode": {
    "name": "ipython",
    "version": 3
   },
   "file_extension": ".py",
   "mimetype": "text/x-python",
   "name": "python",
   "nbconvert_exporter": "python",
   "pygments_lexer": "ipython3",
   "version": "3.9.13"
  }
 },
 "nbformat": 4,
 "nbformat_minor": 5
}

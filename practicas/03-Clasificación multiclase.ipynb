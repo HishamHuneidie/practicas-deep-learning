{
 "cells": [
  {
   "cell_type": "markdown",
   "id": "ea6b80bf",
   "metadata": {},
   "source": [
    "# Título"
   ]
  },
  {
   "cell_type": "markdown",
   "id": "7f8e18f6",
   "metadata": {},
   "source": [
    "# 1.Importación librerías"
   ]
  },
  {
   "cell_type": "code",
   "execution_count": 1,
   "id": "83d389e6",
   "metadata": {},
   "outputs": [],
   "source": [
    "import pandas as pd\n",
    "import numpy as np\n",
    "import matplotlib.pyplot as plt\n",
    "import seaborn as sns"
   ]
  },
  {
   "cell_type": "markdown",
   "id": "80d37c4d",
   "metadata": {},
   "source": [
    "# 2.Importación fuente de datos"
   ]
  },
  {
   "attachments": {},
   "cell_type": "raw",
   "id": "267493eb",
   "metadata": {},
   "source": [
    "https://www.kaggle.com/kunalvsingh93/banking-model-multiclass-classification?select=train_loan.csv\n",
    "The process, defined as ‘risk-based pricing’, uses a sophisticated algorithm that leverages different determining factors of a loan applicant. Selection of significant factors will help develop a prediction algorithm which can estimate loan interest rates based on clients’ information. On one hand, knowing the factors will help consumers and borrowers to increase their credit worthiness and place themselves in a better position to negotiate for getting a lower interest rate. On the other hand, this will help lending companies to get an immediate fixed interest rate estimation based on clients information. Here, your goal is to use a training dataset to predict the loan rate category (1 / 2 / 3) that will be assigned to each loan in our test set.\n",
    "\n",
    "Interest_Rate --> Tasa de interés asignada, a mayor valor se considera mayor riesgo y por tanto tasa más elevada\n"
   ]
  },
  {
   "cell_type": "code",
   "execution_count": 2,
   "id": "09aa02b2",
   "metadata": {},
   "outputs": [],
   "source": [
    "# Lectura de datos históricos\n",
    "df = pd.read_csv(\"./src/info_prestamos.csv\", encoding=\"ISO-8859-1\", delimiter=\",\")"
   ]
  },
  {
   "cell_type": "code",
   "execution_count": 3,
   "id": "84a5d274",
   "metadata": {},
   "outputs": [
    {
     "data": {
      "text/html": [
       "<div>\n",
       "<style scoped>\n",
       "    .dataframe tbody tr th:only-of-type {\n",
       "        vertical-align: middle;\n",
       "    }\n",
       "\n",
       "    .dataframe tbody tr th {\n",
       "        vertical-align: top;\n",
       "    }\n",
       "\n",
       "    .dataframe thead th {\n",
       "        text-align: right;\n",
       "    }\n",
       "</style>\n",
       "<table border=\"1\" class=\"dataframe\">\n",
       "  <thead>\n",
       "    <tr style=\"text-align: right;\">\n",
       "      <th></th>\n",
       "      <th>Loan_ID</th>\n",
       "      <th>Loan_Amount_Requested</th>\n",
       "      <th>Length_Employed</th>\n",
       "      <th>Home_Owner</th>\n",
       "      <th>Annual_Income</th>\n",
       "      <th>Income_Verified</th>\n",
       "      <th>Purpose_Of_Loan</th>\n",
       "      <th>Debt_To_Income</th>\n",
       "      <th>Inquiries_Last_6Mo</th>\n",
       "      <th>Months_Since_Deliquency</th>\n",
       "      <th>Number_Open_Accounts</th>\n",
       "      <th>Total_Accounts</th>\n",
       "      <th>Gender</th>\n",
       "      <th>Interest_Rate</th>\n",
       "    </tr>\n",
       "  </thead>\n",
       "  <tbody>\n",
       "    <tr>\n",
       "      <th>0</th>\n",
       "      <td>10000001</td>\n",
       "      <td>7,000</td>\n",
       "      <td>&lt; 1 year</td>\n",
       "      <td>Rent</td>\n",
       "      <td>68000.0</td>\n",
       "      <td>not verified</td>\n",
       "      <td>car</td>\n",
       "      <td>18.37</td>\n",
       "      <td>0</td>\n",
       "      <td>NaN</td>\n",
       "      <td>9</td>\n",
       "      <td>14</td>\n",
       "      <td>Female</td>\n",
       "      <td>1</td>\n",
       "    </tr>\n",
       "    <tr>\n",
       "      <th>1</th>\n",
       "      <td>10000002</td>\n",
       "      <td>30,000</td>\n",
       "      <td>4 years</td>\n",
       "      <td>Mortgage</td>\n",
       "      <td>NaN</td>\n",
       "      <td>VERIFIED - income</td>\n",
       "      <td>debt_consolidation</td>\n",
       "      <td>14.93</td>\n",
       "      <td>0</td>\n",
       "      <td>17.0</td>\n",
       "      <td>12</td>\n",
       "      <td>24</td>\n",
       "      <td>Female</td>\n",
       "      <td>3</td>\n",
       "    </tr>\n",
       "    <tr>\n",
       "      <th>2</th>\n",
       "      <td>10000003</td>\n",
       "      <td>24,725</td>\n",
       "      <td>7 years</td>\n",
       "      <td>Mortgage</td>\n",
       "      <td>75566.4</td>\n",
       "      <td>VERIFIED - income source</td>\n",
       "      <td>debt_consolidation</td>\n",
       "      <td>15.88</td>\n",
       "      <td>0</td>\n",
       "      <td>NaN</td>\n",
       "      <td>12</td>\n",
       "      <td>16</td>\n",
       "      <td>Male</td>\n",
       "      <td>3</td>\n",
       "    </tr>\n",
       "    <tr>\n",
       "      <th>3</th>\n",
       "      <td>10000004</td>\n",
       "      <td>16,000</td>\n",
       "      <td>&lt; 1 year</td>\n",
       "      <td>NaN</td>\n",
       "      <td>56160.0</td>\n",
       "      <td>VERIFIED - income source</td>\n",
       "      <td>debt_consolidation</td>\n",
       "      <td>14.34</td>\n",
       "      <td>3</td>\n",
       "      <td>NaN</td>\n",
       "      <td>16</td>\n",
       "      <td>22</td>\n",
       "      <td>Male</td>\n",
       "      <td>3</td>\n",
       "    </tr>\n",
       "    <tr>\n",
       "      <th>4</th>\n",
       "      <td>10000005</td>\n",
       "      <td>17,000</td>\n",
       "      <td>8 years</td>\n",
       "      <td>Own</td>\n",
       "      <td>96000.0</td>\n",
       "      <td>VERIFIED - income source</td>\n",
       "      <td>debt_consolidation</td>\n",
       "      <td>22.17</td>\n",
       "      <td>1</td>\n",
       "      <td>NaN</td>\n",
       "      <td>19</td>\n",
       "      <td>30</td>\n",
       "      <td>Female</td>\n",
       "      <td>1</td>\n",
       "    </tr>\n",
       "  </tbody>\n",
       "</table>\n",
       "</div>"
      ],
      "text/plain": [
       "    Loan_ID Loan_Amount_Requested Length_Employed Home_Owner  Annual_Income  \\\n",
       "0  10000001                 7,000        < 1 year       Rent        68000.0   \n",
       "1  10000002                30,000         4 years   Mortgage            NaN   \n",
       "2  10000003                24,725         7 years   Mortgage        75566.4   \n",
       "3  10000004                16,000        < 1 year        NaN        56160.0   \n",
       "4  10000005                17,000         8 years        Own        96000.0   \n",
       "\n",
       "            Income_Verified     Purpose_Of_Loan  Debt_To_Income  \\\n",
       "0              not verified                 car           18.37   \n",
       "1         VERIFIED - income  debt_consolidation           14.93   \n",
       "2  VERIFIED - income source  debt_consolidation           15.88   \n",
       "3  VERIFIED - income source  debt_consolidation           14.34   \n",
       "4  VERIFIED - income source  debt_consolidation           22.17   \n",
       "\n",
       "   Inquiries_Last_6Mo  Months_Since_Deliquency  Number_Open_Accounts  \\\n",
       "0                   0                      NaN                     9   \n",
       "1                   0                     17.0                    12   \n",
       "2                   0                      NaN                    12   \n",
       "3                   3                      NaN                    16   \n",
       "4                   1                      NaN                    19   \n",
       "\n",
       "   Total_Accounts  Gender  Interest_Rate  \n",
       "0              14  Female              1  \n",
       "1              24  Female              3  \n",
       "2              16    Male              3  \n",
       "3              22    Male              3  \n",
       "4              30  Female              1  "
      ]
     },
     "execution_count": 3,
     "metadata": {},
     "output_type": "execute_result"
    }
   ],
   "source": [
    "df.head()"
   ]
  },
  {
   "cell_type": "markdown",
   "id": "1f5ec089",
   "metadata": {},
   "source": [
    "# 3.Análisis de Datos (EDA) + Preprocesado"
   ]
  },
  {
   "cell_type": "code",
   "execution_count": 4,
   "id": "d9790976",
   "metadata": {},
   "outputs": [
    {
     "name": "stdout",
     "output_type": "stream",
     "text": [
      "<class 'pandas.core.frame.DataFrame'>\n",
      "RangeIndex: 164309 entries, 0 to 164308\n",
      "Data columns (total 14 columns):\n",
      " #   Column                   Non-Null Count   Dtype  \n",
      "---  ------                   --------------   -----  \n",
      " 0   Loan_ID                  164309 non-null  int64  \n",
      " 1   Loan_Amount_Requested    164309 non-null  object \n",
      " 2   Length_Employed          156938 non-null  object \n",
      " 3   Home_Owner               138960 non-null  object \n",
      " 4   Annual_Income            139207 non-null  float64\n",
      " 5   Income_Verified          164309 non-null  object \n",
      " 6   Purpose_Of_Loan          164309 non-null  object \n",
      " 7   Debt_To_Income           164309 non-null  float64\n",
      " 8   Inquiries_Last_6Mo       164309 non-null  int64  \n",
      " 9   Months_Since_Deliquency  75930 non-null   float64\n",
      " 10  Number_Open_Accounts     164309 non-null  int64  \n",
      " 11  Total_Accounts           164309 non-null  int64  \n",
      " 12  Gender                   164309 non-null  object \n",
      " 13  Interest_Rate            164309 non-null  int64  \n",
      "dtypes: float64(3), int64(5), object(6)\n",
      "memory usage: 17.6+ MB\n"
     ]
    }
   ],
   "source": [
    "df.info()"
   ]
  },
  {
   "cell_type": "markdown",
   "id": "d67b42f4",
   "metadata": {},
   "source": [
    "## 3.1 Limpieza inicial"
   ]
  },
  {
   "cell_type": "code",
   "execution_count": 5,
   "id": "88f54ae1",
   "metadata": {},
   "outputs": [
    {
     "data": {
      "text/plain": [
       "Loan_ID                        0\n",
       "Loan_Amount_Requested          0\n",
       "Length_Employed             7371\n",
       "Home_Owner                 25349\n",
       "Annual_Income              25102\n",
       "Income_Verified                0\n",
       "Purpose_Of_Loan                0\n",
       "Debt_To_Income                 0\n",
       "Inquiries_Last_6Mo             0\n",
       "Months_Since_Deliquency    88379\n",
       "Number_Open_Accounts           0\n",
       "Total_Accounts                 0\n",
       "Gender                         0\n",
       "Interest_Rate                  0\n",
       "dtype: int64"
      ]
     },
     "execution_count": 5,
     "metadata": {},
     "output_type": "execute_result"
    }
   ],
   "source": [
    "# Ver nulos por columna\n",
    "df.isnull().sum()"
   ]
  },
  {
   "cell_type": "code",
   "execution_count": 6,
   "id": "998c6ba7",
   "metadata": {},
   "outputs": [
    {
     "data": {
      "text/html": [
       "<div>\n",
       "<style scoped>\n",
       "    .dataframe tbody tr th:only-of-type {\n",
       "        vertical-align: middle;\n",
       "    }\n",
       "\n",
       "    .dataframe tbody tr th {\n",
       "        vertical-align: top;\n",
       "    }\n",
       "\n",
       "    .dataframe thead th {\n",
       "        text-align: right;\n",
       "    }\n",
       "</style>\n",
       "<table border=\"1\" class=\"dataframe\">\n",
       "  <thead>\n",
       "    <tr style=\"text-align: right;\">\n",
       "      <th></th>\n",
       "      <th>Loan_ID</th>\n",
       "      <th>Loan_Amount_Requested</th>\n",
       "      <th>Length_Employed</th>\n",
       "      <th>Home_Owner</th>\n",
       "      <th>Annual_Income</th>\n",
       "      <th>Income_Verified</th>\n",
       "      <th>Purpose_Of_Loan</th>\n",
       "      <th>Debt_To_Income</th>\n",
       "      <th>Inquiries_Last_6Mo</th>\n",
       "      <th>Number_Open_Accounts</th>\n",
       "      <th>Total_Accounts</th>\n",
       "      <th>Gender</th>\n",
       "      <th>Interest_Rate</th>\n",
       "    </tr>\n",
       "  </thead>\n",
       "  <tbody>\n",
       "    <tr>\n",
       "      <th>0</th>\n",
       "      <td>10000001</td>\n",
       "      <td>7,000</td>\n",
       "      <td>&lt; 1 year</td>\n",
       "      <td>Rent</td>\n",
       "      <td>68000.0</td>\n",
       "      <td>not verified</td>\n",
       "      <td>car</td>\n",
       "      <td>18.37</td>\n",
       "      <td>0</td>\n",
       "      <td>9</td>\n",
       "      <td>14</td>\n",
       "      <td>Female</td>\n",
       "      <td>1</td>\n",
       "    </tr>\n",
       "    <tr>\n",
       "      <th>1</th>\n",
       "      <td>10000002</td>\n",
       "      <td>30,000</td>\n",
       "      <td>4 years</td>\n",
       "      <td>Mortgage</td>\n",
       "      <td>NaN</td>\n",
       "      <td>VERIFIED - income</td>\n",
       "      <td>debt_consolidation</td>\n",
       "      <td>14.93</td>\n",
       "      <td>0</td>\n",
       "      <td>12</td>\n",
       "      <td>24</td>\n",
       "      <td>Female</td>\n",
       "      <td>3</td>\n",
       "    </tr>\n",
       "    <tr>\n",
       "      <th>2</th>\n",
       "      <td>10000003</td>\n",
       "      <td>24,725</td>\n",
       "      <td>7 years</td>\n",
       "      <td>Mortgage</td>\n",
       "      <td>75566.4</td>\n",
       "      <td>VERIFIED - income source</td>\n",
       "      <td>debt_consolidation</td>\n",
       "      <td>15.88</td>\n",
       "      <td>0</td>\n",
       "      <td>12</td>\n",
       "      <td>16</td>\n",
       "      <td>Male</td>\n",
       "      <td>3</td>\n",
       "    </tr>\n",
       "    <tr>\n",
       "      <th>3</th>\n",
       "      <td>10000004</td>\n",
       "      <td>16,000</td>\n",
       "      <td>&lt; 1 year</td>\n",
       "      <td>NaN</td>\n",
       "      <td>56160.0</td>\n",
       "      <td>VERIFIED - income source</td>\n",
       "      <td>debt_consolidation</td>\n",
       "      <td>14.34</td>\n",
       "      <td>3</td>\n",
       "      <td>16</td>\n",
       "      <td>22</td>\n",
       "      <td>Male</td>\n",
       "      <td>3</td>\n",
       "    </tr>\n",
       "    <tr>\n",
       "      <th>4</th>\n",
       "      <td>10000005</td>\n",
       "      <td>17,000</td>\n",
       "      <td>8 years</td>\n",
       "      <td>Own</td>\n",
       "      <td>96000.0</td>\n",
       "      <td>VERIFIED - income source</td>\n",
       "      <td>debt_consolidation</td>\n",
       "      <td>22.17</td>\n",
       "      <td>1</td>\n",
       "      <td>19</td>\n",
       "      <td>30</td>\n",
       "      <td>Female</td>\n",
       "      <td>1</td>\n",
       "    </tr>\n",
       "  </tbody>\n",
       "</table>\n",
       "</div>"
      ],
      "text/plain": [
       "    Loan_ID Loan_Amount_Requested Length_Employed Home_Owner  Annual_Income  \\\n",
       "0  10000001                 7,000        < 1 year       Rent        68000.0   \n",
       "1  10000002                30,000         4 years   Mortgage            NaN   \n",
       "2  10000003                24,725         7 years   Mortgage        75566.4   \n",
       "3  10000004                16,000        < 1 year        NaN        56160.0   \n",
       "4  10000005                17,000         8 years        Own        96000.0   \n",
       "\n",
       "            Income_Verified     Purpose_Of_Loan  Debt_To_Income  \\\n",
       "0              not verified                 car           18.37   \n",
       "1         VERIFIED - income  debt_consolidation           14.93   \n",
       "2  VERIFIED - income source  debt_consolidation           15.88   \n",
       "3  VERIFIED - income source  debt_consolidation           14.34   \n",
       "4  VERIFIED - income source  debt_consolidation           22.17   \n",
       "\n",
       "   Inquiries_Last_6Mo  Number_Open_Accounts  Total_Accounts  Gender  \\\n",
       "0                   0                     9              14  Female   \n",
       "1                   0                    12              24  Female   \n",
       "2                   0                    12              16    Male   \n",
       "3                   3                    16              22    Male   \n",
       "4                   1                    19              30  Female   \n",
       "\n",
       "   Interest_Rate  \n",
       "0              1  \n",
       "1              3  \n",
       "2              3  \n",
       "3              3  \n",
       "4              1  "
      ]
     },
     "execution_count": 6,
     "metadata": {},
     "output_type": "execute_result"
    }
   ],
   "source": [
    "# Eliminar variables con alto porcentaje de nulos\n",
    "df_var = df.isnull().sum()\n",
    "# Setear porcentaje de eliminacion\n",
    "porcentaje = 0.2\n",
    "# Punto de corte\n",
    "corte = porcentaje * len(df)\n",
    "# Eliminar columnas con alto porcentaje de nulos\n",
    "df_var = df_var[df_var<corte]\n",
    "indices = df_var.index\n",
    "df = df[indices]\n",
    "df.head()"
   ]
  },
  {
   "cell_type": "code",
   "execution_count": 7,
   "id": "009ad43a",
   "metadata": {},
   "outputs": [
    {
     "data": {
      "text/plain": [
       "Loan_ID                      0\n",
       "Loan_Amount_Requested        0\n",
       "Length_Employed           7371\n",
       "Home_Owner               25349\n",
       "Annual_Income            25102\n",
       "Income_Verified              0\n",
       "Purpose_Of_Loan              0\n",
       "Debt_To_Income               0\n",
       "Inquiries_Last_6Mo           0\n",
       "Number_Open_Accounts         0\n",
       "Total_Accounts               0\n",
       "Gender                       0\n",
       "Interest_Rate                0\n",
       "dtype: int64"
      ]
     },
     "execution_count": 7,
     "metadata": {},
     "output_type": "execute_result"
    }
   ],
   "source": [
    "# Ver como ha quedado después de eliminar nulos\n",
    "df.isnull().sum()"
   ]
  },
  {
   "cell_type": "code",
   "execution_count": 8,
   "id": "094731ee",
   "metadata": {},
   "outputs": [
    {
     "data": {
      "text/html": [
       "<div>\n",
       "<style scoped>\n",
       "    .dataframe tbody tr th:only-of-type {\n",
       "        vertical-align: middle;\n",
       "    }\n",
       "\n",
       "    .dataframe tbody tr th {\n",
       "        vertical-align: top;\n",
       "    }\n",
       "\n",
       "    .dataframe thead th {\n",
       "        text-align: right;\n",
       "    }\n",
       "</style>\n",
       "<table border=\"1\" class=\"dataframe\">\n",
       "  <thead>\n",
       "    <tr style=\"text-align: right;\">\n",
       "      <th></th>\n",
       "      <th>count</th>\n",
       "      <th>mean</th>\n",
       "      <th>std</th>\n",
       "      <th>min</th>\n",
       "      <th>25%</th>\n",
       "      <th>50%</th>\n",
       "      <th>75%</th>\n",
       "      <th>max</th>\n",
       "    </tr>\n",
       "  </thead>\n",
       "  <tbody>\n",
       "    <tr>\n",
       "      <th>Loan_ID</th>\n",
       "      <td>164309.0</td>\n",
       "      <td>1.008216e+07</td>\n",
       "      <td>47432.067027</td>\n",
       "      <td>10000001.0</td>\n",
       "      <td>10041078.00</td>\n",
       "      <td>10082155.00</td>\n",
       "      <td>10123232.00</td>\n",
       "      <td>10164309.00</td>\n",
       "    </tr>\n",
       "    <tr>\n",
       "      <th>Annual_Income</th>\n",
       "      <td>139207.0</td>\n",
       "      <td>7.333116e+04</td>\n",
       "      <td>60377.498294</td>\n",
       "      <td>4000.0</td>\n",
       "      <td>45000.00</td>\n",
       "      <td>63000.00</td>\n",
       "      <td>88697.50</td>\n",
       "      <td>7500000.00</td>\n",
       "    </tr>\n",
       "    <tr>\n",
       "      <th>Debt_To_Income</th>\n",
       "      <td>164309.0</td>\n",
       "      <td>1.720719e+01</td>\n",
       "      <td>7.845083</td>\n",
       "      <td>0.0</td>\n",
       "      <td>11.37</td>\n",
       "      <td>16.84</td>\n",
       "      <td>22.78</td>\n",
       "      <td>39.99</td>\n",
       "    </tr>\n",
       "    <tr>\n",
       "      <th>Inquiries_Last_6Mo</th>\n",
       "      <td>164309.0</td>\n",
       "      <td>7.816979e-01</td>\n",
       "      <td>1.034747</td>\n",
       "      <td>0.0</td>\n",
       "      <td>0.00</td>\n",
       "      <td>0.00</td>\n",
       "      <td>1.00</td>\n",
       "      <td>8.00</td>\n",
       "    </tr>\n",
       "    <tr>\n",
       "      <th>Number_Open_Accounts</th>\n",
       "      <td>164309.0</td>\n",
       "      <td>1.119382e+01</td>\n",
       "      <td>4.991813</td>\n",
       "      <td>0.0</td>\n",
       "      <td>8.00</td>\n",
       "      <td>10.00</td>\n",
       "      <td>14.00</td>\n",
       "      <td>76.00</td>\n",
       "    </tr>\n",
       "    <tr>\n",
       "      <th>Total_Accounts</th>\n",
       "      <td>164309.0</td>\n",
       "      <td>2.506767e+01</td>\n",
       "      <td>11.583067</td>\n",
       "      <td>2.0</td>\n",
       "      <td>17.00</td>\n",
       "      <td>23.00</td>\n",
       "      <td>32.00</td>\n",
       "      <td>156.00</td>\n",
       "    </tr>\n",
       "    <tr>\n",
       "      <th>Interest_Rate</th>\n",
       "      <td>164309.0</td>\n",
       "      <td>2.158951e+00</td>\n",
       "      <td>0.738364</td>\n",
       "      <td>1.0</td>\n",
       "      <td>2.00</td>\n",
       "      <td>2.00</td>\n",
       "      <td>3.00</td>\n",
       "      <td>3.00</td>\n",
       "    </tr>\n",
       "  </tbody>\n",
       "</table>\n",
       "</div>"
      ],
      "text/plain": [
       "                         count          mean           std         min  \\\n",
       "Loan_ID               164309.0  1.008216e+07  47432.067027  10000001.0   \n",
       "Annual_Income         139207.0  7.333116e+04  60377.498294      4000.0   \n",
       "Debt_To_Income        164309.0  1.720719e+01      7.845083         0.0   \n",
       "Inquiries_Last_6Mo    164309.0  7.816979e-01      1.034747         0.0   \n",
       "Number_Open_Accounts  164309.0  1.119382e+01      4.991813         0.0   \n",
       "Total_Accounts        164309.0  2.506767e+01     11.583067         2.0   \n",
       "Interest_Rate         164309.0  2.158951e+00      0.738364         1.0   \n",
       "\n",
       "                              25%          50%          75%          max  \n",
       "Loan_ID               10041078.00  10082155.00  10123232.00  10164309.00  \n",
       "Annual_Income            45000.00     63000.00     88697.50   7500000.00  \n",
       "Debt_To_Income              11.37        16.84        22.78        39.99  \n",
       "Inquiries_Last_6Mo           0.00         0.00         1.00         8.00  \n",
       "Number_Open_Accounts         8.00        10.00        14.00        76.00  \n",
       "Total_Accounts              17.00        23.00        32.00       156.00  \n",
       "Interest_Rate                2.00         2.00         3.00         3.00  "
      ]
     },
     "execution_count": 8,
     "metadata": {},
     "output_type": "execute_result"
    }
   ],
   "source": [
    "# Mostrar datos estadísticos de columnas\n",
    "df.describe().transpose()"
   ]
  },
  {
   "cell_type": "code",
   "execution_count": 9,
   "id": "aeb19828",
   "metadata": {},
   "outputs": [
    {
     "data": {
      "text/plain": [
       "array(['< 1 year', '4 years', '7 years', '8 years', '2 years',\n",
       "       '10+ years', '1 year', nan, '6 years', '9 years', '3 years',\n",
       "       '5 years'], dtype=object)"
      ]
     },
     "execution_count": 9,
     "metadata": {},
     "output_type": "execute_result"
    }
   ],
   "source": [
    "df[\"Length_Employed\"].unique()"
   ]
  },
  {
   "cell_type": "code",
   "execution_count": 10,
   "id": "df75bb77",
   "metadata": {},
   "outputs": [
    {
     "data": {
      "text/plain": [
       "0          0.0\n",
       "1          4.0\n",
       "2          7.0\n",
       "3          0.0\n",
       "4          8.0\n",
       "          ... \n",
       "164304    10.0\n",
       "164305     8.0\n",
       "164306    10.0\n",
       "164307     4.0\n",
       "164308    10.0\n",
       "Name: Length_Employed, Length: 164309, dtype: float64"
      ]
     },
     "execution_count": 10,
     "metadata": {},
     "output_type": "execute_result"
    }
   ],
   "source": [
    "df[\"Length_Employed\"] = df[\"Length_Employed\"].str.replace(\"< 1 year\", \"0 years\")\n",
    "df[\"Length_Employed\"] = df[\"Length_Employed\"].str.extract(\"(\\d+)\")\n",
    "df[\"Length_Employed\"] = df[\"Length_Employed\"].apply(pd.to_numeric)\n",
    "df[\"Length_Employed\"]"
   ]
  },
  {
   "cell_type": "code",
   "execution_count": 11,
   "id": "dfa58350",
   "metadata": {},
   "outputs": [
    {
     "data": {
      "text/plain": [
       "array([ 0.,  4.,  7.,  8.,  2., 10.,  1., nan,  6.,  9.,  3.,  5.])"
      ]
     },
     "execution_count": 11,
     "metadata": {},
     "output_type": "execute_result"
    }
   ],
   "source": [
    "df[\"Length_Employed\"].unique()"
   ]
  },
  {
   "cell_type": "code",
   "execution_count": 12,
   "id": "1bcc3dfa",
   "metadata": {},
   "outputs": [
    {
     "name": "stdout",
     "output_type": "stream",
     "text": [
      "<class 'pandas.core.frame.DataFrame'>\n",
      "RangeIndex: 164309 entries, 0 to 164308\n",
      "Data columns (total 13 columns):\n",
      " #   Column                 Non-Null Count   Dtype  \n",
      "---  ------                 --------------   -----  \n",
      " 0   Loan_ID                164309 non-null  int64  \n",
      " 1   Loan_Amount_Requested  164309 non-null  object \n",
      " 2   Length_Employed        156938 non-null  float64\n",
      " 3   Home_Owner             138960 non-null  object \n",
      " 4   Annual_Income          139207 non-null  float64\n",
      " 5   Income_Verified        164309 non-null  object \n",
      " 6   Purpose_Of_Loan        164309 non-null  object \n",
      " 7   Debt_To_Income         164309 non-null  float64\n",
      " 8   Inquiries_Last_6Mo     164309 non-null  int64  \n",
      " 9   Number_Open_Accounts   164309 non-null  int64  \n",
      " 10  Total_Accounts         164309 non-null  int64  \n",
      " 11  Gender                 164309 non-null  object \n",
      " 12  Interest_Rate          164309 non-null  int64  \n",
      "dtypes: float64(3), int64(5), object(5)\n",
      "memory usage: 16.3+ MB\n"
     ]
    }
   ],
   "source": [
    "df.info()"
   ]
  },
  {
   "cell_type": "code",
   "execution_count": 13,
   "id": "5e8d80d3",
   "metadata": {},
   "outputs": [
    {
     "name": "stdout",
     "output_type": "stream",
     "text": [
      "Correlación con Length_Employed\n"
     ]
    },
    {
     "data": {
      "text/plain": [
       "Inquiries_Last_6Mo     -0.006522\n",
       "Loan_ID                 0.000152\n",
       "Interest_Rate           0.030404\n",
       "Number_Open_Accounts    0.037321\n",
       "Debt_To_Income          0.049020\n",
       "Annual_Income           0.069505\n",
       "Total_Accounts          0.111460\n",
       "Length_Employed         1.000000\n",
       "Name: Length_Employed, dtype: float64"
      ]
     },
     "execution_count": 13,
     "metadata": {},
     "output_type": "execute_result"
    }
   ],
   "source": [
    "print(\"Correlación con Length_Employed\")\n",
    "df.corr()[\"Length_Employed\"].sort_values()"
   ]
  },
  {
   "cell_type": "code",
   "execution_count": 14,
   "id": "ac7d091e",
   "metadata": {},
   "outputs": [
    {
     "name": "stdout",
     "output_type": "stream",
     "text": [
      "Promedio de Length_Employed por Total_Accounts\n"
     ]
    },
    {
     "data": {
      "text/plain": [
       "Total_Accounts\n",
       "2       2.500000\n",
       "3       2.709924\n",
       "4       3.662551\n",
       "5       4.180240\n",
       "6       4.260575\n",
       "         ...    \n",
       "99     10.000000\n",
       "102     7.000000\n",
       "105    10.000000\n",
       "116    10.000000\n",
       "156    10.000000\n",
       "Name: Length_Employed, Length: 100, dtype: float64"
      ]
     },
     "execution_count": 14,
     "metadata": {},
     "output_type": "execute_result"
    }
   ],
   "source": [
    "print(\"Promedio de Length_Employed por Total_Accounts\")\n",
    "df.groupby(\"Total_Accounts\").mean()[\"Length_Employed\"]"
   ]
  },
  {
   "cell_type": "code",
   "execution_count": 15,
   "id": "6e520e85",
   "metadata": {},
   "outputs": [],
   "source": [
    "total_acc_avg = df.groupby(\"Total_Accounts\").mean()[\"Length_Employed\"]"
   ]
  },
  {
   "cell_type": "code",
   "execution_count": 16,
   "id": "f8f5c481",
   "metadata": {},
   "outputs": [
    {
     "data": {
      "text/plain": [
       "4.180240320427236"
      ]
     },
     "execution_count": 16,
     "metadata": {},
     "output_type": "execute_result"
    }
   ],
   "source": [
    "total_acc_avg[5]"
   ]
  },
  {
   "cell_type": "code",
   "execution_count": 17,
   "id": "ce46297b",
   "metadata": {},
   "outputs": [],
   "source": [
    "def completa_len_empl(total_acc, len_map):\n",
    "    if np.isnan(len_map):\n",
    "        # Si el valor es nulo, se devuelve el promedio calculado\n",
    "        return total_acc_avg[total_acc]\n",
    "    else:\n",
    "        return len_map"
   ]
  },
  {
   "cell_type": "code",
   "execution_count": 18,
   "id": "d0a44ac1",
   "metadata": {},
   "outputs": [],
   "source": [
    "# Limpiar los datos de Length_Employed\n",
    "df['Length_Employed'] = df.apply(lambda x: completa_len_empl(x[\"Total_Accounts\"], x[\"Length_Employed\"]), axis=1)"
   ]
  },
  {
   "cell_type": "code",
   "execution_count": 19,
   "id": "05e52cd6",
   "metadata": {},
   "outputs": [
    {
     "data": {
      "text/plain": [
       "Loan_ID                      0\n",
       "Loan_Amount_Requested        0\n",
       "Length_Employed              0\n",
       "Home_Owner               25349\n",
       "Annual_Income            25102\n",
       "Income_Verified              0\n",
       "Purpose_Of_Loan              0\n",
       "Debt_To_Income               0\n",
       "Inquiries_Last_6Mo           0\n",
       "Number_Open_Accounts         0\n",
       "Total_Accounts               0\n",
       "Gender                       0\n",
       "Interest_Rate                0\n",
       "dtype: int64"
      ]
     },
     "execution_count": 19,
     "metadata": {},
     "output_type": "execute_result"
    }
   ],
   "source": [
    "df.isnull().sum()"
   ]
  },
  {
   "cell_type": "code",
   "execution_count": 20,
   "id": "f20c45ad",
   "metadata": {},
   "outputs": [
    {
     "data": {
      "text/html": [
       "<div>\n",
       "<style scoped>\n",
       "    .dataframe tbody tr th:only-of-type {\n",
       "        vertical-align: middle;\n",
       "    }\n",
       "\n",
       "    .dataframe tbody tr th {\n",
       "        vertical-align: top;\n",
       "    }\n",
       "\n",
       "    .dataframe thead th {\n",
       "        text-align: right;\n",
       "    }\n",
       "</style>\n",
       "<table border=\"1\" class=\"dataframe\">\n",
       "  <thead>\n",
       "    <tr style=\"text-align: right;\">\n",
       "      <th></th>\n",
       "      <th>Loan_ID</th>\n",
       "      <th>Loan_Amount_Requested</th>\n",
       "      <th>Length_Employed</th>\n",
       "      <th>Home_Owner</th>\n",
       "      <th>Annual_Income</th>\n",
       "      <th>Income_Verified</th>\n",
       "      <th>Purpose_Of_Loan</th>\n",
       "      <th>Debt_To_Income</th>\n",
       "      <th>Inquiries_Last_6Mo</th>\n",
       "      <th>Number_Open_Accounts</th>\n",
       "      <th>Total_Accounts</th>\n",
       "      <th>Gender</th>\n",
       "      <th>Interest_Rate</th>\n",
       "    </tr>\n",
       "  </thead>\n",
       "  <tbody>\n",
       "    <tr>\n",
       "      <th>0</th>\n",
       "      <td>10000001</td>\n",
       "      <td>7,000</td>\n",
       "      <td>0.0</td>\n",
       "      <td>Rent</td>\n",
       "      <td>68000.0</td>\n",
       "      <td>not verified</td>\n",
       "      <td>car</td>\n",
       "      <td>18.37</td>\n",
       "      <td>0</td>\n",
       "      <td>9</td>\n",
       "      <td>14</td>\n",
       "      <td>Female</td>\n",
       "      <td>1</td>\n",
       "    </tr>\n",
       "    <tr>\n",
       "      <th>1</th>\n",
       "      <td>10000002</td>\n",
       "      <td>30,000</td>\n",
       "      <td>4.0</td>\n",
       "      <td>Mortgage</td>\n",
       "      <td>NaN</td>\n",
       "      <td>VERIFIED - income</td>\n",
       "      <td>debt_consolidation</td>\n",
       "      <td>14.93</td>\n",
       "      <td>0</td>\n",
       "      <td>12</td>\n",
       "      <td>24</td>\n",
       "      <td>Female</td>\n",
       "      <td>3</td>\n",
       "    </tr>\n",
       "    <tr>\n",
       "      <th>2</th>\n",
       "      <td>10000003</td>\n",
       "      <td>24,725</td>\n",
       "      <td>7.0</td>\n",
       "      <td>Mortgage</td>\n",
       "      <td>75566.4</td>\n",
       "      <td>VERIFIED - income source</td>\n",
       "      <td>debt_consolidation</td>\n",
       "      <td>15.88</td>\n",
       "      <td>0</td>\n",
       "      <td>12</td>\n",
       "      <td>16</td>\n",
       "      <td>Male</td>\n",
       "      <td>3</td>\n",
       "    </tr>\n",
       "    <tr>\n",
       "      <th>3</th>\n",
       "      <td>10000004</td>\n",
       "      <td>16,000</td>\n",
       "      <td>0.0</td>\n",
       "      <td>NaN</td>\n",
       "      <td>56160.0</td>\n",
       "      <td>VERIFIED - income source</td>\n",
       "      <td>debt_consolidation</td>\n",
       "      <td>14.34</td>\n",
       "      <td>3</td>\n",
       "      <td>16</td>\n",
       "      <td>22</td>\n",
       "      <td>Male</td>\n",
       "      <td>3</td>\n",
       "    </tr>\n",
       "    <tr>\n",
       "      <th>4</th>\n",
       "      <td>10000005</td>\n",
       "      <td>17,000</td>\n",
       "      <td>8.0</td>\n",
       "      <td>Own</td>\n",
       "      <td>96000.0</td>\n",
       "      <td>VERIFIED - income source</td>\n",
       "      <td>debt_consolidation</td>\n",
       "      <td>22.17</td>\n",
       "      <td>1</td>\n",
       "      <td>19</td>\n",
       "      <td>30</td>\n",
       "      <td>Female</td>\n",
       "      <td>1</td>\n",
       "    </tr>\n",
       "  </tbody>\n",
       "</table>\n",
       "</div>"
      ],
      "text/plain": [
       "    Loan_ID Loan_Amount_Requested  Length_Employed Home_Owner  Annual_Income  \\\n",
       "0  10000001                 7,000              0.0       Rent        68000.0   \n",
       "1  10000002                30,000              4.0   Mortgage            NaN   \n",
       "2  10000003                24,725              7.0   Mortgage        75566.4   \n",
       "3  10000004                16,000              0.0        NaN        56160.0   \n",
       "4  10000005                17,000              8.0        Own        96000.0   \n",
       "\n",
       "            Income_Verified     Purpose_Of_Loan  Debt_To_Income  \\\n",
       "0              not verified                 car           18.37   \n",
       "1         VERIFIED - income  debt_consolidation           14.93   \n",
       "2  VERIFIED - income source  debt_consolidation           15.88   \n",
       "3  VERIFIED - income source  debt_consolidation           14.34   \n",
       "4  VERIFIED - income source  debt_consolidation           22.17   \n",
       "\n",
       "   Inquiries_Last_6Mo  Number_Open_Accounts  Total_Accounts  Gender  \\\n",
       "0                   0                     9              14  Female   \n",
       "1                   0                    12              24  Female   \n",
       "2                   0                    12              16    Male   \n",
       "3                   3                    16              22    Male   \n",
       "4                   1                    19              30  Female   \n",
       "\n",
       "   Interest_Rate  \n",
       "0              1  \n",
       "1              3  \n",
       "2              3  \n",
       "3              3  \n",
       "4              1  "
      ]
     },
     "execution_count": 20,
     "metadata": {},
     "output_type": "execute_result"
    }
   ],
   "source": [
    "df.head()"
   ]
  },
  {
   "cell_type": "code",
   "execution_count": 21,
   "id": "3539ebd3",
   "metadata": {},
   "outputs": [
    {
     "data": {
      "text/plain": [
       "Mortgage    70345\n",
       "Rent        56031\n",
       "Own         12525\n",
       "Other          49\n",
       "None           10\n",
       "Name: Home_Owner, dtype: int64"
      ]
     },
     "execution_count": 21,
     "metadata": {},
     "output_type": "execute_result"
    }
   ],
   "source": [
    "df[\"Home_Owner\"].value_counts()"
   ]
  },
  {
   "cell_type": "code",
   "execution_count": 22,
   "id": "0caef94f",
   "metadata": {},
   "outputs": [
    {
     "data": {
      "text/html": [
       "<div>\n",
       "<style scoped>\n",
       "    .dataframe tbody tr th:only-of-type {\n",
       "        vertical-align: middle;\n",
       "    }\n",
       "\n",
       "    .dataframe tbody tr th {\n",
       "        vertical-align: top;\n",
       "    }\n",
       "\n",
       "    .dataframe thead th {\n",
       "        text-align: right;\n",
       "    }\n",
       "</style>\n",
       "<table border=\"1\" class=\"dataframe\">\n",
       "  <thead>\n",
       "    <tr style=\"text-align: right;\">\n",
       "      <th></th>\n",
       "      <th>Loan_ID</th>\n",
       "      <th>Length_Employed</th>\n",
       "      <th>Annual_Income</th>\n",
       "      <th>Debt_To_Income</th>\n",
       "      <th>Inquiries_Last_6Mo</th>\n",
       "      <th>Number_Open_Accounts</th>\n",
       "      <th>Total_Accounts</th>\n",
       "      <th>Interest_Rate</th>\n",
       "    </tr>\n",
       "    <tr>\n",
       "      <th>Home_Owner</th>\n",
       "      <th></th>\n",
       "      <th></th>\n",
       "      <th></th>\n",
       "      <th></th>\n",
       "      <th></th>\n",
       "      <th></th>\n",
       "      <th></th>\n",
       "      <th></th>\n",
       "    </tr>\n",
       "  </thead>\n",
       "  <tbody>\n",
       "    <tr>\n",
       "      <th>Mortgage</th>\n",
       "      <td>1.008211e+07</td>\n",
       "      <td>6.673973</td>\n",
       "      <td>83699.371184</td>\n",
       "      <td>17.144232</td>\n",
       "      <td>0.840387</td>\n",
       "      <td>11.860672</td>\n",
       "      <td>27.669188</td>\n",
       "      <td>2.112673</td>\n",
       "    </tr>\n",
       "    <tr>\n",
       "      <th>None</th>\n",
       "      <td>1.007899e+07</td>\n",
       "      <td>4.384603</td>\n",
       "      <td>70550.000000</td>\n",
       "      <td>15.749000</td>\n",
       "      <td>0.400000</td>\n",
       "      <td>9.800000</td>\n",
       "      <td>20.000000</td>\n",
       "      <td>1.900000</td>\n",
       "    </tr>\n",
       "    <tr>\n",
       "      <th>Other</th>\n",
       "      <td>1.007884e+07</td>\n",
       "      <td>4.818072</td>\n",
       "      <td>64540.743590</td>\n",
       "      <td>14.535306</td>\n",
       "      <td>0.938776</td>\n",
       "      <td>9.306122</td>\n",
       "      <td>23.530612</td>\n",
       "      <td>2.081633</td>\n",
       "    </tr>\n",
       "    <tr>\n",
       "      <th>Own</th>\n",
       "      <td>1.008211e+07</td>\n",
       "      <td>6.189912</td>\n",
       "      <td>66104.826361</td>\n",
       "      <td>17.824458</td>\n",
       "      <td>0.768782</td>\n",
       "      <td>10.967186</td>\n",
       "      <td>24.343792</td>\n",
       "      <td>2.170299</td>\n",
       "    </tr>\n",
       "    <tr>\n",
       "      <th>Rent</th>\n",
       "      <td>1.008234e+07</td>\n",
       "      <td>5.081681</td>\n",
       "      <td>62077.534637</td>\n",
       "      <td>17.124675</td>\n",
       "      <td>0.708322</td>\n",
       "      <td>10.425158</td>\n",
       "      <td>22.021060</td>\n",
       "      <td>2.213382</td>\n",
       "    </tr>\n",
       "  </tbody>\n",
       "</table>\n",
       "</div>"
      ],
      "text/plain": [
       "                 Loan_ID  Length_Employed  Annual_Income  Debt_To_Income  \\\n",
       "Home_Owner                                                                 \n",
       "Mortgage    1.008211e+07         6.673973   83699.371184       17.144232   \n",
       "None        1.007899e+07         4.384603   70550.000000       15.749000   \n",
       "Other       1.007884e+07         4.818072   64540.743590       14.535306   \n",
       "Own         1.008211e+07         6.189912   66104.826361       17.824458   \n",
       "Rent        1.008234e+07         5.081681   62077.534637       17.124675   \n",
       "\n",
       "            Inquiries_Last_6Mo  Number_Open_Accounts  Total_Accounts  \\\n",
       "Home_Owner                                                             \n",
       "Mortgage              0.840387             11.860672       27.669188   \n",
       "None                  0.400000              9.800000       20.000000   \n",
       "Other                 0.938776              9.306122       23.530612   \n",
       "Own                   0.768782             10.967186       24.343792   \n",
       "Rent                  0.708322             10.425158       22.021060   \n",
       "\n",
       "            Interest_Rate  \n",
       "Home_Owner                 \n",
       "Mortgage         2.112673  \n",
       "None             1.900000  \n",
       "Other            2.081633  \n",
       "Own              2.170299  \n",
       "Rent             2.213382  "
      ]
     },
     "execution_count": 22,
     "metadata": {},
     "output_type": "execute_result"
    }
   ],
   "source": [
    "df.groupby(\"Home_Owner\").mean()"
   ]
  },
  {
   "cell_type": "code",
   "execution_count": 23,
   "id": "b389ac22",
   "metadata": {},
   "outputs": [
    {
     "data": {
      "text/plain": [
       "<AxesSubplot:xlabel='Home_Owner'>"
      ]
     },
     "execution_count": 23,
     "metadata": {},
     "output_type": "execute_result"
    },
    {
     "data": {
      "image/png": "[encoded data removed]",
      "text/plain": [
       "<Figure size 640x480 with 1 Axes>"
      ]
     },
     "metadata": {},
     "output_type": "display_data"
    }
   ],
   "source": [
    "# Calcular la distribución de los valores de Interest_Rate vs los valores de Home_Owner\n",
    "df.pivot_table(\n",
    "    index=\"Home_Owner\",\n",
    "    columns=\"Interest_Rate\",\n",
    "    values=\"Loan_ID\",\n",
    "    aggfunc=\"count\",\n",
    ").plot(kind=\"bar\")"
   ]
  },
  {
   "cell_type": "code",
   "execution_count": 24,
   "id": "394474ae",
   "metadata": {},
   "outputs": [],
   "source": [
    "def completar_home_owner(home_owner,int_rate):\n",
    "    if home_owner=='':\n",
    "        if int_rate == 3:\n",
    "            return \"Rent\"\n",
    "        else:\n",
    "            return \"Mortgage\" #En caso de que Interest_Rate = 1 / 2\n",
    "    else:\n",
    "        return home_owner"
   ]
  },
  {
   "cell_type": "code",
   "execution_count": 25,
   "id": "b8819674",
   "metadata": {},
   "outputs": [],
   "source": [
    "df[\"Home_Owner\"] = df[\"Home_Owner\"].replace(np.nan, '')"
   ]
  },
  {
   "cell_type": "code",
   "execution_count": 26,
   "id": "3959fa25",
   "metadata": {},
   "outputs": [],
   "source": [
    "df[\"Home_Owner\"] = df.apply(lambda x: completar_home_owner(x[\"Home_Owner\"], x[\"Interest_Rate\"]), axis=1)"
   ]
  },
  {
   "cell_type": "code",
   "execution_count": 27,
   "id": "64f9581e",
   "metadata": {},
   "outputs": [
    {
     "data": {
      "text/html": [
       "<div>\n",
       "<style scoped>\n",
       "    .dataframe tbody tr th:only-of-type {\n",
       "        vertical-align: middle;\n",
       "    }\n",
       "\n",
       "    .dataframe tbody tr th {\n",
       "        vertical-align: top;\n",
       "    }\n",
       "\n",
       "    .dataframe thead th {\n",
       "        text-align: right;\n",
       "    }\n",
       "</style>\n",
       "<table border=\"1\" class=\"dataframe\">\n",
       "  <thead>\n",
       "    <tr style=\"text-align: right;\">\n",
       "      <th></th>\n",
       "      <th>Loan_ID</th>\n",
       "      <th>Loan_Amount_Requested</th>\n",
       "      <th>Length_Employed</th>\n",
       "      <th>Home_Owner</th>\n",
       "      <th>Annual_Income</th>\n",
       "      <th>Income_Verified</th>\n",
       "      <th>Purpose_Of_Loan</th>\n",
       "      <th>Debt_To_Income</th>\n",
       "      <th>Inquiries_Last_6Mo</th>\n",
       "      <th>Number_Open_Accounts</th>\n",
       "      <th>Total_Accounts</th>\n",
       "      <th>Gender</th>\n",
       "      <th>Interest_Rate</th>\n",
       "    </tr>\n",
       "  </thead>\n",
       "  <tbody>\n",
       "    <tr>\n",
       "      <th>0</th>\n",
       "      <td>10000001</td>\n",
       "      <td>7,000</td>\n",
       "      <td>0.0</td>\n",
       "      <td>Rent</td>\n",
       "      <td>68000.0</td>\n",
       "      <td>not verified</td>\n",
       "      <td>car</td>\n",
       "      <td>18.37</td>\n",
       "      <td>0</td>\n",
       "      <td>9</td>\n",
       "      <td>14</td>\n",
       "      <td>Female</td>\n",
       "      <td>1</td>\n",
       "    </tr>\n",
       "    <tr>\n",
       "      <th>1</th>\n",
       "      <td>10000002</td>\n",
       "      <td>30,000</td>\n",
       "      <td>4.0</td>\n",
       "      <td>Mortgage</td>\n",
       "      <td>NaN</td>\n",
       "      <td>VERIFIED - income</td>\n",
       "      <td>debt_consolidation</td>\n",
       "      <td>14.93</td>\n",
       "      <td>0</td>\n",
       "      <td>12</td>\n",
       "      <td>24</td>\n",
       "      <td>Female</td>\n",
       "      <td>3</td>\n",
       "    </tr>\n",
       "    <tr>\n",
       "      <th>2</th>\n",
       "      <td>10000003</td>\n",
       "      <td>24,725</td>\n",
       "      <td>7.0</td>\n",
       "      <td>Mortgage</td>\n",
       "      <td>75566.4</td>\n",
       "      <td>VERIFIED - income source</td>\n",
       "      <td>debt_consolidation</td>\n",
       "      <td>15.88</td>\n",
       "      <td>0</td>\n",
       "      <td>12</td>\n",
       "      <td>16</td>\n",
       "      <td>Male</td>\n",
       "      <td>3</td>\n",
       "    </tr>\n",
       "    <tr>\n",
       "      <th>3</th>\n",
       "      <td>10000004</td>\n",
       "      <td>16,000</td>\n",
       "      <td>0.0</td>\n",
       "      <td>Rent</td>\n",
       "      <td>56160.0</td>\n",
       "      <td>VERIFIED - income source</td>\n",
       "      <td>debt_consolidation</td>\n",
       "      <td>14.34</td>\n",
       "      <td>3</td>\n",
       "      <td>16</td>\n",
       "      <td>22</td>\n",
       "      <td>Male</td>\n",
       "      <td>3</td>\n",
       "    </tr>\n",
       "    <tr>\n",
       "      <th>4</th>\n",
       "      <td>10000005</td>\n",
       "      <td>17,000</td>\n",
       "      <td>8.0</td>\n",
       "      <td>Own</td>\n",
       "      <td>96000.0</td>\n",
       "      <td>VERIFIED - income source</td>\n",
       "      <td>debt_consolidation</td>\n",
       "      <td>22.17</td>\n",
       "      <td>1</td>\n",
       "      <td>19</td>\n",
       "      <td>30</td>\n",
       "      <td>Female</td>\n",
       "      <td>1</td>\n",
       "    </tr>\n",
       "  </tbody>\n",
       "</table>\n",
       "</div>"
      ],
      "text/plain": [
       "    Loan_ID Loan_Amount_Requested  Length_Employed Home_Owner  Annual_Income  \\\n",
       "0  10000001                 7,000              0.0       Rent        68000.0   \n",
       "1  10000002                30,000              4.0   Mortgage            NaN   \n",
       "2  10000003                24,725              7.0   Mortgage        75566.4   \n",
       "3  10000004                16,000              0.0       Rent        56160.0   \n",
       "4  10000005                17,000              8.0        Own        96000.0   \n",
       "\n",
       "            Income_Verified     Purpose_Of_Loan  Debt_To_Income  \\\n",
       "0              not verified                 car           18.37   \n",
       "1         VERIFIED - income  debt_consolidation           14.93   \n",
       "2  VERIFIED - income source  debt_consolidation           15.88   \n",
       "3  VERIFIED - income source  debt_consolidation           14.34   \n",
       "4  VERIFIED - income source  debt_consolidation           22.17   \n",
       "\n",
       "   Inquiries_Last_6Mo  Number_Open_Accounts  Total_Accounts  Gender  \\\n",
       "0                   0                     9              14  Female   \n",
       "1                   0                    12              24  Female   \n",
       "2                   0                    12              16    Male   \n",
       "3                   3                    16              22    Male   \n",
       "4                   1                    19              30  Female   \n",
       "\n",
       "   Interest_Rate  \n",
       "0              1  \n",
       "1              3  \n",
       "2              3  \n",
       "3              3  \n",
       "4              1  "
      ]
     },
     "execution_count": 27,
     "metadata": {},
     "output_type": "execute_result"
    }
   ],
   "source": [
    "df.head()"
   ]
  },
  {
   "cell_type": "code",
   "execution_count": 28,
   "id": "800bc1c3",
   "metadata": {},
   "outputs": [
    {
     "data": {
      "text/plain": [
       "(array([1.17229e+05, 1.97800e+04, 1.62000e+03, 3.19000e+02, 1.29000e+02,\n",
       "        4.80000e+01, 1.90000e+01, 2.20000e+01, 1.50000e+01, 8.00000e+00]),\n",
       " array([  4000. , 103599.9, 203199.8, 302799.7, 402399.6, 501999.5,\n",
       "        601599.4, 701199.3, 800799.2, 900399.1, 999999. ]),\n",
       " <BarContainer object of 10 artists>)"
      ]
     },
     "execution_count": 28,
     "metadata": {},
     "output_type": "execute_result"
    },
    {
     "data": {
      "image/png": "[encoded data removed]",
      "text/plain": [
       "<Figure size 640x480 with 1 Axes>"
      ]
     },
     "metadata": {},
     "output_type": "display_data"
    }
   ],
   "source": [
    "df_aux = df[ df[\"Annual_Income\"]<1000000 ]\n",
    "plt.hist( df_aux[\"Annual_Income\"], bins=10 )"
   ]
  },
  {
   "cell_type": "code",
   "execution_count": 29,
   "id": "e84303f9",
   "metadata": {},
   "outputs": [
    {
     "data": {
      "text/plain": [
       "Debt_To_Income         -0.173589\n",
       "Interest_Rate          -0.052783\n",
       "Loan_ID                 0.008326\n",
       "Inquiries_Last_6Mo      0.060011\n",
       "Length_Employed         0.070139\n",
       "Number_Open_Accounts    0.145822\n",
       "Total_Accounts          0.203237\n",
       "Annual_Income           1.000000\n",
       "Name: Annual_Income, dtype: float64"
      ]
     },
     "execution_count": 29,
     "metadata": {},
     "output_type": "execute_result"
    }
   ],
   "source": [
    "# Ver correlación de Annual_Income con otras columnas\n",
    "df.corr()[\"Annual_Income\"].sort_values()"
   ]
  },
  {
   "cell_type": "code",
   "execution_count": 30,
   "id": "34b39550",
   "metadata": {},
   "outputs": [
    {
     "data": {
      "text/plain": [
       "Total_Accounts\n",
       "2       88617.400000\n",
       "3       36087.616140\n",
       "4       44522.606276\n",
       "5       45691.847537\n",
       "6       47686.809039\n",
       "           ...      \n",
       "99      97000.000000\n",
       "102              NaN\n",
       "105     38000.000000\n",
       "116    240000.000000\n",
       "156     42000.000000\n",
       "Name: Annual_Income, Length: 100, dtype: float64"
      ]
     },
     "execution_count": 30,
     "metadata": {},
     "output_type": "execute_result"
    }
   ],
   "source": [
    "total_acc_inc_avg = df.groupby(\"Total_Accounts\").mean()[\"Annual_Income\"]\n",
    "total_acc_inc_avg"
   ]
  },
  {
   "cell_type": "code",
   "execution_count": 31,
   "id": "8f0ebc3b",
   "metadata": {},
   "outputs": [],
   "source": [
    "def completar_an_inc(total_acc,an_inc):\n",
    "    if np.isnan(an_inc):\n",
    "        return total_acc_inc_avg[total_acc] #Si el valor es nulo devuelve el promedio de Length_Employed para el valor correspondiente de Total_Accounts\n",
    "    else:\n",
    "        return an_inc\n",
    "\n",
    "# Limpiar Total_Accounts\n",
    "df[\"Annual_Income\"] = df.apply(lambda x: completar_an_inc(x[\"Total_Accounts\"], x[\"Annual_Income\"]), axis=1)\n"
   ]
  },
  {
   "cell_type": "code",
   "execution_count": 32,
   "id": "2a380ddc",
   "metadata": {},
   "outputs": [
    {
     "data": {
      "text/plain": [
       "Loan_ID                  0\n",
       "Loan_Amount_Requested    0\n",
       "Length_Employed          0\n",
       "Home_Owner               0\n",
       "Annual_Income            1\n",
       "Income_Verified          0\n",
       "Purpose_Of_Loan          0\n",
       "Debt_To_Income           0\n",
       "Inquiries_Last_6Mo       0\n",
       "Number_Open_Accounts     0\n",
       "Total_Accounts           0\n",
       "Gender                   0\n",
       "Interest_Rate            0\n",
       "dtype: int64"
      ]
     },
     "execution_count": 32,
     "metadata": {},
     "output_type": "execute_result"
    }
   ],
   "source": [
    "df.isnull().sum()"
   ]
  },
  {
   "cell_type": "code",
   "execution_count": 33,
   "id": "c061ccf3",
   "metadata": {},
   "outputs": [
    {
     "data": {
      "text/html": [
       "<div>\n",
       "<style scoped>\n",
       "    .dataframe tbody tr th:only-of-type {\n",
       "        vertical-align: middle;\n",
       "    }\n",
       "\n",
       "    .dataframe tbody tr th {\n",
       "        vertical-align: top;\n",
       "    }\n",
       "\n",
       "    .dataframe thead th {\n",
       "        text-align: right;\n",
       "    }\n",
       "</style>\n",
       "<table border=\"1\" class=\"dataframe\">\n",
       "  <thead>\n",
       "    <tr style=\"text-align: right;\">\n",
       "      <th></th>\n",
       "      <th>Loan_ID</th>\n",
       "      <th>Loan_Amount_Requested</th>\n",
       "      <th>Length_Employed</th>\n",
       "      <th>Home_Owner</th>\n",
       "      <th>Annual_Income</th>\n",
       "      <th>Income_Verified</th>\n",
       "      <th>Purpose_Of_Loan</th>\n",
       "      <th>Debt_To_Income</th>\n",
       "      <th>Inquiries_Last_6Mo</th>\n",
       "      <th>Number_Open_Accounts</th>\n",
       "      <th>Total_Accounts</th>\n",
       "      <th>Gender</th>\n",
       "      <th>Interest_Rate</th>\n",
       "    </tr>\n",
       "  </thead>\n",
       "  <tbody>\n",
       "    <tr>\n",
       "      <th>86968</th>\n",
       "      <td>10086969</td>\n",
       "      <td>24,000</td>\n",
       "      <td>7.0</td>\n",
       "      <td>Mortgage</td>\n",
       "      <td>NaN</td>\n",
       "      <td>VERIFIED - income</td>\n",
       "      <td>home_improvement</td>\n",
       "      <td>19.51</td>\n",
       "      <td>0</td>\n",
       "      <td>10</td>\n",
       "      <td>102</td>\n",
       "      <td>Male</td>\n",
       "      <td>3</td>\n",
       "    </tr>\n",
       "  </tbody>\n",
       "</table>\n",
       "</div>"
      ],
      "text/plain": [
       "        Loan_ID Loan_Amount_Requested  Length_Employed Home_Owner  \\\n",
       "86968  10086969                24,000              7.0   Mortgage   \n",
       "\n",
       "       Annual_Income    Income_Verified   Purpose_Of_Loan  Debt_To_Income  \\\n",
       "86968            NaN  VERIFIED - income  home_improvement           19.51   \n",
       "\n",
       "       Inquiries_Last_6Mo  Number_Open_Accounts  Total_Accounts Gender  \\\n",
       "86968                   0                    10             102   Male   \n",
       "\n",
       "       Interest_Rate  \n",
       "86968              3  "
      ]
     },
     "execution_count": 33,
     "metadata": {},
     "output_type": "execute_result"
    }
   ],
   "source": [
    "df[ df[\"Annual_Income\"].isnull() ]"
   ]
  },
  {
   "cell_type": "code",
   "execution_count": 34,
   "id": "392159c6",
   "metadata": {},
   "outputs": [
    {
     "name": "stdout",
     "output_type": "stream",
     "text": [
      "<class 'pandas.core.frame.DataFrame'>\n",
      "Int64Index: 164308 entries, 0 to 164308\n",
      "Data columns (total 13 columns):\n",
      " #   Column                 Non-Null Count   Dtype  \n",
      "---  ------                 --------------   -----  \n",
      " 0   Loan_ID                164308 non-null  int64  \n",
      " 1   Loan_Amount_Requested  164308 non-null  object \n",
      " 2   Length_Employed        164308 non-null  float64\n",
      " 3   Home_Owner             164308 non-null  object \n",
      " 4   Annual_Income          164308 non-null  float64\n",
      " 5   Income_Verified        164308 non-null  object \n",
      " 6   Purpose_Of_Loan        164308 non-null  object \n",
      " 7   Debt_To_Income         164308 non-null  float64\n",
      " 8   Inquiries_Last_6Mo     164308 non-null  int64  \n",
      " 9   Number_Open_Accounts   164308 non-null  int64  \n",
      " 10  Total_Accounts         164308 non-null  int64  \n",
      " 11  Gender                 164308 non-null  object \n",
      " 12  Interest_Rate          164308 non-null  int64  \n",
      "dtypes: float64(3), int64(5), object(5)\n",
      "memory usage: 17.5+ MB\n"
     ]
    }
   ],
   "source": [
    "df.dropna(inplace=True)\n",
    "df.info()"
   ]
  },
  {
   "cell_type": "code",
   "execution_count": 35,
   "id": "0f1b244e",
   "metadata": {},
   "outputs": [],
   "source": [
    "# Transformar Loan_Amount_Requested\n",
    "df[\"Loan_Amount_Requested\"] = df[\"Loan_Amount_Requested\"].str.replace(\",\", \"\").apply(pd.to_numeric)"
   ]
  },
  {
   "cell_type": "code",
   "execution_count": 36,
   "id": "7d271ebf",
   "metadata": {},
   "outputs": [
    {
     "data": {
      "text/html": [
       "<div>\n",
       "<style scoped>\n",
       "    .dataframe tbody tr th:only-of-type {\n",
       "        vertical-align: middle;\n",
       "    }\n",
       "\n",
       "    .dataframe tbody tr th {\n",
       "        vertical-align: top;\n",
       "    }\n",
       "\n",
       "    .dataframe thead th {\n",
       "        text-align: right;\n",
       "    }\n",
       "</style>\n",
       "<table border=\"1\" class=\"dataframe\">\n",
       "  <thead>\n",
       "    <tr style=\"text-align: right;\">\n",
       "      <th></th>\n",
       "      <th>count</th>\n",
       "      <th>mean</th>\n",
       "      <th>std</th>\n",
       "      <th>min</th>\n",
       "      <th>25%</th>\n",
       "      <th>50%</th>\n",
       "      <th>75%</th>\n",
       "      <th>max</th>\n",
       "    </tr>\n",
       "  </thead>\n",
       "  <tbody>\n",
       "    <tr>\n",
       "      <th>Loan_ID</th>\n",
       "      <td>164308.0</td>\n",
       "      <td>1.008215e+07</td>\n",
       "      <td>47432.209880</td>\n",
       "      <td>10000001.0</td>\n",
       "      <td>10041077.75</td>\n",
       "      <td>10082154.50</td>\n",
       "      <td>1.012323e+07</td>\n",
       "      <td>10164309.00</td>\n",
       "    </tr>\n",
       "    <tr>\n",
       "      <th>Loan_Amount_Requested</th>\n",
       "      <td>164308.0</td>\n",
       "      <td>1.434928e+04</td>\n",
       "      <td>8281.859681</td>\n",
       "      <td>500.0</td>\n",
       "      <td>8000.00</td>\n",
       "      <td>12075.00</td>\n",
       "      <td>2.000000e+04</td>\n",
       "      <td>35000.00</td>\n",
       "    </tr>\n",
       "    <tr>\n",
       "      <th>Length_Employed</th>\n",
       "      <td>164308.0</td>\n",
       "      <td>5.990712e+00</td>\n",
       "      <td>3.548372</td>\n",
       "      <td>0.0</td>\n",
       "      <td>3.00</td>\n",
       "      <td>6.00</td>\n",
       "      <td>1.000000e+01</td>\n",
       "      <td>10.00</td>\n",
       "    </tr>\n",
       "    <tr>\n",
       "      <th>Annual_Income</th>\n",
       "      <td>164308.0</td>\n",
       "      <td>7.332921e+04</td>\n",
       "      <td>55796.901118</td>\n",
       "      <td>4000.0</td>\n",
       "      <td>48000.00</td>\n",
       "      <td>65000.00</td>\n",
       "      <td>8.560164e+04</td>\n",
       "      <td>7500000.00</td>\n",
       "    </tr>\n",
       "    <tr>\n",
       "      <th>Debt_To_Income</th>\n",
       "      <td>164308.0</td>\n",
       "      <td>1.720718e+01</td>\n",
       "      <td>7.845104</td>\n",
       "      <td>0.0</td>\n",
       "      <td>11.37</td>\n",
       "      <td>16.84</td>\n",
       "      <td>2.278000e+01</td>\n",
       "      <td>39.99</td>\n",
       "    </tr>\n",
       "    <tr>\n",
       "      <th>Inquiries_Last_6Mo</th>\n",
       "      <td>164308.0</td>\n",
       "      <td>7.817027e-01</td>\n",
       "      <td>1.034748</td>\n",
       "      <td>0.0</td>\n",
       "      <td>0.00</td>\n",
       "      <td>0.00</td>\n",
       "      <td>1.000000e+00</td>\n",
       "      <td>8.00</td>\n",
       "    </tr>\n",
       "    <tr>\n",
       "      <th>Number_Open_Accounts</th>\n",
       "      <td>164308.0</td>\n",
       "      <td>1.119383e+01</td>\n",
       "      <td>4.991828</td>\n",
       "      <td>0.0</td>\n",
       "      <td>8.00</td>\n",
       "      <td>10.00</td>\n",
       "      <td>1.400000e+01</td>\n",
       "      <td>76.00</td>\n",
       "    </tr>\n",
       "    <tr>\n",
       "      <th>Total_Accounts</th>\n",
       "      <td>164308.0</td>\n",
       "      <td>2.506720e+01</td>\n",
       "      <td>11.581547</td>\n",
       "      <td>2.0</td>\n",
       "      <td>17.00</td>\n",
       "      <td>23.00</td>\n",
       "      <td>3.200000e+01</td>\n",
       "      <td>156.00</td>\n",
       "    </tr>\n",
       "    <tr>\n",
       "      <th>Interest_Rate</th>\n",
       "      <td>164308.0</td>\n",
       "      <td>2.158945e+00</td>\n",
       "      <td>0.738363</td>\n",
       "      <td>1.0</td>\n",
       "      <td>2.00</td>\n",
       "      <td>2.00</td>\n",
       "      <td>3.000000e+00</td>\n",
       "      <td>3.00</td>\n",
       "    </tr>\n",
       "  </tbody>\n",
       "</table>\n",
       "</div>"
      ],
      "text/plain": [
       "                          count          mean           std         min  \\\n",
       "Loan_ID                164308.0  1.008215e+07  47432.209880  10000001.0   \n",
       "Loan_Amount_Requested  164308.0  1.434928e+04   8281.859681       500.0   \n",
       "Length_Employed        164308.0  5.990712e+00      3.548372         0.0   \n",
       "Annual_Income          164308.0  7.332921e+04  55796.901118      4000.0   \n",
       "Debt_To_Income         164308.0  1.720718e+01      7.845104         0.0   \n",
       "Inquiries_Last_6Mo     164308.0  7.817027e-01      1.034748         0.0   \n",
       "Number_Open_Accounts   164308.0  1.119383e+01      4.991828         0.0   \n",
       "Total_Accounts         164308.0  2.506720e+01     11.581547         2.0   \n",
       "Interest_Rate          164308.0  2.158945e+00      0.738363         1.0   \n",
       "\n",
       "                               25%          50%           75%          max  \n",
       "Loan_ID                10041077.75  10082154.50  1.012323e+07  10164309.00  \n",
       "Loan_Amount_Requested      8000.00     12075.00  2.000000e+04     35000.00  \n",
       "Length_Employed               3.00         6.00  1.000000e+01        10.00  \n",
       "Annual_Income             48000.00     65000.00  8.560164e+04   7500000.00  \n",
       "Debt_To_Income               11.37        16.84  2.278000e+01        39.99  \n",
       "Inquiries_Last_6Mo            0.00         0.00  1.000000e+00         8.00  \n",
       "Number_Open_Accounts          8.00        10.00  1.400000e+01        76.00  \n",
       "Total_Accounts               17.00        23.00  3.200000e+01       156.00  \n",
       "Interest_Rate                 2.00         2.00  3.000000e+00         3.00  "
      ]
     },
     "execution_count": 36,
     "metadata": {},
     "output_type": "execute_result"
    }
   ],
   "source": [
    "df.describe().transpose()"
   ]
  },
  {
   "cell_type": "markdown",
   "id": "ef8f252c",
   "metadata": {},
   "source": [
    "## 3.2 Visualización"
   ]
  },
  {
   "cell_type": "markdown",
   "id": "bdc0b164",
   "metadata": {},
   "source": [
    "### 3.2.1 Plots básicos"
   ]
  },
  {
   "cell_type": "code",
   "execution_count": 37,
   "id": "40b613f3",
   "metadata": {},
   "outputs": [
    {
     "data": {
      "text/plain": [
       "<AxesSubplot:xlabel='Interest_Rate', ylabel='count'>"
      ]
     },
     "execution_count": 37,
     "metadata": {},
     "output_type": "execute_result"
    },
    {
     "data": {
      "image/png": "[encoded data removed]",
      "text/plain": [
       "<Figure size 640x480 with 1 Axes>"
      ]
     },
     "metadata": {},
     "output_type": "display_data"
    }
   ],
   "source": [
    "# Ver si hay una proporción equilibrada entre los diferentes valores\n",
    "# de la variable objetivo \"Interest_Rate\"\n",
    "sns.countplot( x=\"Interest_Rate\", data=df )"
   ]
  },
  {
   "cell_type": "code",
   "execution_count": 38,
   "id": "7de4d9bf",
   "metadata": {},
   "outputs": [
    {
     "data": {
      "text/plain": [
       "(10.0, 0.0)"
      ]
     },
     "execution_count": 38,
     "metadata": {},
     "output_type": "execute_result"
    },
    {
     "data": {
      "image/png": "[encoded data removed]",
      "text/plain": [
       "<Figure size 1200x700 with 2 Axes>"
      ]
     },
     "metadata": {},
     "output_type": "display_data"
    }
   ],
   "source": [
    "plt.figure( figsize=(12,7) )\n",
    "sns.heatmap( df.corr(), annot=True, cmap=\"viridis\" )\n",
    "plt.ylim(10, 0)"
   ]
  },
  {
   "cell_type": "code",
   "execution_count": 39,
   "id": "64f6ccf8",
   "metadata": {},
   "outputs": [
    {
     "data": {
      "text/plain": [
       "Annual_Income           -0.050086\n",
       "Total_Accounts          -0.040741\n",
       "Loan_ID                  0.001289\n",
       "Number_Open_Accounts     0.002849\n",
       "Length_Employed          0.029096\n",
       "Loan_Amount_Requested    0.132479\n",
       "Debt_To_Income           0.152470\n",
       "Inquiries_Last_6Mo       0.188993\n",
       "Interest_Rate            1.000000\n",
       "Name: Interest_Rate, dtype: float64"
      ]
     },
     "execution_count": 39,
     "metadata": {},
     "output_type": "execute_result"
    }
   ],
   "source": [
    "df.corr()[\"Interest_Rate\"].sort_values()"
   ]
  },
  {
   "cell_type": "code",
   "execution_count": 40,
   "id": "4ba902bb",
   "metadata": {},
   "outputs": [
    {
     "data": {
      "text/plain": [
       "<AxesSubplot:>"
      ]
     },
     "execution_count": 40,
     "metadata": {},
     "output_type": "execute_result"
    },
    {
     "data": {
      "image/png": "[encoded data removed]",
      "text/plain": [
       "<Figure size 640x480 with 1 Axes>"
      ]
     },
     "metadata": {},
     "output_type": "display_data"
    }
   ],
   "source": [
    "# Quitar la propia variable objetivo para que el gráfico no se distorcione\n",
    "df.corr()['Interest_Rate'][:-1].sort_values().plot(kind='bar')"
   ]
  },
  {
   "cell_type": "code",
   "execution_count": 41,
   "id": "6de954e2",
   "metadata": {},
   "outputs": [
    {
     "data": {
      "text/plain": [
       "<AxesSubplot:xlabel='Interest_Rate', ylabel='Inquiries_Last_6Mo'>"
      ]
     },
     "execution_count": 41,
     "metadata": {},
     "output_type": "execute_result"
    },
    {
     "data": {
      "image/png": "[encoded data removed]",
      "text/plain": [
       "<Figure size 1200x800 with 1 Axes>"
      ]
     },
     "metadata": {},
     "output_type": "display_data"
    }
   ],
   "source": [
    "# Visualizar variables altamente correlacionadas con la salida\n",
    "plt.figure( figsize=(12, 8) )\n",
    "sns.scatterplot( x=\"Interest_Rate\", y=\"Inquiries_Last_6Mo\", data=df )"
   ]
  },
  {
   "cell_type": "code",
   "execution_count": 42,
   "id": "d31fc7c6",
   "metadata": {},
   "outputs": [
    {
     "data": {
      "text/plain": [
       "<matplotlib.colorbar.Colorbar at 0x7f44a4b521c0>"
      ]
     },
     "execution_count": 42,
     "metadata": {},
     "output_type": "execute_result"
    },
    {
     "data": {
      "image/png": "[encoded data removed]",
      "text/plain": [
       "<Figure size 640x480 with 2 Axes>"
      ]
     },
     "metadata": {},
     "output_type": "display_data"
    }
   ],
   "source": [
    "# Si los valores están normalizados, lo mejor es hacer visualizar un histograma 2D\n",
    "plt.hist2d( df[\"Inquiries_Last_6Mo\"], df[\"Interest_Rate\"], bins=(9,3), cmap=plt.cm.viridis )\n",
    "plt.xlabel( \"Inquiries_Last_6Mo\" )\n",
    "plt.ylabel( \"Interest_Rate\" )\n",
    "plt.colorbar()"
   ]
  },
  {
   "cell_type": "markdown",
   "id": "e4bca5a6",
   "metadata": {},
   "source": [
    "### 3.2.2 Plot geográficos"
   ]
  },
  {
   "cell_type": "markdown",
   "id": "f1a8d845",
   "metadata": {},
   "source": [
    "### 3.2.3 Otras variables"
   ]
  },
  {
   "cell_type": "code",
   "execution_count": 43,
   "id": "a28937ee",
   "metadata": {},
   "outputs": [
    {
     "data": {
      "text/plain": [
       "<AxesSubplot:xlabel='Gender'>"
      ]
     },
     "execution_count": 43,
     "metadata": {},
     "output_type": "execute_result"
    },
    {
     "data": {
      "image/png": "[encoded data removed]",
      "text/plain": [
       "<Figure size 640x480 with 1 Axes>"
      ]
     },
     "metadata": {},
     "output_type": "display_data"
    }
   ],
   "source": [
    "# ¿Existe alguna diferencia entre el comportamiento de un hombre y una mujer?\n",
    "df.pivot_table( index=\"Gender\", columns=\"Interest_Rate\", values=\"Loan_ID\", aggfunc=\"count\" ).plot(kind=\"bar\")"
   ]
  },
  {
   "cell_type": "code",
   "execution_count": 44,
   "id": "fbbbd1f3",
   "metadata": {},
   "outputs": [
    {
     "data": {
      "text/plain": [
       "<AxesSubplot:xlabel='Purpose_Of_Loan'>"
      ]
     },
     "execution_count": 44,
     "metadata": {},
     "output_type": "execute_result"
    },
    {
     "data": {
      "image/png": "[encoded data removed]",
      "text/plain": [
       "<Figure size 640x480 with 1 Axes>"
      ]
     },
     "metadata": {},
     "output_type": "display_data"
    }
   ],
   "source": [
    "# ¿Están enfocados los préstamos en alguna categoría concreta del objetivo del préstamo?\n",
    "df.groupby(\"Purpose_Of_Loan\").agg(\"count\")[\"Interest_Rate\"].plot(kind=\"bar\")"
   ]
  },
  {
   "cell_type": "markdown",
   "id": "2ebbbc01",
   "metadata": {},
   "source": [
    "## 3.3 Limpieza final"
   ]
  },
  {
   "cell_type": "code",
   "execution_count": 45,
   "id": "3c945415",
   "metadata": {},
   "outputs": [
    {
     "data": {
      "text/plain": [
       "Annual_Income           -0.050086\n",
       "Total_Accounts          -0.040741\n",
       "Loan_ID                  0.001289\n",
       "Number_Open_Accounts     0.002849\n",
       "Length_Employed          0.029096\n",
       "Loan_Amount_Requested    0.132479\n",
       "Debt_To_Income           0.152470\n",
       "Inquiries_Last_6Mo       0.188993\n",
       "Interest_Rate            1.000000\n",
       "Name: Interest_Rate, dtype: float64"
      ]
     },
     "execution_count": 45,
     "metadata": {},
     "output_type": "execute_result"
    }
   ],
   "source": [
    "df.corr()[\"Interest_Rate\"].sort_values()"
   ]
  },
  {
   "cell_type": "code",
   "execution_count": 46,
   "id": "633df30b",
   "metadata": {},
   "outputs": [
    {
     "data": {
      "text/html": [
       "<div>\n",
       "<style scoped>\n",
       "    .dataframe tbody tr th:only-of-type {\n",
       "        vertical-align: middle;\n",
       "    }\n",
       "\n",
       "    .dataframe tbody tr th {\n",
       "        vertical-align: top;\n",
       "    }\n",
       "\n",
       "    .dataframe thead th {\n",
       "        text-align: right;\n",
       "    }\n",
       "</style>\n",
       "<table border=\"1\" class=\"dataframe\">\n",
       "  <thead>\n",
       "    <tr style=\"text-align: right;\">\n",
       "      <th></th>\n",
       "      <th>Loan_Amount_Requested</th>\n",
       "      <th>Length_Employed</th>\n",
       "      <th>Home_Owner</th>\n",
       "      <th>Annual_Income</th>\n",
       "      <th>Purpose_Of_Loan</th>\n",
       "      <th>Debt_To_Income</th>\n",
       "      <th>Inquiries_Last_6Mo</th>\n",
       "      <th>Total_Accounts</th>\n",
       "      <th>Gender</th>\n",
       "      <th>Interest_Rate</th>\n",
       "    </tr>\n",
       "  </thead>\n",
       "  <tbody>\n",
       "    <tr>\n",
       "      <th>0</th>\n",
       "      <td>7000</td>\n",
       "      <td>0.0</td>\n",
       "      <td>Rent</td>\n",
       "      <td>68000.00000</td>\n",
       "      <td>car</td>\n",
       "      <td>18.37</td>\n",
       "      <td>0</td>\n",
       "      <td>14</td>\n",
       "      <td>Female</td>\n",
       "      <td>1</td>\n",
       "    </tr>\n",
       "    <tr>\n",
       "      <th>1</th>\n",
       "      <td>30000</td>\n",
       "      <td>4.0</td>\n",
       "      <td>Mortgage</td>\n",
       "      <td>73993.44661</td>\n",
       "      <td>debt_consolidation</td>\n",
       "      <td>14.93</td>\n",
       "      <td>0</td>\n",
       "      <td>24</td>\n",
       "      <td>Female</td>\n",
       "      <td>3</td>\n",
       "    </tr>\n",
       "    <tr>\n",
       "      <th>2</th>\n",
       "      <td>24725</td>\n",
       "      <td>7.0</td>\n",
       "      <td>Mortgage</td>\n",
       "      <td>75566.40000</td>\n",
       "      <td>debt_consolidation</td>\n",
       "      <td>15.88</td>\n",
       "      <td>0</td>\n",
       "      <td>16</td>\n",
       "      <td>Male</td>\n",
       "      <td>3</td>\n",
       "    </tr>\n",
       "    <tr>\n",
       "      <th>3</th>\n",
       "      <td>16000</td>\n",
       "      <td>0.0</td>\n",
       "      <td>Rent</td>\n",
       "      <td>56160.00000</td>\n",
       "      <td>debt_consolidation</td>\n",
       "      <td>14.34</td>\n",
       "      <td>3</td>\n",
       "      <td>22</td>\n",
       "      <td>Male</td>\n",
       "      <td>3</td>\n",
       "    </tr>\n",
       "    <tr>\n",
       "      <th>4</th>\n",
       "      <td>17000</td>\n",
       "      <td>8.0</td>\n",
       "      <td>Own</td>\n",
       "      <td>96000.00000</td>\n",
       "      <td>debt_consolidation</td>\n",
       "      <td>22.17</td>\n",
       "      <td>1</td>\n",
       "      <td>30</td>\n",
       "      <td>Female</td>\n",
       "      <td>1</td>\n",
       "    </tr>\n",
       "  </tbody>\n",
       "</table>\n",
       "</div>"
      ],
      "text/plain": [
       "   Loan_Amount_Requested  Length_Employed Home_Owner  Annual_Income  \\\n",
       "0                   7000              0.0       Rent    68000.00000   \n",
       "1                  30000              4.0   Mortgage    73993.44661   \n",
       "2                  24725              7.0   Mortgage    75566.40000   \n",
       "3                  16000              0.0       Rent    56160.00000   \n",
       "4                  17000              8.0        Own    96000.00000   \n",
       "\n",
       "      Purpose_Of_Loan  Debt_To_Income  Inquiries_Last_6Mo  Total_Accounts  \\\n",
       "0                 car           18.37                   0              14   \n",
       "1  debt_consolidation           14.93                   0              24   \n",
       "2  debt_consolidation           15.88                   0              16   \n",
       "3  debt_consolidation           14.34                   3              22   \n",
       "4  debt_consolidation           22.17                   1              30   \n",
       "\n",
       "   Gender  Interest_Rate  \n",
       "0  Female              1  \n",
       "1  Female              3  \n",
       "2    Male              3  \n",
       "3    Male              3  \n",
       "4  Female              1  "
      ]
     },
     "execution_count": 46,
     "metadata": {},
     "output_type": "execute_result"
    }
   ],
   "source": [
    "df = df.drop(['Number_Open_Accounts','Loan_ID','Income_Verified'], axis=1)\n",
    "df.head(5)"
   ]
  },
  {
   "cell_type": "markdown",
   "id": "0aa96791",
   "metadata": {},
   "source": [
    "### 3.3.2 Limpieza temporal"
   ]
  },
  {
   "cell_type": "markdown",
   "id": "c40af5ed",
   "metadata": {},
   "source": [
    "### 3.3.3 Transformación variables categóricas"
   ]
  },
  {
   "cell_type": "code",
   "execution_count": 47,
   "id": "ca7e3d63",
   "metadata": {},
   "outputs": [
    {
     "data": {
      "text/plain": [
       "Mortgage    86375\n",
       "Rent        65349\n",
       "Own         12525\n",
       "Other          49\n",
       "None           10\n",
       "Name: Home_Owner, dtype: int64"
      ]
     },
     "execution_count": 47,
     "metadata": {},
     "output_type": "execute_result"
    }
   ],
   "source": [
    "# Analizar si tiene pocos valores para ver si le agreganos columnas dummy\n",
    "df[\"Home_Owner\"].value_counts()"
   ]
  },
  {
   "cell_type": "code",
   "execution_count": 48,
   "id": "e8abcb7d",
   "metadata": {},
   "outputs": [
    {
     "data": {
      "text/plain": [
       "debt_consolidation    97101\n",
       "credit_card           36684\n",
       "home_improvement       9268\n",
       "other                  8346\n",
       "major_purchase         3435\n",
       "small_business         2392\n",
       "car                    1885\n",
       "medical                1541\n",
       "moving                  974\n",
       "vacation                837\n",
       "wedding                 828\n",
       "house                   773\n",
       "renewable_energy        123\n",
       "educational             121\n",
       "Name: Purpose_Of_Loan, dtype: int64"
      ]
     },
     "execution_count": 48,
     "metadata": {},
     "output_type": "execute_result"
    }
   ],
   "source": [
    "df[\"Purpose_Of_Loan\"].value_counts()"
   ]
  },
  {
   "cell_type": "code",
   "execution_count": 49,
   "id": "8814e76d",
   "metadata": {},
   "outputs": [
    {
     "data": {
      "text/plain": [
       "Male      117175\n",
       "Female     47133\n",
       "Name: Gender, dtype: int64"
      ]
     },
     "execution_count": 49,
     "metadata": {},
     "output_type": "execute_result"
    }
   ],
   "source": [
    "df[\"Gender\"].value_counts()"
   ]
  },
  {
   "cell_type": "code",
   "execution_count": 50,
   "id": "7e3bb37a",
   "metadata": {},
   "outputs": [],
   "source": [
    "# Tansformar \"Home_Owner\"\n",
    "dummies = pd.get_dummies( df[['Home_Owner', 'Purpose_Of_Loan', 'Gender']] )\n",
    "df_post = pd.concat( [df, dummies], axis=1 )\n",
    "# Eliminamos las columnas originales\n",
    "df_post = df_post.drop(['Home_Owner', 'Purpose_Of_Loan', 'Gender'], axis=1)"
   ]
  },
  {
   "cell_type": "code",
   "execution_count": 51,
   "id": "a8fac377",
   "metadata": {},
   "outputs": [
    {
     "name": "stdout",
     "output_type": "stream",
     "text": [
      "<class 'pandas.core.frame.DataFrame'>\n",
      "Int64Index: 164308 entries, 0 to 164308\n",
      "Data columns (total 28 columns):\n",
      " #   Column                              Non-Null Count   Dtype  \n",
      "---  ------                              --------------   -----  \n",
      " 0   Loan_Amount_Requested               164308 non-null  int64  \n",
      " 1   Length_Employed                     164308 non-null  float64\n",
      " 2   Annual_Income                       164308 non-null  float64\n",
      " 3   Debt_To_Income                      164308 non-null  float64\n",
      " 4   Inquiries_Last_6Mo                  164308 non-null  int64  \n",
      " 5   Total_Accounts                      164308 non-null  int64  \n",
      " 6   Interest_Rate                       164308 non-null  int64  \n",
      " 7   Home_Owner_Mortgage                 164308 non-null  uint8  \n",
      " 8   Home_Owner_None                     164308 non-null  uint8  \n",
      " 9   Home_Owner_Other                    164308 non-null  uint8  \n",
      " 10  Home_Owner_Own                      164308 non-null  uint8  \n",
      " 11  Home_Owner_Rent                     164308 non-null  uint8  \n",
      " 12  Purpose_Of_Loan_car                 164308 non-null  uint8  \n",
      " 13  Purpose_Of_Loan_credit_card         164308 non-null  uint8  \n",
      " 14  Purpose_Of_Loan_debt_consolidation  164308 non-null  uint8  \n",
      " 15  Purpose_Of_Loan_educational         164308 non-null  uint8  \n",
      " 16  Purpose_Of_Loan_home_improvement    164308 non-null  uint8  \n",
      " 17  Purpose_Of_Loan_house               164308 non-null  uint8  \n",
      " 18  Purpose_Of_Loan_major_purchase      164308 non-null  uint8  \n",
      " 19  Purpose_Of_Loan_medical             164308 non-null  uint8  \n",
      " 20  Purpose_Of_Loan_moving              164308 non-null  uint8  \n",
      " 21  Purpose_Of_Loan_other               164308 non-null  uint8  \n",
      " 22  Purpose_Of_Loan_renewable_energy    164308 non-null  uint8  \n",
      " 23  Purpose_Of_Loan_small_business      164308 non-null  uint8  \n",
      " 24  Purpose_Of_Loan_vacation            164308 non-null  uint8  \n",
      " 25  Purpose_Of_Loan_wedding             164308 non-null  uint8  \n",
      " 26  Gender_Female                       164308 non-null  uint8  \n",
      " 27  Gender_Male                         164308 non-null  uint8  \n",
      "dtypes: float64(3), int64(4), uint8(21)\n",
      "memory usage: 13.3 MB\n"
     ]
    }
   ],
   "source": [
    "df_post.info()"
   ]
  },
  {
   "cell_type": "markdown",
   "id": "4b727164",
   "metadata": {},
   "source": [
    "# 4.Train Test Split"
   ]
  },
  {
   "cell_type": "code",
   "execution_count": 52,
   "id": "e1a97e99",
   "metadata": {},
   "outputs": [],
   "source": [
    "x = df_post.drop(\"Interest_Rate\", axis=1).values\n",
    "y = df_post[\"Interest_Rate\"]"
   ]
  },
  {
   "cell_type": "code",
   "execution_count": 53,
   "id": "32160ce4",
   "metadata": {},
   "outputs": [],
   "source": [
    "y = pd.get_dummies(y)"
   ]
  },
  {
   "cell_type": "code",
   "execution_count": 54,
   "id": "dbe3a4bf",
   "metadata": {},
   "outputs": [
    {
     "name": "stdout",
     "output_type": "stream",
     "text": [
      "[[7.00000000e+03 0.00000000e+00 6.80000000e+04 ... 0.00000000e+00\n",
      "  1.00000000e+00 0.00000000e+00]\n",
      " [3.00000000e+04 4.00000000e+00 7.39934466e+04 ... 0.00000000e+00\n",
      "  1.00000000e+00 0.00000000e+00]\n",
      " [2.47250000e+04 7.00000000e+00 7.55664000e+04 ... 0.00000000e+00\n",
      "  0.00000000e+00 1.00000000e+00]\n",
      " ...\n",
      " [2.02500000e+04 1.00000000e+01 8.05713091e+04 ... 0.00000000e+00\n",
      "  0.00000000e+00 1.00000000e+00]\n",
      " [1.00000000e+04 4.00000000e+00 9.90043853e+04 ... 0.00000000e+00\n",
      "  1.00000000e+00 0.00000000e+00]\n",
      " [9.25000000e+03 1.00000000e+01 5.24778918e+04 ... 0.00000000e+00\n",
      "  1.00000000e+00 0.00000000e+00]]\n",
      "[[1 0 0]\n",
      " [0 0 1]\n",
      " [0 0 1]\n",
      " ...\n",
      " [1 0 0]\n",
      " [0 0 1]\n",
      " [0 1 0]]\n"
     ]
    }
   ],
   "source": [
    "y = y.values\n",
    "print(x)\n",
    "print(y)"
   ]
  },
  {
   "cell_type": "code",
   "execution_count": 55,
   "id": "e03ead54",
   "metadata": {},
   "outputs": [],
   "source": [
    "from sklearn.model_selection import train_test_split"
   ]
  },
  {
   "cell_type": "code",
   "execution_count": 56,
   "id": "e2e996ab",
   "metadata": {},
   "outputs": [],
   "source": [
    "x_train, x_test, y_train, y_test = train_test_split( x, y, test_size=0.25, random_state=101 )"
   ]
  },
  {
   "cell_type": "code",
   "execution_count": 57,
   "id": "c0071d04",
   "metadata": {},
   "outputs": [
    {
     "data": {
      "text/plain": [
       "(123231, 27)"
      ]
     },
     "execution_count": 57,
     "metadata": {},
     "output_type": "execute_result"
    }
   ],
   "source": [
    "x_train.shape"
   ]
  },
  {
   "cell_type": "code",
   "execution_count": 58,
   "id": "a4b54d8a",
   "metadata": {},
   "outputs": [
    {
     "data": {
      "text/plain": [
       "(41077, 27)"
      ]
     },
     "execution_count": 58,
     "metadata": {},
     "output_type": "execute_result"
    }
   ],
   "source": [
    "x_test.shape"
   ]
  },
  {
   "cell_type": "markdown",
   "id": "1abc2c95",
   "metadata": {},
   "source": [
    "# 5.Escalado"
   ]
  },
  {
   "cell_type": "code",
   "execution_count": 59,
   "id": "1690ff1b",
   "metadata": {},
   "outputs": [],
   "source": [
    "from sklearn.preprocessing import MinMaxScaler"
   ]
  },
  {
   "cell_type": "code",
   "execution_count": 60,
   "id": "b53f30ab",
   "metadata": {},
   "outputs": [],
   "source": [
    "scaler = MinMaxScaler()"
   ]
  },
  {
   "cell_type": "code",
   "execution_count": 61,
   "id": "8a4f2a63",
   "metadata": {},
   "outputs": [
    {
     "data": {
      "text/plain": [
       "MinMaxScaler()"
      ]
     },
     "execution_count": 61,
     "metadata": {},
     "output_type": "execute_result"
    }
   ],
   "source": [
    "# Ya que las columnas numéricas tienen comas esto devolverá el siguiente error\n",
    "# ValueError: could not convert string to float\n",
    "\n",
    "# Por lo tanto creamos este método para convertir los elementos de\n",
    "# un numpy.ndarray desde string hacia float\n",
    "# def strNPArrayToFloatNPArray(strArray):\n",
    "#     x_train_pd = pd.DataFrame(data=strArray)\n",
    "#     x_replace = x_train_pd.replace(\",\", \"\", regex=True)\n",
    "#     x_array = x_replace.values\n",
    "#     return x_array.astype(float)\n",
    "\n",
    "# x_train = strNPArrayToFloatNPArray(x_train)\n",
    "# x_test = strNPArrayToFloatNPArray(x_test)\n",
    "scaler.fit(x_train)"
   ]
  },
  {
   "cell_type": "code",
   "execution_count": 62,
   "id": "105c85e0",
   "metadata": {},
   "outputs": [],
   "source": [
    "x_train = scaler.transform(x_train)\n",
    "x_test = scaler.transform(x_test)"
   ]
  },
  {
   "cell_type": "code",
   "execution_count": 63,
   "id": "ddaaeb28",
   "metadata": {},
   "outputs": [
    {
     "data": {
      "text/plain": [
       "(123231, 27)"
      ]
     },
     "execution_count": 63,
     "metadata": {},
     "output_type": "execute_result"
    }
   ],
   "source": [
    "x_train.shape"
   ]
  },
  {
   "cell_type": "code",
   "execution_count": 64,
   "id": "00620138",
   "metadata": {},
   "outputs": [
    {
     "data": {
      "text/plain": [
       "(41077, 27)"
      ]
     },
     "execution_count": 64,
     "metadata": {},
     "output_type": "execute_result"
    }
   ],
   "source": [
    "x_test.shape"
   ]
  },
  {
   "cell_type": "code",
   "execution_count": 65,
   "id": "981de8a2",
   "metadata": {},
   "outputs": [
    {
     "data": {
      "text/plain": [
       "array([[0.27536232, 0.3       , 0.00853789, ..., 0.        , 0.        ,\n",
       "        1.        ],\n",
       "       [0.44927536, 0.9       , 0.00693703, ..., 0.        , 0.        ,\n",
       "        1.        ],\n",
       "       [0.55072464, 0.1       , 0.00747065, ..., 0.        , 0.        ,\n",
       "        1.        ],\n",
       "       ...,\n",
       "       [1.        , 1.        , 0.01463047, ..., 0.        , 0.        ,\n",
       "        1.        ],\n",
       "       [0.28985507, 0.8       , 0.00996868, ..., 0.        , 0.        ,\n",
       "        1.        ],\n",
       "       [0.09275362, 0.63988426, 0.00322839, ..., 0.        , 0.        ,\n",
       "        1.        ]])"
      ]
     },
     "execution_count": 65,
     "metadata": {},
     "output_type": "execute_result"
    }
   ],
   "source": [
    "x_train"
   ]
  },
  {
   "cell_type": "code",
   "execution_count": 66,
   "metadata": {},
   "outputs": [
    {
     "data": {
      "text/plain": [
       "1.0"
      ]
     },
     "execution_count": 66,
     "metadata": {},
     "output_type": "execute_result"
    }
   ],
   "source": [
    "x_train.max()"
   ]
  },
  {
   "cell_type": "markdown",
   "id": "fbe0c6d2",
   "metadata": {},
   "source": [
    "# 6.Creación del modelo\n",
    "\n",
    "    # Para un problema de clasificación multiclase\n",
    "    model.compile(optimizer='adam',\n",
    "                  loss='categorical_crossentropy',\n",
    "                  metrics=['accuracy'])\n",
    "                  \n",
    "    "
   ]
  },
  {
   "cell_type": "code",
   "execution_count": 67,
   "id": "2b98b1fe",
   "metadata": {},
   "outputs": [
    {
     "name": "stderr",
     "output_type": "stream",
     "text": [
      "2023-03-12 13:38:33.432897: I tensorflow/core/platform/cpu_feature_guard.cc:193] This TensorFlow binary is optimized with oneAPI Deep Neural Network Library (oneDNN) to use the following CPU instructions in performance-critical operations:  AVX2 FMA\n",
      "To enable them in other operations, rebuild TensorFlow with the appropriate compiler flags.\n",
      "2023-03-12 13:38:33.749054: W tensorflow/compiler/xla/stream_executor/platform/default/dso_loader.cc:64] Could not load dynamic library 'libcudart.so.11.0'; dlerror: libcudart.so.11.0: cannot open shared object file: No such file or directory\n",
      "2023-03-12 13:38:33.749096: I tensorflow/compiler/xla/stream_executor/cuda/cudart_stub.cc:29] Ignore above cudart dlerror if you do not have a GPU set up on your machine.\n",
      "2023-03-12 13:38:34.889260: W tensorflow/compiler/xla/stream_executor/platform/default/dso_loader.cc:64] Could not load dynamic library 'libnvinfer.so.7'; dlerror: libnvinfer.so.7: cannot open shared object file: No such file or directory\n",
      "2023-03-12 13:38:34.889396: W tensorflow/compiler/xla/stream_executor/platform/default/dso_loader.cc:64] Could not load dynamic library 'libnvinfer_plugin.so.7'; dlerror: libnvinfer_plugin.so.7: cannot open shared object file: No such file or directory\n",
      "2023-03-12 13:38:34.889402: W tensorflow/compiler/tf2tensorrt/utils/py_utils.cc:38] TF-TRT Warning: Cannot dlopen some TensorRT libraries. If you would like to use Nvidia GPU with TensorRT, please make sure the missing libraries mentioned above are installed properly.\n"
     ]
    }
   ],
   "source": [
    "import tensorflow as tf\n",
    "from tensorflow.keras.models import Sequential\n",
    "from tensorflow.keras.layers import Dense, Activation, Dropout"
   ]
  },
  {
   "cell_type": "code",
   "execution_count": 68,
   "id": "7b0edd58",
   "metadata": {},
   "outputs": [
    {
     "data": {
      "text/plain": [
       "(123231, 27)"
      ]
     },
     "execution_count": 68,
     "metadata": {},
     "output_type": "execute_result"
    }
   ],
   "source": [
    "x_train.shape"
   ]
  },
  {
   "cell_type": "code",
   "execution_count": 69,
   "id": "8f9a07f9",
   "metadata": {},
   "outputs": [
    {
     "name": "stderr",
     "output_type": "stream",
     "text": [
      "2023-03-12 13:38:36.377710: I tensorflow/compiler/xla/stream_executor/cuda/cuda_gpu_executor.cc:981] successful NUMA node read from SysFS had negative value (-1), but there must be at least one NUMA node, so returning NUMA node zero\n",
      "2023-03-12 13:38:36.377956: W tensorflow/compiler/xla/stream_executor/platform/default/dso_loader.cc:64] Could not load dynamic library 'libcudart.so.11.0'; dlerror: libcudart.so.11.0: cannot open shared object file: No such file or directory\n",
      "2023-03-12 13:38:36.378038: W tensorflow/compiler/xla/stream_executor/platform/default/dso_loader.cc:64] Could not load dynamic library 'libcublas.so.11'; dlerror: libcublas.so.11: cannot open shared object file: No such file or directory\n",
      "2023-03-12 13:38:36.378090: W tensorflow/compiler/xla/stream_executor/platform/default/dso_loader.cc:64] Could not load dynamic library 'libcublasLt.so.11'; dlerror: libcublasLt.so.11: cannot open shared object file: No such file or directory\n",
      "2023-03-12 13:38:36.378137: W tensorflow/compiler/xla/stream_executor/platform/default/dso_loader.cc:64] Could not load dynamic library 'libcufft.so.10'; dlerror: libcufft.so.10: cannot open shared object file: No such file or directory\n",
      "2023-03-12 13:38:36.378179: W tensorflow/compiler/xla/stream_executor/platform/default/dso_loader.cc:64] Could not load dynamic library 'libcurand.so.10'; dlerror: libcurand.so.10: cannot open shared object file: No such file or directory\n",
      "2023-03-12 13:38:36.378220: W tensorflow/compiler/xla/stream_executor/platform/default/dso_loader.cc:64] Could not load dynamic library 'libcusolver.so.11'; dlerror: libcusolver.so.11: cannot open shared object file: No such file or directory\n",
      "2023-03-12 13:38:36.378259: W tensorflow/compiler/xla/stream_executor/platform/default/dso_loader.cc:64] Could not load dynamic library 'libcusparse.so.11'; dlerror: libcusparse.so.11: cannot open shared object file: No such file or directory\n",
      "2023-03-12 13:38:36.378301: W tensorflow/compiler/xla/stream_executor/platform/default/dso_loader.cc:64] Could not load dynamic library 'libcudnn.so.8'; dlerror: libcudnn.so.8: cannot open shared object file: No such file or directory\n",
      "2023-03-12 13:38:36.378308: W tensorflow/core/common_runtime/gpu/gpu_device.cc:1934] Cannot dlopen some GPU libraries. Please make sure the missing libraries mentioned above are installed properly if you would like to use GPU. Follow the guide at https://www.tensorflow.org/install/gpu for how to download and setup the required libraries for your platform.\n",
      "Skipping registering GPU devices...\n",
      "2023-03-12 13:38:36.379346: I tensorflow/core/platform/cpu_feature_guard.cc:193] This TensorFlow binary is optimized with oneAPI Deep Neural Network Library (oneDNN) to use the following CPU instructions in performance-critical operations:  AVX2 FMA\n",
      "To enable them in other operations, rebuild TensorFlow with the appropriate compiler flags.\n"
     ]
    }
   ],
   "source": [
    "model = Sequential()\n",
    "# Elegir número de neuronas\n",
    "neuronas = x_train.shape[1]\n",
    "neuronas_salida = len(df[\"Interest_Rate\"].unique())\n",
    "\n",
    "# Agregar capas\n",
    "model.add( Dense( units=neuronas, activation='relu' ) )\n",
    "model.add( Dense( units=np.round(neuronas/2), activation='relu' ) )\n",
    "model.add( Dense( units=neuronas_salida, activation='softmax' ) ) # softmax relaciona las categorías entre si\n",
    "\n",
    "# Para una clasificación multiclase usamos \"categorical_crossentropy\"\n",
    "model.compile( loss=\"categorical_crossentropy\", optimizer=\"adam\", metrics=[\"categorical_accuracy\"] )"
   ]
  },
  {
   "cell_type": "markdown",
   "id": "7d68c394",
   "metadata": {},
   "source": [
    "# 7. Entrenamiento del modelo"
   ]
  },
  {
   "cell_type": "code",
   "execution_count": 70,
   "id": "4739f3a8",
   "metadata": {},
   "outputs": [],
   "source": [
    "from tensorflow.keras.callbacks import EarlyStopping\n",
    "early_stop = EarlyStopping( monitor=\"val_loss\", mode=\"min\", verbose=1, patience=15 )"
   ]
  },
  {
   "cell_type": "code",
   "execution_count": 71,
   "id": "7ad08bba",
   "metadata": {},
   "outputs": [
    {
     "name": "stdout",
     "output_type": "stream",
     "text": [
      "Epoch 1/200\n",
      "482/482 [==============================] - 1s 2ms/step - loss: 1.0012 - categorical_accuracy: 0.4888 - val_loss: 0.9626 - val_categorical_accuracy: 0.5187\n",
      "Epoch 2/200\n",
      "482/482 [==============================] - 1s 1ms/step - loss: 0.9614 - categorical_accuracy: 0.5189 - val_loss: 0.9587 - val_categorical_accuracy: 0.5237\n",
      "Epoch 3/200\n",
      "482/482 [==============================] - 1s 1ms/step - loss: 0.9593 - categorical_accuracy: 0.5202 - val_loss: 0.9589 - val_categorical_accuracy: 0.5224\n",
      "Epoch 4/200\n",
      "482/482 [==============================] - 1s 1ms/step - loss: 0.9580 - categorical_accuracy: 0.5200 - val_loss: 0.9577 - val_categorical_accuracy: 0.5227\n",
      "Epoch 5/200\n",
      "482/482 [==============================] - 1s 1ms/step - loss: 0.9572 - categorical_accuracy: 0.5205 - val_loss: 0.9530 - val_categorical_accuracy: 0.5261\n",
      "Epoch 6/200\n",
      "482/482 [==============================] - 1s 1ms/step - loss: 0.9557 - categorical_accuracy: 0.5210 - val_loss: 0.9533 - val_categorical_accuracy: 0.5248\n",
      "Epoch 7/200\n",
      "482/482 [==============================] - 1s 1ms/step - loss: 0.9545 - categorical_accuracy: 0.5216 - val_loss: 0.9532 - val_categorical_accuracy: 0.5231\n",
      "Epoch 8/200\n",
      "482/482 [==============================] - 1s 2ms/step - loss: 0.9533 - categorical_accuracy: 0.5232 - val_loss: 0.9526 - val_categorical_accuracy: 0.5246\n",
      "Epoch 9/200\n",
      "482/482 [==============================] - 1s 1ms/step - loss: 0.9525 - categorical_accuracy: 0.5230 - val_loss: 0.9494 - val_categorical_accuracy: 0.5272\n",
      "Epoch 10/200\n",
      "482/482 [==============================] - 1s 1ms/step - loss: 0.9519 - categorical_accuracy: 0.5230 - val_loss: 0.9498 - val_categorical_accuracy: 0.5270\n",
      "Epoch 11/200\n",
      "482/482 [==============================] - 1s 1ms/step - loss: 0.9515 - categorical_accuracy: 0.5243 - val_loss: 0.9490 - val_categorical_accuracy: 0.5268\n",
      "Epoch 12/200\n",
      "482/482 [==============================] - 1s 2ms/step - loss: 0.9511 - categorical_accuracy: 0.5241 - val_loss: 0.9482 - val_categorical_accuracy: 0.5265\n",
      "Epoch 13/200\n",
      "482/482 [==============================] - 1s 1ms/step - loss: 0.9507 - categorical_accuracy: 0.5242 - val_loss: 0.9480 - val_categorical_accuracy: 0.5258\n",
      "Epoch 14/200\n",
      "482/482 [==============================] - 1s 2ms/step - loss: 0.9505 - categorical_accuracy: 0.5248 - val_loss: 0.9484 - val_categorical_accuracy: 0.5274\n",
      "Epoch 15/200\n",
      "482/482 [==============================] - 1s 2ms/step - loss: 0.9498 - categorical_accuracy: 0.5255 - val_loss: 0.9491 - val_categorical_accuracy: 0.5259\n",
      "Epoch 16/200\n",
      "482/482 [==============================] - 1s 2ms/step - loss: 0.9494 - categorical_accuracy: 0.5245 - val_loss: 0.9506 - val_categorical_accuracy: 0.5244\n",
      "Epoch 17/200\n",
      "482/482 [==============================] - 1s 2ms/step - loss: 0.9495 - categorical_accuracy: 0.5250 - val_loss: 0.9477 - val_categorical_accuracy: 0.5275\n",
      "Epoch 18/200\n",
      "482/482 [==============================] - 1s 2ms/step - loss: 0.9491 - categorical_accuracy: 0.5252 - val_loss: 0.9498 - val_categorical_accuracy: 0.5258\n",
      "Epoch 19/200\n",
      "482/482 [==============================] - 1s 2ms/step - loss: 0.9490 - categorical_accuracy: 0.5248 - val_loss: 0.9471 - val_categorical_accuracy: 0.5285\n",
      "Epoch 20/200\n",
      "482/482 [==============================] - 1s 2ms/step - loss: 0.9487 - categorical_accuracy: 0.5261 - val_loss: 0.9479 - val_categorical_accuracy: 0.5256\n",
      "Epoch 21/200\n",
      "482/482 [==============================] - 1s 1ms/step - loss: 0.9484 - categorical_accuracy: 0.5252 - val_loss: 0.9470 - val_categorical_accuracy: 0.5264\n",
      "Epoch 22/200\n",
      "482/482 [==============================] - 1s 2ms/step - loss: 0.9482 - categorical_accuracy: 0.5256 - val_loss: 0.9469 - val_categorical_accuracy: 0.5282\n",
      "Epoch 23/200\n",
      "482/482 [==============================] - 1s 2ms/step - loss: 0.9481 - categorical_accuracy: 0.5258 - val_loss: 0.9465 - val_categorical_accuracy: 0.5282\n",
      "Epoch 24/200\n",
      "482/482 [==============================] - 1s 1ms/step - loss: 0.9480 - categorical_accuracy: 0.5261 - val_loss: 0.9465 - val_categorical_accuracy: 0.5264\n",
      "Epoch 25/200\n",
      "482/482 [==============================] - 1s 1ms/step - loss: 0.9477 - categorical_accuracy: 0.5265 - val_loss: 0.9465 - val_categorical_accuracy: 0.5273\n",
      "Epoch 26/200\n",
      "482/482 [==============================] - 1s 1ms/step - loss: 0.9476 - categorical_accuracy: 0.5263 - val_loss: 0.9472 - val_categorical_accuracy: 0.5281\n",
      "Epoch 27/200\n",
      "482/482 [==============================] - 1s 2ms/step - loss: 0.9476 - categorical_accuracy: 0.5262 - val_loss: 0.9464 - val_categorical_accuracy: 0.5269\n",
      "Epoch 28/200\n",
      "482/482 [==============================] - 1s 1ms/step - loss: 0.9474 - categorical_accuracy: 0.5262 - val_loss: 0.9465 - val_categorical_accuracy: 0.5269\n",
      "Epoch 29/200\n",
      "482/482 [==============================] - 0s 1ms/step - loss: 0.9473 - categorical_accuracy: 0.5274 - val_loss: 0.9466 - val_categorical_accuracy: 0.5281\n",
      "Epoch 30/200\n",
      "482/482 [==============================] - 1s 1ms/step - loss: 0.9471 - categorical_accuracy: 0.5269 - val_loss: 0.9463 - val_categorical_accuracy: 0.5278\n",
      "Epoch 31/200\n",
      "482/482 [==============================] - 0s 1ms/step - loss: 0.9471 - categorical_accuracy: 0.5263 - val_loss: 0.9469 - val_categorical_accuracy: 0.5260\n",
      "Epoch 32/200\n",
      "482/482 [==============================] - 1s 1ms/step - loss: 0.9469 - categorical_accuracy: 0.5263 - val_loss: 0.9461 - val_categorical_accuracy: 0.5274\n",
      "Epoch 33/200\n",
      "482/482 [==============================] - 1s 1ms/step - loss: 0.9468 - categorical_accuracy: 0.5259 - val_loss: 0.9461 - val_categorical_accuracy: 0.5273\n",
      "Epoch 34/200\n",
      "482/482 [==============================] - 1s 1ms/step - loss: 0.9469 - categorical_accuracy: 0.5265 - val_loss: 0.9454 - val_categorical_accuracy: 0.5278\n",
      "Epoch 35/200\n",
      "482/482 [==============================] - 1s 1ms/step - loss: 0.9464 - categorical_accuracy: 0.5272 - val_loss: 0.9455 - val_categorical_accuracy: 0.5276\n",
      "Epoch 36/200\n",
      "482/482 [==============================] - 1s 1ms/step - loss: 0.9462 - categorical_accuracy: 0.5275 - val_loss: 0.9459 - val_categorical_accuracy: 0.5268\n",
      "Epoch 37/200\n",
      "482/482 [==============================] - 1s 1ms/step - loss: 0.9464 - categorical_accuracy: 0.5272 - val_loss: 0.9459 - val_categorical_accuracy: 0.5268\n",
      "Epoch 38/200\n",
      "482/482 [==============================] - 1s 1ms/step - loss: 0.9462 - categorical_accuracy: 0.5280 - val_loss: 0.9462 - val_categorical_accuracy: 0.5269\n",
      "Epoch 39/200\n",
      "482/482 [==============================] - 1s 1ms/step - loss: 0.9462 - categorical_accuracy: 0.5269 - val_loss: 0.9466 - val_categorical_accuracy: 0.5260\n",
      "Epoch 40/200\n",
      "482/482 [==============================] - 1s 1ms/step - loss: 0.9459 - categorical_accuracy: 0.5276 - val_loss: 0.9455 - val_categorical_accuracy: 0.5291\n",
      "Epoch 41/200\n",
      "482/482 [==============================] - 1s 1ms/step - loss: 0.9459 - categorical_accuracy: 0.5277 - val_loss: 0.9456 - val_categorical_accuracy: 0.5276\n",
      "Epoch 42/200\n",
      "482/482 [==============================] - 1s 1ms/step - loss: 0.9457 - categorical_accuracy: 0.5278 - val_loss: 0.9469 - val_categorical_accuracy: 0.5265\n",
      "Epoch 43/200\n",
      "482/482 [==============================] - 1s 1ms/step - loss: 0.9457 - categorical_accuracy: 0.5290 - val_loss: 0.9449 - val_categorical_accuracy: 0.5283\n",
      "Epoch 44/200\n",
      "482/482 [==============================] - 1s 1ms/step - loss: 0.9458 - categorical_accuracy: 0.5282 - val_loss: 0.9462 - val_categorical_accuracy: 0.5270\n",
      "Epoch 45/200\n",
      "482/482 [==============================] - 1s 1ms/step - loss: 0.9457 - categorical_accuracy: 0.5273 - val_loss: 0.9452 - val_categorical_accuracy: 0.5293\n",
      "Epoch 46/200\n",
      "482/482 [==============================] - 1s 1ms/step - loss: 0.9454 - categorical_accuracy: 0.5276 - val_loss: 0.9457 - val_categorical_accuracy: 0.5270\n",
      "Epoch 47/200\n",
      "482/482 [==============================] - 0s 977us/step - loss: 0.9452 - categorical_accuracy: 0.5291 - val_loss: 0.9451 - val_categorical_accuracy: 0.5275\n",
      "Epoch 48/200\n",
      "482/482 [==============================] - 1s 1ms/step - loss: 0.9451 - categorical_accuracy: 0.5282 - val_loss: 0.9455 - val_categorical_accuracy: 0.5270\n",
      "Epoch 49/200\n",
      "482/482 [==============================] - 1s 1ms/step - loss: 0.9453 - categorical_accuracy: 0.5289 - val_loss: 0.9453 - val_categorical_accuracy: 0.5283\n",
      "Epoch 50/200\n",
      "482/482 [==============================] - 0s 1ms/step - loss: 0.9456 - categorical_accuracy: 0.5284 - val_loss: 0.9457 - val_categorical_accuracy: 0.5275\n",
      "Epoch 51/200\n",
      "482/482 [==============================] - 1s 1ms/step - loss: 0.9451 - categorical_accuracy: 0.5281 - val_loss: 0.9454 - val_categorical_accuracy: 0.5281\n",
      "Epoch 52/200\n",
      "482/482 [==============================] - 1s 1ms/step - loss: 0.9450 - categorical_accuracy: 0.5290 - val_loss: 0.9452 - val_categorical_accuracy: 0.5282\n",
      "Epoch 53/200\n",
      "482/482 [==============================] - 1s 1ms/step - loss: 0.9450 - categorical_accuracy: 0.5285 - val_loss: 0.9462 - val_categorical_accuracy: 0.5264\n",
      "Epoch 54/200\n",
      "482/482 [==============================] - 1s 1ms/step - loss: 0.9453 - categorical_accuracy: 0.5281 - val_loss: 0.9453 - val_categorical_accuracy: 0.5283\n",
      "Epoch 55/200\n",
      "482/482 [==============================] - 1s 1ms/step - loss: 0.9447 - categorical_accuracy: 0.5282 - val_loss: 0.9447 - val_categorical_accuracy: 0.5273\n",
      "Epoch 56/200\n",
      "482/482 [==============================] - 1s 1ms/step - loss: 0.9446 - categorical_accuracy: 0.5286 - val_loss: 0.9469 - val_categorical_accuracy: 0.5276\n",
      "Epoch 57/200\n",
      "482/482 [==============================] - 0s 1ms/step - loss: 0.9446 - categorical_accuracy: 0.5282 - val_loss: 0.9454 - val_categorical_accuracy: 0.5265\n",
      "Epoch 58/200\n",
      "482/482 [==============================] - 0s 1ms/step - loss: 0.9446 - categorical_accuracy: 0.5288 - val_loss: 0.9459 - val_categorical_accuracy: 0.5277\n",
      "Epoch 59/200\n",
      "482/482 [==============================] - 1s 1ms/step - loss: 0.9444 - categorical_accuracy: 0.5290 - val_loss: 0.9468 - val_categorical_accuracy: 0.5280\n",
      "Epoch 60/200\n",
      "482/482 [==============================] - 1s 1ms/step - loss: 0.9442 - categorical_accuracy: 0.5280 - val_loss: 0.9453 - val_categorical_accuracy: 0.5282\n",
      "Epoch 61/200\n",
      "482/482 [==============================] - 0s 1ms/step - loss: 0.9440 - categorical_accuracy: 0.5293 - val_loss: 0.9462 - val_categorical_accuracy: 0.5276\n",
      "Epoch 62/200\n",
      "482/482 [==============================] - 1s 1ms/step - loss: 0.9443 - categorical_accuracy: 0.5285 - val_loss: 0.9447 - val_categorical_accuracy: 0.5289\n",
      "Epoch 63/200\n",
      "482/482 [==============================] - 1s 1ms/step - loss: 0.9441 - categorical_accuracy: 0.5289 - val_loss: 0.9449 - val_categorical_accuracy: 0.5265\n",
      "Epoch 64/200\n",
      "482/482 [==============================] - 1s 1ms/step - loss: 0.9439 - categorical_accuracy: 0.5292 - val_loss: 0.9451 - val_categorical_accuracy: 0.5283\n",
      "Epoch 65/200\n",
      "482/482 [==============================] - 1s 1ms/step - loss: 0.9443 - categorical_accuracy: 0.5288 - val_loss: 0.9449 - val_categorical_accuracy: 0.5276\n",
      "Epoch 66/200\n",
      "482/482 [==============================] - 1s 1ms/step - loss: 0.9438 - categorical_accuracy: 0.5295 - val_loss: 0.9450 - val_categorical_accuracy: 0.5273\n",
      "Epoch 67/200\n",
      "482/482 [==============================] - 1s 1ms/step - loss: 0.9439 - categorical_accuracy: 0.5297 - val_loss: 0.9452 - val_categorical_accuracy: 0.5278\n",
      "Epoch 68/200\n",
      "482/482 [==============================] - 1s 1ms/step - loss: 0.9438 - categorical_accuracy: 0.5297 - val_loss: 0.9444 - val_categorical_accuracy: 0.5285\n",
      "Epoch 69/200\n",
      "482/482 [==============================] - 1s 1ms/step - loss: 0.9435 - categorical_accuracy: 0.5295 - val_loss: 0.9445 - val_categorical_accuracy: 0.5279\n",
      "Epoch 70/200\n",
      "482/482 [==============================] - 0s 1ms/step - loss: 0.9436 - categorical_accuracy: 0.5293 - val_loss: 0.9447 - val_categorical_accuracy: 0.5275\n",
      "Epoch 71/200\n",
      "482/482 [==============================] - 1s 1ms/step - loss: 0.9434 - categorical_accuracy: 0.5295 - val_loss: 0.9474 - val_categorical_accuracy: 0.5275\n",
      "Epoch 72/200\n",
      "482/482 [==============================] - 1s 1ms/step - loss: 0.9434 - categorical_accuracy: 0.5294 - val_loss: 0.9442 - val_categorical_accuracy: 0.5292\n",
      "Epoch 73/200\n",
      "482/482 [==============================] - 1s 1ms/step - loss: 0.9436 - categorical_accuracy: 0.5300 - val_loss: 0.9452 - val_categorical_accuracy: 0.5275\n",
      "Epoch 74/200\n",
      "482/482 [==============================] - 1s 1ms/step - loss: 0.9433 - categorical_accuracy: 0.5299 - val_loss: 0.9443 - val_categorical_accuracy: 0.5281\n",
      "Epoch 75/200\n",
      "482/482 [==============================] - 1s 1ms/step - loss: 0.9432 - categorical_accuracy: 0.5289 - val_loss: 0.9442 - val_categorical_accuracy: 0.5281\n",
      "Epoch 76/200\n",
      "482/482 [==============================] - 1s 1ms/step - loss: 0.9432 - categorical_accuracy: 0.5305 - val_loss: 0.9453 - val_categorical_accuracy: 0.5268\n",
      "Epoch 77/200\n",
      "482/482 [==============================] - 1s 1ms/step - loss: 0.9430 - categorical_accuracy: 0.5300 - val_loss: 0.9447 - val_categorical_accuracy: 0.5280\n",
      "Epoch 78/200\n",
      "482/482 [==============================] - 1s 1ms/step - loss: 0.9429 - categorical_accuracy: 0.5299 - val_loss: 0.9452 - val_categorical_accuracy: 0.5283\n",
      "Epoch 79/200\n",
      "482/482 [==============================] - 1s 1ms/step - loss: 0.9429 - categorical_accuracy: 0.5292 - val_loss: 0.9453 - val_categorical_accuracy: 0.5278\n",
      "Epoch 80/200\n",
      "482/482 [==============================] - 1s 1ms/step - loss: 0.9428 - categorical_accuracy: 0.5297 - val_loss: 0.9444 - val_categorical_accuracy: 0.5290\n",
      "Epoch 81/200\n",
      "482/482 [==============================] - 1s 1ms/step - loss: 0.9429 - categorical_accuracy: 0.5289 - val_loss: 0.9450 - val_categorical_accuracy: 0.5282\n",
      "Epoch 82/200\n",
      "482/482 [==============================] - 1s 1ms/step - loss: 0.9429 - categorical_accuracy: 0.5291 - val_loss: 0.9445 - val_categorical_accuracy: 0.5279\n",
      "Epoch 83/200\n",
      "482/482 [==============================] - 1s 1ms/step - loss: 0.9428 - categorical_accuracy: 0.5297 - val_loss: 0.9450 - val_categorical_accuracy: 0.5277\n",
      "Epoch 84/200\n",
      "482/482 [==============================] - 1s 1ms/step - loss: 0.9429 - categorical_accuracy: 0.5294 - val_loss: 0.9443 - val_categorical_accuracy: 0.5271\n",
      "Epoch 85/200\n",
      "482/482 [==============================] - 1s 1ms/step - loss: 0.9429 - categorical_accuracy: 0.5299 - val_loss: 0.9450 - val_categorical_accuracy: 0.5276\n",
      "Epoch 86/200\n",
      "482/482 [==============================] - 1s 1ms/step - loss: 0.9426 - categorical_accuracy: 0.5299 - val_loss: 0.9445 - val_categorical_accuracy: 0.5272\n",
      "Epoch 87/200\n",
      "482/482 [==============================] - 1s 1ms/step - loss: 0.9427 - categorical_accuracy: 0.5298 - val_loss: 0.9444 - val_categorical_accuracy: 0.5292\n",
      "Epoch 87: early stopping\n"
     ]
    },
    {
     "data": {
      "text/plain": [
       "<keras.callbacks.History at 0x7f44480794f0>"
      ]
     },
     "execution_count": 71,
     "metadata": {},
     "output_type": "execute_result"
    }
   ],
   "source": [
    "model.fit(\n",
    "    x=x_train,\n",
    "    y=y_train,\n",
    "    epochs=200,\n",
    "    batch_size=256,\n",
    "    validation_data=(x_test, y_test),\n",
    "    verbose=1,\n",
    "    callbacks=[early_stop]\n",
    ")"
   ]
  },
  {
   "cell_type": "code",
   "execution_count": 72,
   "id": "09d7b336",
   "metadata": {},
   "outputs": [
    {
     "data": {
      "text/plain": [
       "<AxesSubplot:>"
      ]
     },
     "execution_count": 72,
     "metadata": {},
     "output_type": "execute_result"
    },
    {
     "data": {
      "image/png": "[encoded data removed]",
      "text/plain": [
       "<Figure size 640x480 with 1 Axes>"
      ]
     },
     "metadata": {},
     "output_type": "display_data"
    }
   ],
   "source": [
    "model_loss = pd.DataFrame(model.history.history)\n",
    "model_loss.plot()"
   ]
  },
  {
   "cell_type": "markdown",
   "id": "69a0af9f",
   "metadata": {},
   "source": [
    "# 8. Evaluación del modelo"
   ]
  },
  {
   "cell_type": "code",
   "execution_count": 73,
   "id": "f9efb62c",
   "metadata": {},
   "outputs": [],
   "source": [
    "from sklearn.metrics import classification_report, confusion_matrix"
   ]
  },
  {
   "cell_type": "markdown",
   "id": "ff58e9d1",
   "metadata": {},
   "source": [
    "## 8.1 Predicción sobre el conjunto de Test"
   ]
  },
  {
   "cell_type": "code",
   "execution_count": 74,
   "id": "9877878b",
   "metadata": {},
   "outputs": [
    {
     "name": "stdout",
     "output_type": "stream",
     "text": [
      "1284/1284 [==============================] - 1s 724us/step\n"
     ]
    }
   ],
   "source": [
    "predicciones = model.predict(x_test)"
   ]
  },
  {
   "cell_type": "code",
   "execution_count": 75,
   "id": "a2c79120",
   "metadata": {},
   "outputs": [
    {
     "data": {
      "text/plain": [
       "array([[0, 0, 1],\n",
       "       [1, 0, 0],\n",
       "       [1, 0, 0],\n",
       "       ...,\n",
       "       [0, 0, 1],\n",
       "       [0, 1, 0],\n",
       "       [1, 0, 0]], dtype=uint8)"
      ]
     },
     "execution_count": 75,
     "metadata": {},
     "output_type": "execute_result"
    }
   ],
   "source": [
    "y_test"
   ]
  },
  {
   "cell_type": "code",
   "execution_count": 76,
   "id": "6243109c",
   "metadata": {},
   "outputs": [
    {
     "data": {
      "text/plain": [
       "array([[0.04974141, 0.3183229 , 0.6319357 ],\n",
       "       [0.342787  , 0.4451985 , 0.21201444],\n",
       "       [0.3468951 , 0.47563866, 0.17746627],\n",
       "       ...,\n",
       "       [0.19614421, 0.59973544, 0.2041204 ],\n",
       "       [0.11785787, 0.42974302, 0.45239908],\n",
       "       [0.31342638, 0.54473954, 0.14183411]], dtype=float32)"
      ]
     },
     "execution_count": 76,
     "metadata": {},
     "output_type": "execute_result"
    }
   ],
   "source": [
    "predicciones"
   ]
  },
  {
   "cell_type": "code",
   "execution_count": 77,
   "id": "b01d0eec",
   "metadata": {},
   "outputs": [],
   "source": [
    "# Deprecated and removed after 2021-01-01\n",
    "# predicciones_lab = model.predict_classes(x_test)\n",
    "predicciones_lab = np.argmax(predicciones, axis=1)"
   ]
  },
  {
   "cell_type": "code",
   "execution_count": 78,
   "id": "b5d66987",
   "metadata": {},
   "outputs": [
    {
     "data": {
      "text/plain": [
       "array([3, 2, 2, ..., 2, 3, 2])"
      ]
     },
     "execution_count": 78,
     "metadata": {},
     "output_type": "execute_result"
    }
   ],
   "source": [
    "predicciones_lab_real = predicciones_lab + 1\n",
    "predicciones_lab_real"
   ]
  },
  {
   "cell_type": "code",
   "execution_count": 79,
   "id": "c15e9f3b",
   "metadata": {},
   "outputs": [
    {
     "data": {
      "text/html": [
       "<div>\n",
       "<style scoped>\n",
       "    .dataframe tbody tr th:only-of-type {\n",
       "        vertical-align: middle;\n",
       "    }\n",
       "\n",
       "    .dataframe tbody tr th {\n",
       "        vertical-align: top;\n",
       "    }\n",
       "\n",
       "    .dataframe thead th {\n",
       "        text-align: right;\n",
       "    }\n",
       "</style>\n",
       "<table border=\"1\" class=\"dataframe\">\n",
       "  <thead>\n",
       "    <tr style=\"text-align: right;\">\n",
       "      <th></th>\n",
       "      <th>Interest Rate 1</th>\n",
       "      <th>Interest Rate 2</th>\n",
       "      <th>Interest Rate 3</th>\n",
       "    </tr>\n",
       "  </thead>\n",
       "  <tbody>\n",
       "    <tr>\n",
       "      <th>0</th>\n",
       "      <td>0</td>\n",
       "      <td>0</td>\n",
       "      <td>1</td>\n",
       "    </tr>\n",
       "    <tr>\n",
       "      <th>1</th>\n",
       "      <td>1</td>\n",
       "      <td>0</td>\n",
       "      <td>0</td>\n",
       "    </tr>\n",
       "    <tr>\n",
       "      <th>2</th>\n",
       "      <td>1</td>\n",
       "      <td>0</td>\n",
       "      <td>0</td>\n",
       "    </tr>\n",
       "    <tr>\n",
       "      <th>3</th>\n",
       "      <td>0</td>\n",
       "      <td>0</td>\n",
       "      <td>1</td>\n",
       "    </tr>\n",
       "    <tr>\n",
       "      <th>4</th>\n",
       "      <td>0</td>\n",
       "      <td>1</td>\n",
       "      <td>0</td>\n",
       "    </tr>\n",
       "    <tr>\n",
       "      <th>...</th>\n",
       "      <td>...</td>\n",
       "      <td>...</td>\n",
       "      <td>...</td>\n",
       "    </tr>\n",
       "    <tr>\n",
       "      <th>41072</th>\n",
       "      <td>0</td>\n",
       "      <td>1</td>\n",
       "      <td>0</td>\n",
       "    </tr>\n",
       "    <tr>\n",
       "      <th>41073</th>\n",
       "      <td>0</td>\n",
       "      <td>0</td>\n",
       "      <td>1</td>\n",
       "    </tr>\n",
       "    <tr>\n",
       "      <th>41074</th>\n",
       "      <td>0</td>\n",
       "      <td>0</td>\n",
       "      <td>1</td>\n",
       "    </tr>\n",
       "    <tr>\n",
       "      <th>41075</th>\n",
       "      <td>0</td>\n",
       "      <td>1</td>\n",
       "      <td>0</td>\n",
       "    </tr>\n",
       "    <tr>\n",
       "      <th>41076</th>\n",
       "      <td>1</td>\n",
       "      <td>0</td>\n",
       "      <td>0</td>\n",
       "    </tr>\n",
       "  </tbody>\n",
       "</table>\n",
       "<p>41077 rows × 3 columns</p>\n",
       "</div>"
      ],
      "text/plain": [
       "       Interest Rate 1  Interest Rate 2  Interest Rate 3\n",
       "0                    0                0                1\n",
       "1                    1                0                0\n",
       "2                    1                0                0\n",
       "3                    0                0                1\n",
       "4                    0                1                0\n",
       "...                ...              ...              ...\n",
       "41072                0                1                0\n",
       "41073                0                0                1\n",
       "41074                0                0                1\n",
       "41075                0                1                0\n",
       "41076                1                0                0\n",
       "\n",
       "[41077 rows x 3 columns]"
      ]
     },
     "execution_count": 79,
     "metadata": {},
     "output_type": "execute_result"
    }
   ],
   "source": [
    "df_test_lab = pd.DataFrame( y_test, columns=['Interest Rate 1','Interest Rate 2','Interest Rate 3'] )\n",
    "df_test_lab"
   ]
  },
  {
   "cell_type": "code",
   "execution_count": 80,
   "id": "c1a33d1f",
   "metadata": {},
   "outputs": [
    {
     "data": {
      "text/plain": [
       "0        3\n",
       "1        1\n",
       "2        1\n",
       "3        3\n",
       "4        2\n",
       "        ..\n",
       "41072    2\n",
       "41073    3\n",
       "41074    3\n",
       "41075    2\n",
       "41076    1\n",
       "Name: Clase Real, Length: 41077, dtype: int64"
      ]
     },
     "execution_count": 80,
     "metadata": {},
     "output_type": "execute_result"
    }
   ],
   "source": [
    "df_test_lab[\"Clase Real\"] = np.where(\n",
    "    df_test_lab[\"Interest Rate 1\"]==1,\n",
    "    1,\n",
    "    np.where(\n",
    "        df_test_lab[\"Interest Rate 2\"]==1,\n",
    "        2,\n",
    "        3\n",
    "    )\n",
    ")\n",
    "df_test_lab[\"Clase Real\"]"
   ]
  },
  {
   "cell_type": "code",
   "execution_count": 81,
   "id": "22c56fb3",
   "metadata": {},
   "outputs": [
    {
     "data": {
      "text/plain": [
       "array([[ 1407,  5789,  1149],\n",
       "       [ 1177, 12144,  4321],\n",
       "       [  323,  6580,  8187]])"
      ]
     },
     "execution_count": 81,
     "metadata": {},
     "output_type": "execute_result"
    }
   ],
   "source": [
    "clases = [1, 2, 3]\n",
    "array_clase_real = df_test_lab[\"Clase Real\"].to_numpy()\n",
    "confusion_matrix( array_clase_real, predicciones_lab_real, labels=clases )"
   ]
  },
  {
   "cell_type": "code",
   "execution_count": 82,
   "id": "c8db4b06",
   "metadata": {},
   "outputs": [],
   "source": [
    "def plot_confusion_matrix(\n",
    "        cm,\n",
    "        clases,\n",
    "        normalize=False,\n",
    "        title=\"Confusion matrix\",\n",
    "        cmap=plt.cm.Blues\n",
    "        ):\n",
    "    import itertools\n",
    "    if normalize:\n",
    "        cm = cm.astype('float') / cm.sum(axis=1)[:, np.newaxis]\n",
    "        print(\"Confusion matrix normalizada\")\n",
    "    else:\n",
    "        print(\"Confusion matrix sin normalizar\")\n",
    "\n",
    "    print(cm)\n",
    "\n",
    "    plt.imshow(cm, interpolation=\"nearest\", cmap=cmap)\n",
    "    plt.title(title)\n",
    "    plt.colorbar()\n",
    "    tick_marks = np.arange(len(clases))\n",
    "    plt.xticks( tick_marks, clases, rotation=45 )\n",
    "    plt.yticks( tick_marks, clases )\n",
    "\n",
    "    fmt = \".2f\" if normalize else \"d\"\n",
    "    thresh = cm.max() / 2\n",
    "    for i, j in itertools.product(range(cm.shape[0]), range(cm.shape[1])):\n",
    "        plt.text(\n",
    "            j, i, format(cm[i, j], fmt),\n",
    "            horizontalalignment=\"center\",\n",
    "            color=\"white\" if cm[i, j] > thresh else \"black\"\n",
    "        )\n",
    "    plt.ylabel(\"True label\")\n",
    "    plt.xlabel(\"Predicted label\")\n",
    "    plt.tight_layout()"
   ]
  },
  {
   "cell_type": "code",
   "execution_count": 83,
   "id": "c002d927",
   "metadata": {},
   "outputs": [
    {
     "name": "stdout",
     "output_type": "stream",
     "text": [
      "Confusion matrix sin normalizar\n",
      "[[ 1407  5789  1149]\n",
      " [ 1177 12144  4321]\n",
      " [  323  6580  8187]]\n"
     ]
    },
    {
     "data": {
      "image/png": "[encoded data removed]",
      "text/plain": [
       "<Figure size 640x480 with 2 Axes>"
      ]
     },
     "metadata": {},
     "output_type": "display_data"
    }
   ],
   "source": [
    "cnf_matrix = confusion_matrix(\n",
    "    array_clase_real, predicciones_lab_real, labels=clases\n",
    ")\n",
    "np.set_printoptions(precision=2)\n",
    "\n",
    "# Plot de la matriz de confusión no serializada\n",
    "plt.figure()\n",
    "plot_confusion_matrix(\n",
    "    cnf_matrix, clases=clases,\n",
    "    title=\"Matriz de confusión sin normalizar\"\n",
    ")"
   ]
  },
  {
   "cell_type": "markdown",
   "id": "9f96b23f",
   "metadata": {},
   "source": [
    "## 8.2 Predicción sobre nuevos datos"
   ]
  },
  {
   "cell_type": "code",
   "execution_count": 84,
   "id": "ea5fcac7",
   "metadata": {},
   "outputs": [
    {
     "name": "stderr",
     "output_type": "stream",
     "text": [
      "/home/hisham/anaconda3/lib/python3.9/site-packages/sklearn/base.py:443: UserWarning: X has feature names, but MinMaxScaler was fitted without feature names\n",
      "  warnings.warn(\n"
     ]
    },
    {
     "data": {
      "text/html": [
       "<div>\n",
       "<style scoped>\n",
       "    .dataframe tbody tr th:only-of-type {\n",
       "        vertical-align: middle;\n",
       "    }\n",
       "\n",
       "    .dataframe tbody tr th {\n",
       "        vertical-align: top;\n",
       "    }\n",
       "\n",
       "    .dataframe thead th {\n",
       "        text-align: right;\n",
       "    }\n",
       "</style>\n",
       "<table border=\"1\" class=\"dataframe\">\n",
       "  <thead>\n",
       "    <tr style=\"text-align: right;\">\n",
       "      <th></th>\n",
       "      <th>Loan_Amount_Requested</th>\n",
       "      <th>Length_Employed</th>\n",
       "      <th>Home_Owner</th>\n",
       "      <th>Annual_Income</th>\n",
       "      <th>Purpose_Of_Loan</th>\n",
       "      <th>Debt_To_Income</th>\n",
       "      <th>Inquiries_Last_6Mo</th>\n",
       "      <th>Total_Accounts</th>\n",
       "      <th>Gender</th>\n",
       "      <th>Interest_Rate</th>\n",
       "      <th>PREDICCION</th>\n",
       "    </tr>\n",
       "  </thead>\n",
       "  <tbody>\n",
       "    <tr>\n",
       "      <th>0</th>\n",
       "      <td>7.000</td>\n",
       "      <td>0</td>\n",
       "      <td>Rent</td>\n",
       "      <td>55000.0</td>\n",
       "      <td>car</td>\n",
       "      <td>18.37</td>\n",
       "      <td>0</td>\n",
       "      <td>14</td>\n",
       "      <td>Female</td>\n",
       "      <td>1</td>\n",
       "      <td>11</td>\n",
       "    </tr>\n",
       "    <tr>\n",
       "      <th>1</th>\n",
       "      <td>30.000</td>\n",
       "      <td>4</td>\n",
       "      <td>Mortgage</td>\n",
       "      <td>40000.0</td>\n",
       "      <td>debt_consolidation</td>\n",
       "      <td>14.93</td>\n",
       "      <td>0</td>\n",
       "      <td>24</td>\n",
       "      <td>Female</td>\n",
       "      <td>3</td>\n",
       "      <td>7</td>\n",
       "    </tr>\n",
       "    <tr>\n",
       "      <th>2</th>\n",
       "      <td>24.725</td>\n",
       "      <td>7</td>\n",
       "      <td>Mortgage</td>\n",
       "      <td>75566.4</td>\n",
       "      <td>debt_consolidation</td>\n",
       "      <td>15.88</td>\n",
       "      <td>0</td>\n",
       "      <td>16</td>\n",
       "      <td>Male</td>\n",
       "      <td>3</td>\n",
       "      <td>7</td>\n",
       "    </tr>\n",
       "    <tr>\n",
       "      <th>3</th>\n",
       "      <td>16.000</td>\n",
       "      <td>0</td>\n",
       "      <td>Mortgage</td>\n",
       "      <td>56160.0</td>\n",
       "      <td>debt_consolidation</td>\n",
       "      <td>14.34</td>\n",
       "      <td>3</td>\n",
       "      <td>22</td>\n",
       "      <td>Male</td>\n",
       "      <td>3</td>\n",
       "      <td>7</td>\n",
       "    </tr>\n",
       "    <tr>\n",
       "      <th>4</th>\n",
       "      <td>17.000</td>\n",
       "      <td>8</td>\n",
       "      <td>Own</td>\n",
       "      <td>96000.0</td>\n",
       "      <td>debt_consolidation</td>\n",
       "      <td>22.17</td>\n",
       "      <td>1</td>\n",
       "      <td>30</td>\n",
       "      <td>Female</td>\n",
       "      <td>1</td>\n",
       "      <td>10</td>\n",
       "    </tr>\n",
       "    <tr>\n",
       "      <th>5</th>\n",
       "      <td>4.500</td>\n",
       "      <td>2</td>\n",
       "      <td>Rent</td>\n",
       "      <td>30000.0</td>\n",
       "      <td>credit_card</td>\n",
       "      <td>10.88</td>\n",
       "      <td>1</td>\n",
       "      <td>15</td>\n",
       "      <td>Male</td>\n",
       "      <td>3</td>\n",
       "      <td>11</td>\n",
       "    </tr>\n",
       "    <tr>\n",
       "      <th>6</th>\n",
       "      <td>18.075</td>\n",
       "      <td>4</td>\n",
       "      <td>Rent</td>\n",
       "      <td>85000.0</td>\n",
       "      <td>debt_consolidation</td>\n",
       "      <td>5.65</td>\n",
       "      <td>0</td>\n",
       "      <td>12</td>\n",
       "      <td>Male</td>\n",
       "      <td>3</td>\n",
       "      <td>11</td>\n",
       "    </tr>\n",
       "    <tr>\n",
       "      <th>7</th>\n",
       "      <td>15.000</td>\n",
       "      <td>0</td>\n",
       "      <td>Rent</td>\n",
       "      <td>115000.0</td>\n",
       "      <td>debt_consolidation</td>\n",
       "      <td>7.97</td>\n",
       "      <td>1</td>\n",
       "      <td>31</td>\n",
       "      <td>Female</td>\n",
       "      <td>2</td>\n",
       "      <td>11</td>\n",
       "    </tr>\n",
       "    <tr>\n",
       "      <th>8</th>\n",
       "      <td>6.300</td>\n",
       "      <td>10</td>\n",
       "      <td>Rent</td>\n",
       "      <td>125000.0</td>\n",
       "      <td>debt_consolidation</td>\n",
       "      <td>16.12</td>\n",
       "      <td>3</td>\n",
       "      <td>9</td>\n",
       "      <td>Female</td>\n",
       "      <td>3</td>\n",
       "      <td>2</td>\n",
       "    </tr>\n",
       "    <tr>\n",
       "      <th>9</th>\n",
       "      <td>30.000</td>\n",
       "      <td>10</td>\n",
       "      <td>Own</td>\n",
       "      <td>163000.0</td>\n",
       "      <td>debt_consolidation</td>\n",
       "      <td>11.13</td>\n",
       "      <td>0</td>\n",
       "      <td>43</td>\n",
       "      <td>Male</td>\n",
       "      <td>1</td>\n",
       "      <td>2</td>\n",
       "    </tr>\n",
       "    <tr>\n",
       "      <th>10</th>\n",
       "      <td>11.700</td>\n",
       "      <td>10</td>\n",
       "      <td>Mortgage</td>\n",
       "      <td>62000.0</td>\n",
       "      <td>debt_consolidation</td>\n",
       "      <td>30.91</td>\n",
       "      <td>0</td>\n",
       "      <td>22</td>\n",
       "      <td>Male</td>\n",
       "      <td>2</td>\n",
       "      <td>2</td>\n",
       "    </tr>\n",
       "    <tr>\n",
       "      <th>11</th>\n",
       "      <td>15.000</td>\n",
       "      <td>10</td>\n",
       "      <td>Rent</td>\n",
       "      <td>70000.0</td>\n",
       "      <td>credit_card</td>\n",
       "      <td>8.95</td>\n",
       "      <td>0</td>\n",
       "      <td>13</td>\n",
       "      <td>Male</td>\n",
       "      <td>2</td>\n",
       "      <td>2</td>\n",
       "    </tr>\n",
       "    <tr>\n",
       "      <th>12</th>\n",
       "      <td>7.200</td>\n",
       "      <td>10</td>\n",
       "      <td>Rent</td>\n",
       "      <td>55000.0</td>\n",
       "      <td>debt_consolidation</td>\n",
       "      <td>31.25</td>\n",
       "      <td>0</td>\n",
       "      <td>16</td>\n",
       "      <td>Male</td>\n",
       "      <td>2</td>\n",
       "      <td>2</td>\n",
       "    </tr>\n",
       "    <tr>\n",
       "      <th>13</th>\n",
       "      <td>7.200</td>\n",
       "      <td>10</td>\n",
       "      <td>Rent</td>\n",
       "      <td>55000.0</td>\n",
       "      <td>car</td>\n",
       "      <td>31.25</td>\n",
       "      <td>0</td>\n",
       "      <td>16</td>\n",
       "      <td>Male</td>\n",
       "      <td>2</td>\n",
       "      <td>2</td>\n",
       "    </tr>\n",
       "    <tr>\n",
       "      <th>14</th>\n",
       "      <td>7.200</td>\n",
       "      <td>10</td>\n",
       "      <td>Mortgage</td>\n",
       "      <td>55000.0</td>\n",
       "      <td>debt_consolidation</td>\n",
       "      <td>31.25</td>\n",
       "      <td>0</td>\n",
       "      <td>16</td>\n",
       "      <td>Male</td>\n",
       "      <td>2</td>\n",
       "      <td>2</td>\n",
       "    </tr>\n",
       "    <tr>\n",
       "      <th>15</th>\n",
       "      <td>7.200</td>\n",
       "      <td>10</td>\n",
       "      <td>Own</td>\n",
       "      <td>55000.0</td>\n",
       "      <td>credit_card</td>\n",
       "      <td>31.25</td>\n",
       "      <td>0</td>\n",
       "      <td>16</td>\n",
       "      <td>Male</td>\n",
       "      <td>2</td>\n",
       "      <td>2</td>\n",
       "    </tr>\n",
       "    <tr>\n",
       "      <th>16</th>\n",
       "      <td>7.200</td>\n",
       "      <td>10</td>\n",
       "      <td>Other</td>\n",
       "      <td>55000.0</td>\n",
       "      <td>home_improvement</td>\n",
       "      <td>31.25</td>\n",
       "      <td>0</td>\n",
       "      <td>16</td>\n",
       "      <td>Male</td>\n",
       "      <td>2</td>\n",
       "      <td>2</td>\n",
       "    </tr>\n",
       "    <tr>\n",
       "      <th>17</th>\n",
       "      <td>7.200</td>\n",
       "      <td>10</td>\n",
       "      <td>None</td>\n",
       "      <td>55000.0</td>\n",
       "      <td>major_purchase</td>\n",
       "      <td>31.25</td>\n",
       "      <td>0</td>\n",
       "      <td>16</td>\n",
       "      <td>Male</td>\n",
       "      <td>2</td>\n",
       "      <td>2</td>\n",
       "    </tr>\n",
       "    <tr>\n",
       "      <th>18</th>\n",
       "      <td>7.200</td>\n",
       "      <td>10</td>\n",
       "      <td>Rent</td>\n",
       "      <td>55000.0</td>\n",
       "      <td>other</td>\n",
       "      <td>31.25</td>\n",
       "      <td>0</td>\n",
       "      <td>16</td>\n",
       "      <td>Male</td>\n",
       "      <td>2</td>\n",
       "      <td>2</td>\n",
       "    </tr>\n",
       "    <tr>\n",
       "      <th>19</th>\n",
       "      <td>7.200</td>\n",
       "      <td>10</td>\n",
       "      <td>Mortgage</td>\n",
       "      <td>55000.0</td>\n",
       "      <td>medical</td>\n",
       "      <td>31.25</td>\n",
       "      <td>0</td>\n",
       "      <td>16</td>\n",
       "      <td>Male</td>\n",
       "      <td>2</td>\n",
       "      <td>2</td>\n",
       "    </tr>\n",
       "    <tr>\n",
       "      <th>20</th>\n",
       "      <td>7.200</td>\n",
       "      <td>10</td>\n",
       "      <td>Own</td>\n",
       "      <td>55000.0</td>\n",
       "      <td>small_business</td>\n",
       "      <td>31.25</td>\n",
       "      <td>0</td>\n",
       "      <td>16</td>\n",
       "      <td>Male</td>\n",
       "      <td>2</td>\n",
       "      <td>2</td>\n",
       "    </tr>\n",
       "    <tr>\n",
       "      <th>21</th>\n",
       "      <td>7.200</td>\n",
       "      <td>10</td>\n",
       "      <td>Other</td>\n",
       "      <td>55000.0</td>\n",
       "      <td>moving</td>\n",
       "      <td>31.25</td>\n",
       "      <td>0</td>\n",
       "      <td>16</td>\n",
       "      <td>Male</td>\n",
       "      <td>2</td>\n",
       "      <td>2</td>\n",
       "    </tr>\n",
       "    <tr>\n",
       "      <th>22</th>\n",
       "      <td>7.200</td>\n",
       "      <td>10</td>\n",
       "      <td>None</td>\n",
       "      <td>55000.0</td>\n",
       "      <td>wedding</td>\n",
       "      <td>31.25</td>\n",
       "      <td>0</td>\n",
       "      <td>16</td>\n",
       "      <td>Male</td>\n",
       "      <td>2</td>\n",
       "      <td>2</td>\n",
       "    </tr>\n",
       "    <tr>\n",
       "      <th>23</th>\n",
       "      <td>7.200</td>\n",
       "      <td>10</td>\n",
       "      <td>Rent</td>\n",
       "      <td>55000.0</td>\n",
       "      <td>vacation</td>\n",
       "      <td>31.25</td>\n",
       "      <td>0</td>\n",
       "      <td>16</td>\n",
       "      <td>Male</td>\n",
       "      <td>2</td>\n",
       "      <td>2</td>\n",
       "    </tr>\n",
       "    <tr>\n",
       "      <th>24</th>\n",
       "      <td>7.200</td>\n",
       "      <td>10</td>\n",
       "      <td>Mortgage</td>\n",
       "      <td>55000.0</td>\n",
       "      <td>house</td>\n",
       "      <td>31.25</td>\n",
       "      <td>0</td>\n",
       "      <td>16</td>\n",
       "      <td>Male</td>\n",
       "      <td>2</td>\n",
       "      <td>2</td>\n",
       "    </tr>\n",
       "    <tr>\n",
       "      <th>25</th>\n",
       "      <td>7.200</td>\n",
       "      <td>10</td>\n",
       "      <td>Own</td>\n",
       "      <td>55000.0</td>\n",
       "      <td>educational</td>\n",
       "      <td>31.25</td>\n",
       "      <td>0</td>\n",
       "      <td>16</td>\n",
       "      <td>Male</td>\n",
       "      <td>2</td>\n",
       "      <td>2</td>\n",
       "    </tr>\n",
       "    <tr>\n",
       "      <th>26</th>\n",
       "      <td>7.200</td>\n",
       "      <td>10</td>\n",
       "      <td>Other</td>\n",
       "      <td>55000.0</td>\n",
       "      <td>renewable_energy</td>\n",
       "      <td>31.25</td>\n",
       "      <td>0</td>\n",
       "      <td>16</td>\n",
       "      <td>Male</td>\n",
       "      <td>2</td>\n",
       "      <td>2</td>\n",
       "    </tr>\n",
       "  </tbody>\n",
       "</table>\n",
       "</div>"
      ],
      "text/plain": [
       "    Loan_Amount_Requested  Length_Employed Home_Owner  Annual_Income  \\\n",
       "0                   7.000                0       Rent        55000.0   \n",
       "1                  30.000                4   Mortgage        40000.0   \n",
       "2                  24.725                7   Mortgage        75566.4   \n",
       "3                  16.000                0   Mortgage        56160.0   \n",
       "4                  17.000                8        Own        96000.0   \n",
       "5                   4.500                2       Rent        30000.0   \n",
       "6                  18.075                4       Rent        85000.0   \n",
       "7                  15.000                0       Rent       115000.0   \n",
       "8                   6.300               10       Rent       125000.0   \n",
       "9                  30.000               10        Own       163000.0   \n",
       "10                 11.700               10   Mortgage        62000.0   \n",
       "11                 15.000               10       Rent        70000.0   \n",
       "12                  7.200               10       Rent        55000.0   \n",
       "13                  7.200               10       Rent        55000.0   \n",
       "14                  7.200               10   Mortgage        55000.0   \n",
       "15                  7.200               10        Own        55000.0   \n",
       "16                  7.200               10      Other        55000.0   \n",
       "17                  7.200               10       None        55000.0   \n",
       "18                  7.200               10       Rent        55000.0   \n",
       "19                  7.200               10   Mortgage        55000.0   \n",
       "20                  7.200               10        Own        55000.0   \n",
       "21                  7.200               10      Other        55000.0   \n",
       "22                  7.200               10       None        55000.0   \n",
       "23                  7.200               10       Rent        55000.0   \n",
       "24                  7.200               10   Mortgage        55000.0   \n",
       "25                  7.200               10        Own        55000.0   \n",
       "26                  7.200               10      Other        55000.0   \n",
       "\n",
       "       Purpose_Of_Loan  Debt_To_Income  Inquiries_Last_6Mo  Total_Accounts  \\\n",
       "0                  car           18.37                   0              14   \n",
       "1   debt_consolidation           14.93                   0              24   \n",
       "2   debt_consolidation           15.88                   0              16   \n",
       "3   debt_consolidation           14.34                   3              22   \n",
       "4   debt_consolidation           22.17                   1              30   \n",
       "5          credit_card           10.88                   1              15   \n",
       "6   debt_consolidation            5.65                   0              12   \n",
       "7   debt_consolidation            7.97                   1              31   \n",
       "8   debt_consolidation           16.12                   3               9   \n",
       "9   debt_consolidation           11.13                   0              43   \n",
       "10  debt_consolidation           30.91                   0              22   \n",
       "11         credit_card            8.95                   0              13   \n",
       "12  debt_consolidation           31.25                   0              16   \n",
       "13                 car           31.25                   0              16   \n",
       "14  debt_consolidation           31.25                   0              16   \n",
       "15         credit_card           31.25                   0              16   \n",
       "16    home_improvement           31.25                   0              16   \n",
       "17      major_purchase           31.25                   0              16   \n",
       "18               other           31.25                   0              16   \n",
       "19             medical           31.25                   0              16   \n",
       "20      small_business           31.25                   0              16   \n",
       "21              moving           31.25                   0              16   \n",
       "22             wedding           31.25                   0              16   \n",
       "23            vacation           31.25                   0              16   \n",
       "24               house           31.25                   0              16   \n",
       "25         educational           31.25                   0              16   \n",
       "26    renewable_energy           31.25                   0              16   \n",
       "\n",
       "    Gender  Interest_Rate  PREDICCION  \n",
       "0   Female              1          11  \n",
       "1   Female              3           7  \n",
       "2     Male              3           7  \n",
       "3     Male              3           7  \n",
       "4   Female              1          10  \n",
       "5     Male              3          11  \n",
       "6     Male              3          11  \n",
       "7   Female              2          11  \n",
       "8   Female              3           2  \n",
       "9     Male              1           2  \n",
       "10    Male              2           2  \n",
       "11    Male              2           2  \n",
       "12    Male              2           2  \n",
       "13    Male              2           2  \n",
       "14    Male              2           2  \n",
       "15    Male              2           2  \n",
       "16    Male              2           2  \n",
       "17    Male              2           2  \n",
       "18    Male              2           2  \n",
       "19    Male              2           2  \n",
       "20    Male              2           2  \n",
       "21    Male              2           2  \n",
       "22    Male              2           2  \n",
       "23    Male              2           2  \n",
       "24    Male              2           2  \n",
       "25    Male              2           2  \n",
       "26    Male              2           2  "
      ]
     },
     "execution_count": 84,
     "metadata": {},
     "output_type": "execute_result"
    }
   ],
   "source": [
    "# Leer datos\n",
    "df_pred = pd.read_excel(\"./src/info_prestamos - predecir.xlsx\", sheet_name=\"info_prestamos - predecir\")\n",
    "## Nos quedamos solo con las columnas que nos interesan\n",
    "df_pred = df_pred[df.columns]\n",
    "# Transformat\n",
    "df_pred[\"Length_Employed\"] = df_pred[\"Length_Employed\"].str.replace(\"< 1 year\", \"0 years\")\n",
    "df_pred[\"Length_Employed\"] = df_pred[\"Length_Employed\"].str.extract(\"(\\d+)\")\n",
    "df_pred[\"Length_Employed\"] = df_pred[\"Length_Employed\"].apply(pd.to_numeric)\n",
    "df_pred[\"Length_Employed\"] = df_pred.apply(lambda x: completa_len_empl(x[\"Total_Accounts\"], x[\"Length_Employed\"]), axis=1)\n",
    "# Añadir columnas dummy (necesario agregar el mismo número de columnas anterior)\n",
    "dummies_pred = pd.get_dummies(df_pred[['Home_Owner', 'Purpose_Of_Loan', 'Gender']])\n",
    "df_post_pred = pd.concat([df_pred,dummies_pred], axis=1)\n",
    "df_post_pred = df_post_pred.drop(['Home_Owner', 'Purpose_Of_Loan', 'Gender'], axis=1)\n",
    "x_pred = df_post_pred.drop(\"Interest_Rate\", axis=1)\n",
    "x_pred = scaler.transform(x_pred)\n",
    "# Realizar predicción\n",
    "# resultado = model.predict_classes(x_pred)+1 # Deprecated method\n",
    "resultado = np.argmax(x_pred, axis=1) + 1\n",
    "# Unimos la predicción con los datos originales\n",
    "df_pred['PREDICCION'] = pd.DataFrame(resultado)\n",
    "df_pred"
   ]
  },
  {
   "cell_type": "code",
   "execution_count": 85,
   "id": "49ac8370",
   "metadata": {},
   "outputs": [
    {
     "name": "stdout",
     "output_type": "stream",
     "text": [
      "<class 'pandas.core.frame.DataFrame'>\n",
      "RangeIndex: 27 entries, 0 to 26\n",
      "Data columns (total 11 columns):\n",
      " #   Column                 Non-Null Count  Dtype  \n",
      "---  ------                 --------------  -----  \n",
      " 0   Loan_Amount_Requested  27 non-null     float64\n",
      " 1   Length_Employed        27 non-null     int64  \n",
      " 2   Home_Owner             27 non-null     object \n",
      " 3   Annual_Income          27 non-null     float64\n",
      " 4   Purpose_Of_Loan        27 non-null     object \n",
      " 5   Debt_To_Income         27 non-null     float64\n",
      " 6   Inquiries_Last_6Mo     27 non-null     int64  \n",
      " 7   Total_Accounts         27 non-null     int64  \n",
      " 8   Gender                 27 non-null     object \n",
      " 9   Interest_Rate          27 non-null     int64  \n",
      " 10  PREDICCION             27 non-null     int64  \n",
      "dtypes: float64(3), int64(5), object(3)\n",
      "memory usage: 2.4+ KB\n"
     ]
    }
   ],
   "source": [
    "df_pred.info()"
   ]
  },
  {
   "cell_type": "markdown",
   "id": "04a549a2",
   "metadata": {},
   "source": [
    "# 9.Monitorización con Tensorboard"
   ]
  },
  {
   "cell_type": "code",
   "execution_count": 86,
   "id": "1ee13aa0",
   "metadata": {},
   "outputs": [
    {
     "data": {
      "text/plain": [
       "'./logs/fit/202303121339'"
      ]
     },
     "execution_count": 86,
     "metadata": {},
     "output_type": "execute_result"
    }
   ],
   "source": [
    "def getLogDirectory():\n",
    "    from sys import platform as p\n",
    "    from datetime import datetime\n",
    "    dis = ''\n",
    "    time = datetime.now().strftime(\"%Y%m%d%H%M\")\n",
    "    if p == 'linux' or p == 'darwin':\n",
    "        dir = './logs/fit/'+ time\n",
    "    if p == 'win32' or p == 'cygwin':\n",
    "        dir = './logs\\\\fit\\\\'+ time\n",
    "    return dir\n",
    "\n",
    "directory = getLogDirectory()\n",
    "directory"
   ]
  },
  {
   "cell_type": "code",
   "execution_count": 87,
   "id": "70b4ad1f",
   "metadata": {},
   "outputs": [],
   "source": [
    "from tensorflow.keras.callbacks import TensorBoard"
   ]
  },
  {
   "cell_type": "code",
   "execution_count": 88,
   "id": "5c2e0966",
   "metadata": {},
   "outputs": [
    {
     "name": "stderr",
     "output_type": "stream",
     "text": [
      "2023-03-12 13:39:32.755559: I tensorflow/core/profiler/lib/profiler_session.cc:101] Profiler session initializing.\n",
      "2023-03-12 13:39:32.755621: I tensorflow/core/profiler/lib/profiler_session.cc:116] Profiler session started.\n",
      "2023-03-12 13:39:32.756274: I tensorflow/core/profiler/backends/gpu/cupti_tracer.cc:1664] Profiler found 1 GPUs\n",
      "2023-03-12 13:39:32.756961: W tensorflow/compiler/xla/stream_executor/platform/default/dso_loader.cc:64] Could not load dynamic library 'libcupti.so.11.2'; dlerror: libcupti.so.11.2: cannot open shared object file: No such file or directory\n",
      "2023-03-12 13:39:32.757122: W tensorflow/compiler/xla/stream_executor/platform/default/dso_loader.cc:64] Could not load dynamic library 'libcupti.so'; dlerror: libcupti.so: cannot open shared object file: No such file or directory\n",
      "2023-03-12 13:39:32.757136: E tensorflow/core/profiler/backends/gpu/cupti_error_manager.cc:135] cuptiGetTimestamp: error 999: \n",
      "2023-03-12 13:39:32.757152: E tensorflow/core/profiler/backends/gpu/cupti_error_manager.cc:184] cuptiSubscribe: ignored due to a previous error.\n",
      "2023-03-12 13:39:32.757159: E tensorflow/core/profiler/backends/gpu/cupti_error_manager.cc:457] cuptiGetResultString: ignored due to a previous error.\n",
      "2023-03-12 13:39:32.757167: E tensorflow/core/profiler/backends/gpu/cupti_tracer.cc:1715] function cupti_interface_->Subscribe( &subscriber_, (CUpti_CallbackFunc)ApiCallback, this)failed with error \n",
      "2023-03-12 13:39:32.757452: I tensorflow/core/profiler/lib/profiler_session.cc:128] Profiler session tear down.\n",
      "2023-03-12 13:39:32.757495: E tensorflow/core/profiler/backends/gpu/cupti_error_manager.cc:140] cuptiFinalize: ignored due to a previous error.\n",
      "2023-03-12 13:39:32.757499: E tensorflow/core/profiler/backends/gpu/cupti_error_manager.cc:457] cuptiGetResultString: ignored due to a previous error.\n",
      "2023-03-12 13:39:32.757502: E tensorflow/core/profiler/backends/gpu/cupti_tracer.cc:1807] function cupti_interface_->Finalize()failed with error \n"
     ]
    }
   ],
   "source": [
    "board = TensorBoard(\n",
    "    log_dir=directory, histogram_freq=1,\n",
    "    write_graph=True, write_images=True,\n",
    "    update_freq=\"epoch\", profile_batch=2,\n",
    "    embeddings_freq=1\n",
    ")"
   ]
  },
  {
   "cell_type": "markdown",
   "id": "bf9f6b63",
   "metadata": {},
   "source": [
    "## 9.1 Entrenamiento del modelo"
   ]
  },
  {
   "cell_type": "code",
   "execution_count": 89,
   "id": "5db29400",
   "metadata": {},
   "outputs": [],
   "source": [
    "model = Sequential()\n",
    "# Elegir número de neuronas\n",
    "neuronas = x_train.shape[1]\n",
    "neuronas_salida = len(df[\"Interest_Rate\"].unique())\n",
    "\n",
    "# Agregar capas\n",
    "model.add( Dense( units=neuronas, activation='relu' ) )\n",
    "model.add( Dense( units=np.round(neuronas/2), activation='relu' ) )\n",
    "model.add( Dense( units=neuronas_salida, activation='softmax' ) ) # softmax relaciona las categorías entre si\n",
    "\n",
    "# Para una clasificación multiclase usamos \"categorical_crossentropy\"\n",
    "model.compile( loss=\"categorical_crossentropy\", optimizer=\"adam\", metrics=[\"categorical_accuracy\"] )"
   ]
  },
  {
   "cell_type": "code",
   "execution_count": 90,
   "id": "e038e5c4",
   "metadata": {},
   "outputs": [
    {
     "name": "stdout",
     "output_type": "stream",
     "text": [
      "Epoch 1/200\n",
      "171/482 [=========>....................] - ETA: 0s - loss: 1.0507 - categorical_accuracy: 0.4330"
     ]
    },
    {
     "name": "stderr",
     "output_type": "stream",
     "text": [
      "2023-03-12 13:39:33.544830: I tensorflow/core/profiler/lib/profiler_session.cc:101] Profiler session initializing.\n",
      "2023-03-12 13:39:33.544869: I tensorflow/core/profiler/lib/profiler_session.cc:116] Profiler session started.\n",
      "2023-03-12 13:39:33.544916: E tensorflow/core/profiler/backends/gpu/cupti_error_manager.cc:133] cuptiGetTimestamp: ignored due to a previous error.\n",
      "2023-03-12 13:39:33.544926: E tensorflow/core/profiler/backends/gpu/cupti_error_manager.cc:184] cuptiSubscribe: ignored due to a previous error.\n",
      "2023-03-12 13:39:33.544930: E tensorflow/core/profiler/backends/gpu/cupti_error_manager.cc:457] cuptiGetResultString: ignored due to a previous error.\n",
      "2023-03-12 13:39:33.544935: E tensorflow/core/profiler/backends/gpu/cupti_tracer.cc:1715] function cupti_interface_->Subscribe( &subscriber_, (CUpti_CallbackFunc)ApiCallback, this)failed with error \n",
      "2023-03-12 13:39:33.547428: I tensorflow/core/profiler/lib/profiler_session.cc:67] Profiler session collecting data.\n",
      "2023-03-12 13:39:33.547478: E tensorflow/core/profiler/backends/gpu/cupti_error_manager.cc:140] cuptiFinalize: ignored due to a previous error.\n",
      "2023-03-12 13:39:33.547484: E tensorflow/core/profiler/backends/gpu/cupti_error_manager.cc:457] cuptiGetResultString: ignored due to a previous error.\n",
      "2023-03-12 13:39:33.547487: E tensorflow/core/profiler/backends/gpu/cupti_tracer.cc:1807] function cupti_interface_->Finalize()failed with error \n",
      "2023-03-12 13:39:33.554385: E tensorflow/core/profiler/backends/gpu/cupti_error_manager.cc:133] cuptiGetTimestamp: ignored due to a previous error.\n",
      "2023-03-12 13:39:33.554421: E tensorflow/core/profiler/backends/gpu/cupti_error_manager.cc:133] cuptiGetTimestamp: ignored due to a previous error.\n",
      "2023-03-12 13:39:33.554435: I tensorflow/core/profiler/backends/gpu/cupti_collector.cc:522]  GpuTracer has collected 0 callback api events and 0 activity events. \n",
      "2023-03-12 13:39:33.554757: I tensorflow/core/profiler/lib/profiler_session.cc:128] Profiler session tear down.\n",
      "2023-03-12 13:39:33.555930: I tensorflow/core/profiler/rpc/client/save_profile.cc:164] Collecting XSpace to repository: ./logs/fit/202303121339/plugins/profile/2023_03_12_13_39_33/mint-pc.xplane.pb\n"
     ]
    },
    {
     "name": "stdout",
     "output_type": "stream",
     "text": [
      "482/482 [==============================] - 1s 2ms/step - loss: 1.0038 - categorical_accuracy: 0.4813 - val_loss: 0.9627 - val_categorical_accuracy: 0.5224\n",
      "Epoch 2/200\n",
      "482/482 [==============================] - 1s 2ms/step - loss: 0.9613 - categorical_accuracy: 0.5184 - val_loss: 0.9564 - val_categorical_accuracy: 0.5243\n",
      "Epoch 3/200\n",
      "482/482 [==============================] - 1s 2ms/step - loss: 0.9587 - categorical_accuracy: 0.5197 - val_loss: 0.9562 - val_categorical_accuracy: 0.5254\n",
      "Epoch 4/200\n",
      "482/482 [==============================] - 1s 1ms/step - loss: 0.9573 - categorical_accuracy: 0.5201 - val_loss: 0.9541 - val_categorical_accuracy: 0.5244\n",
      "Epoch 5/200\n",
      "482/482 [==============================] - 1s 2ms/step - loss: 0.9562 - categorical_accuracy: 0.5208 - val_loss: 0.9552 - val_categorical_accuracy: 0.5249\n",
      "Epoch 6/200\n",
      "482/482 [==============================] - 1s 1ms/step - loss: 0.9555 - categorical_accuracy: 0.5213 - val_loss: 0.9516 - val_categorical_accuracy: 0.5257\n",
      "Epoch 7/200\n",
      "482/482 [==============================] - 1s 2ms/step - loss: 0.9546 - categorical_accuracy: 0.5222 - val_loss: 0.9513 - val_categorical_accuracy: 0.5251\n",
      "Epoch 8/200\n",
      "482/482 [==============================] - 1s 2ms/step - loss: 0.9540 - categorical_accuracy: 0.5223 - val_loss: 0.9506 - val_categorical_accuracy: 0.5266\n",
      "Epoch 9/200\n",
      "482/482 [==============================] - 1s 2ms/step - loss: 0.9533 - categorical_accuracy: 0.5225 - val_loss: 0.9510 - val_categorical_accuracy: 0.5272\n",
      "Epoch 10/200\n",
      "482/482 [==============================] - 1s 2ms/step - loss: 0.9530 - categorical_accuracy: 0.5228 - val_loss: 0.9497 - val_categorical_accuracy: 0.5260\n",
      "Epoch 11/200\n",
      "482/482 [==============================] - 1s 2ms/step - loss: 0.9528 - categorical_accuracy: 0.5227 - val_loss: 0.9497 - val_categorical_accuracy: 0.5273\n",
      "Epoch 12/200\n",
      "482/482 [==============================] - 1s 1ms/step - loss: 0.9520 - categorical_accuracy: 0.5236 - val_loss: 0.9500 - val_categorical_accuracy: 0.5260\n",
      "Epoch 13/200\n",
      "482/482 [==============================] - 1s 2ms/step - loss: 0.9519 - categorical_accuracy: 0.5235 - val_loss: 0.9525 - val_categorical_accuracy: 0.5248\n",
      "Epoch 14/200\n",
      "482/482 [==============================] - 1s 2ms/step - loss: 0.9513 - categorical_accuracy: 0.5240 - val_loss: 0.9489 - val_categorical_accuracy: 0.5266\n",
      "Epoch 15/200\n",
      "482/482 [==============================] - 1s 2ms/step - loss: 0.9509 - categorical_accuracy: 0.5244 - val_loss: 0.9482 - val_categorical_accuracy: 0.5260\n",
      "Epoch 16/200\n",
      "482/482 [==============================] - 1s 2ms/step - loss: 0.9505 - categorical_accuracy: 0.5248 - val_loss: 0.9482 - val_categorical_accuracy: 0.5276\n",
      "Epoch 17/200\n",
      "482/482 [==============================] - 1s 1ms/step - loss: 0.9504 - categorical_accuracy: 0.5242 - val_loss: 0.9484 - val_categorical_accuracy: 0.5262\n",
      "Epoch 18/200\n",
      "482/482 [==============================] - 1s 1ms/step - loss: 0.9500 - categorical_accuracy: 0.5256 - val_loss: 0.9477 - val_categorical_accuracy: 0.5270\n",
      "Epoch 19/200\n",
      "482/482 [==============================] - 1s 1ms/step - loss: 0.9498 - categorical_accuracy: 0.5252 - val_loss: 0.9470 - val_categorical_accuracy: 0.5270\n",
      "Epoch 20/200\n",
      "482/482 [==============================] - 1s 1ms/step - loss: 0.9494 - categorical_accuracy: 0.5249 - val_loss: 0.9472 - val_categorical_accuracy: 0.5278\n",
      "Epoch 21/200\n",
      "482/482 [==============================] - 1s 1ms/step - loss: 0.9495 - categorical_accuracy: 0.5255 - val_loss: 0.9468 - val_categorical_accuracy: 0.5276\n",
      "Epoch 22/200\n",
      "482/482 [==============================] - 1s 1ms/step - loss: 0.9491 - categorical_accuracy: 0.5250 - val_loss: 0.9476 - val_categorical_accuracy: 0.5265\n",
      "Epoch 23/200\n",
      "482/482 [==============================] - 1s 1ms/step - loss: 0.9490 - categorical_accuracy: 0.5248 - val_loss: 0.9498 - val_categorical_accuracy: 0.5265\n",
      "Epoch 24/200\n",
      "482/482 [==============================] - 1s 2ms/step - loss: 0.9487 - categorical_accuracy: 0.5262 - val_loss: 0.9468 - val_categorical_accuracy: 0.5289\n",
      "Epoch 25/200\n",
      "482/482 [==============================] - 1s 2ms/step - loss: 0.9487 - categorical_accuracy: 0.5263 - val_loss: 0.9482 - val_categorical_accuracy: 0.5274\n",
      "Epoch 26/200\n",
      "482/482 [==============================] - 1s 1ms/step - loss: 0.9483 - categorical_accuracy: 0.5260 - val_loss: 0.9483 - val_categorical_accuracy: 0.5264\n",
      "Epoch 27/200\n",
      "482/482 [==============================] - 1s 2ms/step - loss: 0.9483 - categorical_accuracy: 0.5262 - val_loss: 0.9461 - val_categorical_accuracy: 0.5287\n",
      "Epoch 28/200\n",
      "482/482 [==============================] - 1s 2ms/step - loss: 0.9479 - categorical_accuracy: 0.5261 - val_loss: 0.9464 - val_categorical_accuracy: 0.5282\n",
      "Epoch 29/200\n",
      "482/482 [==============================] - 1s 1ms/step - loss: 0.9480 - categorical_accuracy: 0.5264 - val_loss: 0.9471 - val_categorical_accuracy: 0.5268\n",
      "Epoch 30/200\n",
      "482/482 [==============================] - 1s 1ms/step - loss: 0.9477 - categorical_accuracy: 0.5254 - val_loss: 0.9457 - val_categorical_accuracy: 0.5276\n",
      "Epoch 31/200\n",
      "482/482 [==============================] - 1s 1ms/step - loss: 0.9476 - categorical_accuracy: 0.5261 - val_loss: 0.9459 - val_categorical_accuracy: 0.5292\n",
      "Epoch 32/200\n",
      "482/482 [==============================] - 1s 1ms/step - loss: 0.9473 - categorical_accuracy: 0.5262 - val_loss: 0.9460 - val_categorical_accuracy: 0.5281\n",
      "Epoch 33/200\n",
      "482/482 [==============================] - 1s 1ms/step - loss: 0.9478 - categorical_accuracy: 0.5255 - val_loss: 0.9461 - val_categorical_accuracy: 0.5281\n",
      "Epoch 34/200\n",
      "482/482 [==============================] - 1s 1ms/step - loss: 0.9474 - categorical_accuracy: 0.5258 - val_loss: 0.9480 - val_categorical_accuracy: 0.5285\n",
      "Epoch 35/200\n",
      "482/482 [==============================] - 1s 1ms/step - loss: 0.9474 - categorical_accuracy: 0.5265 - val_loss: 0.9456 - val_categorical_accuracy: 0.5278\n",
      "Epoch 36/200\n",
      "482/482 [==============================] - 1s 1ms/step - loss: 0.9470 - categorical_accuracy: 0.5261 - val_loss: 0.9458 - val_categorical_accuracy: 0.5281\n",
      "Epoch 37/200\n",
      "482/482 [==============================] - 1s 1ms/step - loss: 0.9469 - categorical_accuracy: 0.5261 - val_loss: 0.9464 - val_categorical_accuracy: 0.5264\n",
      "Epoch 38/200\n",
      "482/482 [==============================] - 1s 1ms/step - loss: 0.9468 - categorical_accuracy: 0.5264 - val_loss: 0.9458 - val_categorical_accuracy: 0.5289\n",
      "Epoch 39/200\n",
      "482/482 [==============================] - 1s 1ms/step - loss: 0.9467 - categorical_accuracy: 0.5269 - val_loss: 0.9456 - val_categorical_accuracy: 0.5279\n",
      "Epoch 40/200\n",
      "482/482 [==============================] - 1s 1ms/step - loss: 0.9465 - categorical_accuracy: 0.5271 - val_loss: 0.9462 - val_categorical_accuracy: 0.5287\n",
      "Epoch 41/200\n",
      "482/482 [==============================] - 1s 1ms/step - loss: 0.9466 - categorical_accuracy: 0.5270 - val_loss: 0.9461 - val_categorical_accuracy: 0.5278\n",
      "Epoch 42/200\n",
      "482/482 [==============================] - 1s 1ms/step - loss: 0.9467 - categorical_accuracy: 0.5259 - val_loss: 0.9465 - val_categorical_accuracy: 0.5277\n",
      "Epoch 43/200\n",
      "482/482 [==============================] - 1s 1ms/step - loss: 0.9465 - categorical_accuracy: 0.5258 - val_loss: 0.9460 - val_categorical_accuracy: 0.5291\n",
      "Epoch 44/200\n",
      "482/482 [==============================] - 1s 1ms/step - loss: 0.9465 - categorical_accuracy: 0.5261 - val_loss: 0.9453 - val_categorical_accuracy: 0.5281\n",
      "Epoch 45/200\n",
      "482/482 [==============================] - 1s 1ms/step - loss: 0.9463 - categorical_accuracy: 0.5272 - val_loss: 0.9459 - val_categorical_accuracy: 0.5273\n",
      "Epoch 46/200\n",
      "482/482 [==============================] - 1s 1ms/step - loss: 0.9462 - categorical_accuracy: 0.5271 - val_loss: 0.9458 - val_categorical_accuracy: 0.5277\n",
      "Epoch 47/200\n",
      "482/482 [==============================] - 1s 1ms/step - loss: 0.9462 - categorical_accuracy: 0.5265 - val_loss: 0.9462 - val_categorical_accuracy: 0.5290\n",
      "Epoch 48/200\n",
      "482/482 [==============================] - 1s 1ms/step - loss: 0.9462 - categorical_accuracy: 0.5268 - val_loss: 0.9457 - val_categorical_accuracy: 0.5287\n",
      "Epoch 49/200\n",
      "482/482 [==============================] - 1s 1ms/step - loss: 0.9461 - categorical_accuracy: 0.5273 - val_loss: 0.9454 - val_categorical_accuracy: 0.5303\n",
      "Epoch 50/200\n",
      "482/482 [==============================] - 1s 1ms/step - loss: 0.9462 - categorical_accuracy: 0.5263 - val_loss: 0.9462 - val_categorical_accuracy: 0.5291\n",
      "Epoch 51/200\n",
      "482/482 [==============================] - 1s 1ms/step - loss: 0.9457 - categorical_accuracy: 0.5271 - val_loss: 0.9451 - val_categorical_accuracy: 0.5286\n",
      "Epoch 52/200\n",
      "482/482 [==============================] - 1s 1ms/step - loss: 0.9455 - categorical_accuracy: 0.5266 - val_loss: 0.9457 - val_categorical_accuracy: 0.5278\n",
      "Epoch 53/200\n",
      "482/482 [==============================] - 1s 1ms/step - loss: 0.9458 - categorical_accuracy: 0.5269 - val_loss: 0.9450 - val_categorical_accuracy: 0.5279\n",
      "Epoch 54/200\n",
      "482/482 [==============================] - 1s 1ms/step - loss: 0.9456 - categorical_accuracy: 0.5269 - val_loss: 0.9453 - val_categorical_accuracy: 0.5292\n",
      "Epoch 55/200\n",
      "482/482 [==============================] - 1s 1ms/step - loss: 0.9455 - categorical_accuracy: 0.5273 - val_loss: 0.9456 - val_categorical_accuracy: 0.5283\n",
      "Epoch 56/200\n",
      "482/482 [==============================] - 1s 1ms/step - loss: 0.9459 - categorical_accuracy: 0.5270 - val_loss: 0.9459 - val_categorical_accuracy: 0.5276\n",
      "Epoch 57/200\n",
      "482/482 [==============================] - 1s 1ms/step - loss: 0.9456 - categorical_accuracy: 0.5278 - val_loss: 0.9452 - val_categorical_accuracy: 0.5288\n",
      "Epoch 58/200\n",
      "482/482 [==============================] - 1s 1ms/step - loss: 0.9456 - categorical_accuracy: 0.5278 - val_loss: 0.9458 - val_categorical_accuracy: 0.5278\n",
      "Epoch 59/200\n",
      "482/482 [==============================] - 1s 1ms/step - loss: 0.9455 - categorical_accuracy: 0.5270 - val_loss: 0.9448 - val_categorical_accuracy: 0.5292\n",
      "Epoch 60/200\n",
      "482/482 [==============================] - 1s 1ms/step - loss: 0.9453 - categorical_accuracy: 0.5272 - val_loss: 0.9451 - val_categorical_accuracy: 0.5295\n",
      "Epoch 61/200\n",
      "482/482 [==============================] - 1s 1ms/step - loss: 0.9453 - categorical_accuracy: 0.5280 - val_loss: 0.9520 - val_categorical_accuracy: 0.5261\n",
      "Epoch 62/200\n",
      "482/482 [==============================] - 1s 1ms/step - loss: 0.9453 - categorical_accuracy: 0.5269 - val_loss: 0.9459 - val_categorical_accuracy: 0.5291\n",
      "Epoch 63/200\n",
      "482/482 [==============================] - 1s 1ms/step - loss: 0.9452 - categorical_accuracy: 0.5272 - val_loss: 0.9457 - val_categorical_accuracy: 0.5292\n",
      "Epoch 64/200\n",
      "482/482 [==============================] - 1s 1ms/step - loss: 0.9450 - categorical_accuracy: 0.5267 - val_loss: 0.9480 - val_categorical_accuracy: 0.5280\n",
      "Epoch 65/200\n",
      "482/482 [==============================] - 1s 1ms/step - loss: 0.9451 - categorical_accuracy: 0.5272 - val_loss: 0.9461 - val_categorical_accuracy: 0.5278\n",
      "Epoch 66/200\n",
      "482/482 [==============================] - 1s 1ms/step - loss: 0.9451 - categorical_accuracy: 0.5275 - val_loss: 0.9454 - val_categorical_accuracy: 0.5279\n",
      "Epoch 67/200\n",
      "482/482 [==============================] - 1s 1ms/step - loss: 0.9451 - categorical_accuracy: 0.5275 - val_loss: 0.9460 - val_categorical_accuracy: 0.5284\n",
      "Epoch 68/200\n",
      "482/482 [==============================] - 1s 1ms/step - loss: 0.9450 - categorical_accuracy: 0.5278 - val_loss: 0.9452 - val_categorical_accuracy: 0.5294\n",
      "Epoch 69/200\n",
      "482/482 [==============================] - 1s 1ms/step - loss: 0.9448 - categorical_accuracy: 0.5280 - val_loss: 0.9473 - val_categorical_accuracy: 0.5285\n",
      "Epoch 70/200\n",
      "482/482 [==============================] - 1s 1ms/step - loss: 0.9448 - categorical_accuracy: 0.5282 - val_loss: 0.9449 - val_categorical_accuracy: 0.5280\n",
      "Epoch 71/200\n",
      "482/482 [==============================] - 1s 1ms/step - loss: 0.9449 - categorical_accuracy: 0.5281 - val_loss: 0.9449 - val_categorical_accuracy: 0.5288\n",
      "Epoch 72/200\n",
      "482/482 [==============================] - 1s 1ms/step - loss: 0.9447 - categorical_accuracy: 0.5275 - val_loss: 0.9452 - val_categorical_accuracy: 0.5287\n",
      "Epoch 73/200\n",
      "482/482 [==============================] - 1s 1ms/step - loss: 0.9446 - categorical_accuracy: 0.5272 - val_loss: 0.9456 - val_categorical_accuracy: 0.5278\n",
      "Epoch 74/200\n",
      "482/482 [==============================] - 1s 1ms/step - loss: 0.9447 - categorical_accuracy: 0.5287 - val_loss: 0.9459 - val_categorical_accuracy: 0.5278\n",
      "Epoch 74: early stopping\n"
     ]
    },
    {
     "data": {
      "text/plain": [
       "<keras.callbacks.History at 0x7f43e067ed00>"
      ]
     },
     "execution_count": 90,
     "metadata": {},
     "output_type": "execute_result"
    }
   ],
   "source": [
    "model.fit(\n",
    "    x=x_train,\n",
    "    y=y_train,\n",
    "    epochs=200,\n",
    "    batch_size=256,\n",
    "    validation_data=(x_test, y_test),\n",
    "    verbose=1,\n",
    "    callbacks=[early_stop, board]\n",
    ")"
   ]
  },
  {
   "cell_type": "markdown",
   "id": "3593f7a9",
   "metadata": {},
   "source": [
    "## 9.2 Ejecutar Tensorboard"
   ]
  },
  {
   "cell_type": "code",
   "execution_count": 91,
   "id": "02ac3132",
   "metadata": {},
   "outputs": [],
   "source": [
    "# Ejecutar en la línea de comandos\n",
    "# tensorboard --logdir logs\\fit\\20230312\n",
    "# Tomar en cuenta que el directorio podría variar por la carpeta o el SO"
   ]
  }
 ],
 "metadata": {
  "kernelspec": {
   "display_name": "base",
   "language": "python",
   "name": "python3"
  },
  "language_info": {
   "codemirror_mode": {
    "name": "ipython",
    "version": 3
   },
   "file_extension": ".py",
   "mimetype": "text/x-python",
   "name": "python",
   "nbconvert_exporter": "python",
   "pygments_lexer": "ipython3",
   "version": "3.9.13"
  },
  "vscode": {
   "interpreter": {
    "hash": "7fed915be7fa476352b89dd9c57a3b646f0150938b01433fe7bb801dd53d12da"
   }
  }
 },
 "nbformat": 4,
 "nbformat_minor": 5
}

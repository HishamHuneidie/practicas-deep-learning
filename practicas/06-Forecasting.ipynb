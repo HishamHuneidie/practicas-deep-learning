{
 "cells": [
  {
   "attachments": {},
   "cell_type": "markdown",
   "id": "ea6b80bf",
   "metadata": {},
   "source": [
    "# Forecasting"
   ]
  },
  {
   "cell_type": "markdown",
   "id": "7f8e18f6",
   "metadata": {},
   "source": [
    "# 1.Importación librerías"
   ]
  },
  {
   "cell_type": "code",
   "execution_count": 72,
   "id": "cabfae30",
   "metadata": {},
   "outputs": [],
   "source": [
    "import pandas as pd\n",
    "import numpy as np\n",
    "import matplotlib.pyplot as plt\n",
    "import tensorflow as tf\n",
    "import os\n",
    "from tensorflow.keras.utils import get_file"
   ]
  },
  {
   "cell_type": "markdown",
   "id": "80d37c4d",
   "metadata": {},
   "source": [
    "# 2.Importación fuente de datos"
   ]
  },
  {
   "cell_type": "code",
   "execution_count": 73,
   "id": "65d636cf",
   "metadata": {},
   "outputs": [],
   "source": [
    "zipPath = get_file(\n",
    "    origin  = 'https://storage.googleapis.com/tensorflow/tf-keras-datasets/jena_climate_2009_2016.csv.zip',\n",
    "    fname   = 'jena_climate_2009_2016.csv.zip',\n",
    "    extract = True\n",
    ")\n",
    "csvPath, _ = os.path.splitext(zipPath)"
   ]
  },
  {
   "cell_type": "code",
   "execution_count": 74,
   "id": "d38aa94b",
   "metadata": {},
   "outputs": [
    {
     "data": {
      "text/html": [
       "<div>\n",
       "<style scoped>\n",
       "    .dataframe tbody tr th:only-of-type {\n",
       "        vertical-align: middle;\n",
       "    }\n",
       "\n",
       "    .dataframe tbody tr th {\n",
       "        vertical-align: top;\n",
       "    }\n",
       "\n",
       "    .dataframe thead th {\n",
       "        text-align: right;\n",
       "    }\n",
       "</style>\n",
       "<table border=\"1\" class=\"dataframe\">\n",
       "  <thead>\n",
       "    <tr style=\"text-align: right;\">\n",
       "      <th></th>\n",
       "      <th>Date Time</th>\n",
       "      <th>p (mbar)</th>\n",
       "      <th>T (degC)</th>\n",
       "      <th>Tpot (K)</th>\n",
       "      <th>Tdew (degC)</th>\n",
       "      <th>rh (%)</th>\n",
       "      <th>VPmax (mbar)</th>\n",
       "      <th>VPact (mbar)</th>\n",
       "      <th>VPdef (mbar)</th>\n",
       "      <th>sh (g/kg)</th>\n",
       "      <th>H2OC (mmol/mol)</th>\n",
       "      <th>rho (g/m**3)</th>\n",
       "      <th>wv (m/s)</th>\n",
       "      <th>max. wv (m/s)</th>\n",
       "      <th>wd (deg)</th>\n",
       "    </tr>\n",
       "  </thead>\n",
       "  <tbody>\n",
       "    <tr>\n",
       "      <th>0</th>\n",
       "      <td>01.01.2009 00:10:00</td>\n",
       "      <td>996.52</td>\n",
       "      <td>-8.02</td>\n",
       "      <td>265.40</td>\n",
       "      <td>-8.90</td>\n",
       "      <td>93.3</td>\n",
       "      <td>3.33</td>\n",
       "      <td>3.11</td>\n",
       "      <td>0.22</td>\n",
       "      <td>1.94</td>\n",
       "      <td>3.12</td>\n",
       "      <td>1307.75</td>\n",
       "      <td>1.03</td>\n",
       "      <td>1.75</td>\n",
       "      <td>152.3</td>\n",
       "    </tr>\n",
       "    <tr>\n",
       "      <th>1</th>\n",
       "      <td>01.01.2009 00:20:00</td>\n",
       "      <td>996.57</td>\n",
       "      <td>-8.41</td>\n",
       "      <td>265.01</td>\n",
       "      <td>-9.28</td>\n",
       "      <td>93.4</td>\n",
       "      <td>3.23</td>\n",
       "      <td>3.02</td>\n",
       "      <td>0.21</td>\n",
       "      <td>1.89</td>\n",
       "      <td>3.03</td>\n",
       "      <td>1309.80</td>\n",
       "      <td>0.72</td>\n",
       "      <td>1.50</td>\n",
       "      <td>136.1</td>\n",
       "    </tr>\n",
       "    <tr>\n",
       "      <th>2</th>\n",
       "      <td>01.01.2009 00:30:00</td>\n",
       "      <td>996.53</td>\n",
       "      <td>-8.51</td>\n",
       "      <td>264.91</td>\n",
       "      <td>-9.31</td>\n",
       "      <td>93.9</td>\n",
       "      <td>3.21</td>\n",
       "      <td>3.01</td>\n",
       "      <td>0.20</td>\n",
       "      <td>1.88</td>\n",
       "      <td>3.02</td>\n",
       "      <td>1310.24</td>\n",
       "      <td>0.19</td>\n",
       "      <td>0.63</td>\n",
       "      <td>171.6</td>\n",
       "    </tr>\n",
       "    <tr>\n",
       "      <th>3</th>\n",
       "      <td>01.01.2009 00:40:00</td>\n",
       "      <td>996.51</td>\n",
       "      <td>-8.31</td>\n",
       "      <td>265.12</td>\n",
       "      <td>-9.07</td>\n",
       "      <td>94.2</td>\n",
       "      <td>3.26</td>\n",
       "      <td>3.07</td>\n",
       "      <td>0.19</td>\n",
       "      <td>1.92</td>\n",
       "      <td>3.08</td>\n",
       "      <td>1309.19</td>\n",
       "      <td>0.34</td>\n",
       "      <td>0.50</td>\n",
       "      <td>198.0</td>\n",
       "    </tr>\n",
       "    <tr>\n",
       "      <th>4</th>\n",
       "      <td>01.01.2009 00:50:00</td>\n",
       "      <td>996.51</td>\n",
       "      <td>-8.27</td>\n",
       "      <td>265.15</td>\n",
       "      <td>-9.04</td>\n",
       "      <td>94.1</td>\n",
       "      <td>3.27</td>\n",
       "      <td>3.08</td>\n",
       "      <td>0.19</td>\n",
       "      <td>1.92</td>\n",
       "      <td>3.09</td>\n",
       "      <td>1309.00</td>\n",
       "      <td>0.32</td>\n",
       "      <td>0.63</td>\n",
       "      <td>214.3</td>\n",
       "    </tr>\n",
       "  </tbody>\n",
       "</table>\n",
       "</div>"
      ],
      "text/plain": [
       "             Date Time  p (mbar)  T (degC)  Tpot (K)  Tdew (degC)  rh (%)  \\\n",
       "0  01.01.2009 00:10:00    996.52     -8.02    265.40        -8.90    93.3   \n",
       "1  01.01.2009 00:20:00    996.57     -8.41    265.01        -9.28    93.4   \n",
       "2  01.01.2009 00:30:00    996.53     -8.51    264.91        -9.31    93.9   \n",
       "3  01.01.2009 00:40:00    996.51     -8.31    265.12        -9.07    94.2   \n",
       "4  01.01.2009 00:50:00    996.51     -8.27    265.15        -9.04    94.1   \n",
       "\n",
       "   VPmax (mbar)  VPact (mbar)  VPdef (mbar)  sh (g/kg)  H2OC (mmol/mol)  \\\n",
       "0          3.33          3.11          0.22       1.94             3.12   \n",
       "1          3.23          3.02          0.21       1.89             3.03   \n",
       "2          3.21          3.01          0.20       1.88             3.02   \n",
       "3          3.26          3.07          0.19       1.92             3.08   \n",
       "4          3.27          3.08          0.19       1.92             3.09   \n",
       "\n",
       "   rho (g/m**3)  wv (m/s)  max. wv (m/s)  wd (deg)  \n",
       "0       1307.75      1.03           1.75     152.3  \n",
       "1       1309.80      0.72           1.50     136.1  \n",
       "2       1310.24      0.19           0.63     171.6  \n",
       "3       1309.19      0.34           0.50     198.0  \n",
       "4       1309.00      0.32           0.63     214.3  "
      ]
     },
     "execution_count": 74,
     "metadata": {},
     "output_type": "execute_result"
    }
   ],
   "source": [
    "df = pd.read_csv(csvPath)\n",
    "df.head()"
   ]
  },
  {
   "cell_type": "code",
   "execution_count": 75,
   "id": "f2493b03",
   "metadata": {},
   "outputs": [
    {
     "name": "stdout",
     "output_type": "stream",
     "text": [
      "<class 'pandas.core.frame.DataFrame'>\n",
      "RangeIndex: 420551 entries, 0 to 420550\n",
      "Data columns (total 15 columns):\n",
      " #   Column           Non-Null Count   Dtype  \n",
      "---  ------           --------------   -----  \n",
      " 0   Date Time        420551 non-null  object \n",
      " 1   p (mbar)         420551 non-null  float64\n",
      " 2   T (degC)         420551 non-null  float64\n",
      " 3   Tpot (K)         420551 non-null  float64\n",
      " 4   Tdew (degC)      420551 non-null  float64\n",
      " 5   rh (%)           420551 non-null  float64\n",
      " 6   VPmax (mbar)     420551 non-null  float64\n",
      " 7   VPact (mbar)     420551 non-null  float64\n",
      " 8   VPdef (mbar)     420551 non-null  float64\n",
      " 9   sh (g/kg)        420551 non-null  float64\n",
      " 10  H2OC (mmol/mol)  420551 non-null  float64\n",
      " 11  rho (g/m**3)     420551 non-null  float64\n",
      " 12  wv (m/s)         420551 non-null  float64\n",
      " 13  max. wv (m/s)    420551 non-null  float64\n",
      " 14  wd (deg)         420551 non-null  float64\n",
      "dtypes: float64(14), object(1)\n",
      "memory usage: 48.1+ MB\n"
     ]
    }
   ],
   "source": [
    "df.info()"
   ]
  },
  {
   "cell_type": "code",
   "execution_count": 76,
   "id": "f9d26767",
   "metadata": {},
   "outputs": [],
   "source": [
    "nMuestras = int(60/10*24*30) # Número de muestras para completar un mes"
   ]
  },
  {
   "cell_type": "code",
   "execution_count": 77,
   "id": "13a25d17",
   "metadata": {},
   "outputs": [],
   "source": [
    "df = df[0::nMuestras]\n",
    "df.index = pd.to_datetime( df['Date Time'], format='%d.%m.%Y %H:%M:%S' )\n",
    "df = df.drop([\"Date Time\"], axis=1)"
   ]
  },
  {
   "cell_type": "code",
   "execution_count": 78,
   "id": "478a6482",
   "metadata": {},
   "outputs": [
    {
     "data": {
      "text/html": [
       "<div>\n",
       "<style scoped>\n",
       "    .dataframe tbody tr th:only-of-type {\n",
       "        vertical-align: middle;\n",
       "    }\n",
       "\n",
       "    .dataframe tbody tr th {\n",
       "        vertical-align: top;\n",
       "    }\n",
       "\n",
       "    .dataframe thead th {\n",
       "        text-align: right;\n",
       "    }\n",
       "</style>\n",
       "<table border=\"1\" class=\"dataframe\">\n",
       "  <thead>\n",
       "    <tr style=\"text-align: right;\">\n",
       "      <th></th>\n",
       "      <th>p (mbar)</th>\n",
       "      <th>T (degC)</th>\n",
       "      <th>Tpot (K)</th>\n",
       "      <th>Tdew (degC)</th>\n",
       "      <th>rh (%)</th>\n",
       "      <th>VPmax (mbar)</th>\n",
       "      <th>VPact (mbar)</th>\n",
       "      <th>VPdef (mbar)</th>\n",
       "      <th>sh (g/kg)</th>\n",
       "      <th>H2OC (mmol/mol)</th>\n",
       "      <th>rho (g/m**3)</th>\n",
       "      <th>wv (m/s)</th>\n",
       "      <th>max. wv (m/s)</th>\n",
       "      <th>wd (deg)</th>\n",
       "    </tr>\n",
       "    <tr>\n",
       "      <th>Date Time</th>\n",
       "      <th></th>\n",
       "      <th></th>\n",
       "      <th></th>\n",
       "      <th></th>\n",
       "      <th></th>\n",
       "      <th></th>\n",
       "      <th></th>\n",
       "      <th></th>\n",
       "      <th></th>\n",
       "      <th></th>\n",
       "      <th></th>\n",
       "      <th></th>\n",
       "      <th></th>\n",
       "      <th></th>\n",
       "    </tr>\n",
       "  </thead>\n",
       "  <tbody>\n",
       "    <tr>\n",
       "      <th>2009-01-01 00:10:00</th>\n",
       "      <td>996.52</td>\n",
       "      <td>-8.02</td>\n",
       "      <td>265.40</td>\n",
       "      <td>-8.90</td>\n",
       "      <td>93.3</td>\n",
       "      <td>3.33</td>\n",
       "      <td>3.11</td>\n",
       "      <td>0.22</td>\n",
       "      <td>1.94</td>\n",
       "      <td>3.12</td>\n",
       "      <td>1307.75</td>\n",
       "      <td>1.03</td>\n",
       "      <td>1.75</td>\n",
       "      <td>152.30</td>\n",
       "    </tr>\n",
       "    <tr>\n",
       "      <th>2009-01-31 00:10:00</th>\n",
       "      <td>997.40</td>\n",
       "      <td>-2.50</td>\n",
       "      <td>270.86</td>\n",
       "      <td>-4.01</td>\n",
       "      <td>89.3</td>\n",
       "      <td>5.08</td>\n",
       "      <td>4.54</td>\n",
       "      <td>0.54</td>\n",
       "      <td>2.83</td>\n",
       "      <td>4.55</td>\n",
       "      <td>1281.53</td>\n",
       "      <td>2.13</td>\n",
       "      <td>3.25</td>\n",
       "      <td>39.53</td>\n",
       "    </tr>\n",
       "    <tr>\n",
       "      <th>2009-03-02 00:10:00</th>\n",
       "      <td>984.11</td>\n",
       "      <td>3.60</td>\n",
       "      <td>278.03</td>\n",
       "      <td>2.07</td>\n",
       "      <td>89.7</td>\n",
       "      <td>7.91</td>\n",
       "      <td>7.09</td>\n",
       "      <td>0.81</td>\n",
       "      <td>4.50</td>\n",
       "      <td>7.21</td>\n",
       "      <td>1235.34</td>\n",
       "      <td>2.24</td>\n",
       "      <td>3.38</td>\n",
       "      <td>177.60</td>\n",
       "    </tr>\n",
       "    <tr>\n",
       "      <th>2009-04-01 00:10:00</th>\n",
       "      <td>994.63</td>\n",
       "      <td>3.05</td>\n",
       "      <td>276.64</td>\n",
       "      <td>-0.48</td>\n",
       "      <td>77.5</td>\n",
       "      <td>7.61</td>\n",
       "      <td>5.90</td>\n",
       "      <td>1.71</td>\n",
       "      <td>3.70</td>\n",
       "      <td>5.93</td>\n",
       "      <td>1251.62</td>\n",
       "      <td>0.35</td>\n",
       "      <td>0.63</td>\n",
       "      <td>118.50</td>\n",
       "    </tr>\n",
       "    <tr>\n",
       "      <th>2009-05-01 00:10:00</th>\n",
       "      <td>992.96</td>\n",
       "      <td>9.66</td>\n",
       "      <td>283.39</td>\n",
       "      <td>8.63</td>\n",
       "      <td>93.3</td>\n",
       "      <td>12.02</td>\n",
       "      <td>11.21</td>\n",
       "      <td>0.81</td>\n",
       "      <td>7.05</td>\n",
       "      <td>11.29</td>\n",
       "      <td>1217.85</td>\n",
       "      <td>0.70</td>\n",
       "      <td>1.13</td>\n",
       "      <td>138.80</td>\n",
       "    </tr>\n",
       "  </tbody>\n",
       "</table>\n",
       "</div>"
      ],
      "text/plain": [
       "                     p (mbar)  T (degC)  Tpot (K)  Tdew (degC)  rh (%)  \\\n",
       "Date Time                                                                \n",
       "2009-01-01 00:10:00    996.52     -8.02    265.40        -8.90    93.3   \n",
       "2009-01-31 00:10:00    997.40     -2.50    270.86        -4.01    89.3   \n",
       "2009-03-02 00:10:00    984.11      3.60    278.03         2.07    89.7   \n",
       "2009-04-01 00:10:00    994.63      3.05    276.64        -0.48    77.5   \n",
       "2009-05-01 00:10:00    992.96      9.66    283.39         8.63    93.3   \n",
       "\n",
       "                     VPmax (mbar)  VPact (mbar)  VPdef (mbar)  sh (g/kg)  \\\n",
       "Date Time                                                                  \n",
       "2009-01-01 00:10:00          3.33          3.11          0.22       1.94   \n",
       "2009-01-31 00:10:00          5.08          4.54          0.54       2.83   \n",
       "2009-03-02 00:10:00          7.91          7.09          0.81       4.50   \n",
       "2009-04-01 00:10:00          7.61          5.90          1.71       3.70   \n",
       "2009-05-01 00:10:00         12.02         11.21          0.81       7.05   \n",
       "\n",
       "                     H2OC (mmol/mol)  rho (g/m**3)  wv (m/s)  max. wv (m/s)  \\\n",
       "Date Time                                                                     \n",
       "2009-01-01 00:10:00             3.12       1307.75      1.03           1.75   \n",
       "2009-01-31 00:10:00             4.55       1281.53      2.13           3.25   \n",
       "2009-03-02 00:10:00             7.21       1235.34      2.24           3.38   \n",
       "2009-04-01 00:10:00             5.93       1251.62      0.35           0.63   \n",
       "2009-05-01 00:10:00            11.29       1217.85      0.70           1.13   \n",
       "\n",
       "                     wd (deg)  \n",
       "Date Time                      \n",
       "2009-01-01 00:10:00    152.30  \n",
       "2009-01-31 00:10:00     39.53  \n",
       "2009-03-02 00:10:00    177.60  \n",
       "2009-04-01 00:10:00    118.50  \n",
       "2009-05-01 00:10:00    138.80  "
      ]
     },
     "execution_count": 78,
     "metadata": {},
     "output_type": "execute_result"
    }
   ],
   "source": [
    "df.head()"
   ]
  },
  {
   "cell_type": "markdown",
   "id": "5476fc12",
   "metadata": {},
   "source": [
    "# 3.Preprocesado"
   ]
  },
  {
   "cell_type": "markdown",
   "id": "8612acde",
   "metadata": {},
   "source": [
    "## 3.1Visualización de la secuencia"
   ]
  },
  {
   "cell_type": "code",
   "execution_count": 79,
   "id": "d7c56527",
   "metadata": {},
   "outputs": [
    {
     "data": {
      "text/html": [
       "<div>\n",
       "<style scoped>\n",
       "    .dataframe tbody tr th:only-of-type {\n",
       "        vertical-align: middle;\n",
       "    }\n",
       "\n",
       "    .dataframe tbody tr th {\n",
       "        vertical-align: top;\n",
       "    }\n",
       "\n",
       "    .dataframe thead th {\n",
       "        text-align: right;\n",
       "    }\n",
       "</style>\n",
       "<table border=\"1\" class=\"dataframe\">\n",
       "  <thead>\n",
       "    <tr style=\"text-align: right;\">\n",
       "      <th></th>\n",
       "      <th>T (degC)</th>\n",
       "    </tr>\n",
       "    <tr>\n",
       "      <th>Date Time</th>\n",
       "      <th></th>\n",
       "    </tr>\n",
       "  </thead>\n",
       "  <tbody>\n",
       "    <tr>\n",
       "      <th>2009-01-01 00:10:00</th>\n",
       "      <td>-8.02</td>\n",
       "    </tr>\n",
       "    <tr>\n",
       "      <th>2009-01-31 00:10:00</th>\n",
       "      <td>-2.50</td>\n",
       "    </tr>\n",
       "    <tr>\n",
       "      <th>2009-03-02 00:10:00</th>\n",
       "      <td>3.60</td>\n",
       "    </tr>\n",
       "    <tr>\n",
       "      <th>2009-04-01 00:10:00</th>\n",
       "      <td>3.05</td>\n",
       "    </tr>\n",
       "    <tr>\n",
       "      <th>2009-05-01 00:10:00</th>\n",
       "      <td>9.66</td>\n",
       "    </tr>\n",
       "    <tr>\n",
       "      <th>...</th>\n",
       "      <td>...</td>\n",
       "    </tr>\n",
       "    <tr>\n",
       "      <th>2016-08-20 10:10:00</th>\n",
       "      <td>21.81</td>\n",
       "    </tr>\n",
       "    <tr>\n",
       "      <th>2016-09-19 10:10:00</th>\n",
       "      <td>11.80</td>\n",
       "    </tr>\n",
       "    <tr>\n",
       "      <th>2016-10-19 10:10:00</th>\n",
       "      <td>8.81</td>\n",
       "    </tr>\n",
       "    <tr>\n",
       "      <th>2016-11-21 12:20:00</th>\n",
       "      <td>9.62</td>\n",
       "    </tr>\n",
       "    <tr>\n",
       "      <th>2016-12-21 12:20:00</th>\n",
       "      <td>1.02</td>\n",
       "    </tr>\n",
       "  </tbody>\n",
       "</table>\n",
       "<p>98 rows × 1 columns</p>\n",
       "</div>"
      ],
      "text/plain": [
       "                     T (degC)\n",
       "Date Time                    \n",
       "2009-01-01 00:10:00     -8.02\n",
       "2009-01-31 00:10:00     -2.50\n",
       "2009-03-02 00:10:00      3.60\n",
       "2009-04-01 00:10:00      3.05\n",
       "2009-05-01 00:10:00      9.66\n",
       "...                       ...\n",
       "2016-08-20 10:10:00     21.81\n",
       "2016-09-19 10:10:00     11.80\n",
       "2016-10-19 10:10:00      8.81\n",
       "2016-11-21 12:20:00      9.62\n",
       "2016-12-21 12:20:00      1.02\n",
       "\n",
       "[98 rows x 1 columns]"
      ]
     },
     "execution_count": 79,
     "metadata": {},
     "output_type": "execute_result"
    }
   ],
   "source": [
    "# Hacer forecast solo de la variable \"T (degC)\"\n",
    "df = df[\"T (degC)\"].to_frame()\n",
    "df"
   ]
  },
  {
   "cell_type": "code",
   "execution_count": 80,
   "id": "5b04a767",
   "metadata": {},
   "outputs": [
    {
     "data": {
      "text/plain": [
       "<AxesSubplot:xlabel='Date Time'>"
      ]
     },
     "execution_count": 80,
     "metadata": {},
     "output_type": "execute_result"
    },
    {
     "data": {
      "image/png": "[encoded data removed]",
      "text/plain": [
       "<Figure size 1200x800 with 1 Axes>"
      ]
     },
     "metadata": {},
     "output_type": "display_data"
    }
   ],
   "source": [
    "df.plot(figsize=(12,8))"
   ]
  },
  {
   "cell_type": "markdown",
   "id": "4b727164",
   "metadata": {},
   "source": [
    "# 4.Train Test Split"
   ]
  },
  {
   "cell_type": "code",
   "execution_count": 81,
   "id": "aedb1115",
   "metadata": {},
   "outputs": [
    {
     "data": {
      "text/plain": [
       "8.166666666666666"
      ]
     },
     "execution_count": 81,
     "metadata": {},
     "output_type": "execute_result"
    }
   ],
   "source": [
    "# 12 son los meses del año\n",
    "# El resultado de la siguiente división dará la cantidad de años quq hay en el df\n",
    "len(df)/12"
   ]
  },
  {
   "cell_type": "code",
   "execution_count": 82,
   "id": "6a88d209",
   "metadata": {},
   "outputs": [],
   "source": [
    "# 8 años de datos\n",
    "# test = 1.5 años = 18 meses\n",
    "tamaño_test = 18\n",
    "test_ind = len(df) - tamaño_test"
   ]
  },
  {
   "cell_type": "code",
   "execution_count": 83,
   "id": "fcafde8c",
   "metadata": {},
   "outputs": [],
   "source": [
    "train = df.iloc[:test_ind]\n",
    "test = df.iloc[test_ind:]"
   ]
  },
  {
   "cell_type": "code",
   "execution_count": 84,
   "id": "19ead1bc",
   "metadata": {},
   "outputs": [
    {
     "data": {
      "text/html": [
       "<div>\n",
       "<style scoped>\n",
       "    .dataframe tbody tr th:only-of-type {\n",
       "        vertical-align: middle;\n",
       "    }\n",
       "\n",
       "    .dataframe tbody tr th {\n",
       "        vertical-align: top;\n",
       "    }\n",
       "\n",
       "    .dataframe thead th {\n",
       "        text-align: right;\n",
       "    }\n",
       "</style>\n",
       "<table border=\"1\" class=\"dataframe\">\n",
       "  <thead>\n",
       "    <tr style=\"text-align: right;\">\n",
       "      <th></th>\n",
       "      <th>T (degC)</th>\n",
       "    </tr>\n",
       "    <tr>\n",
       "      <th>Date Time</th>\n",
       "      <th></th>\n",
       "    </tr>\n",
       "  </thead>\n",
       "  <tbody>\n",
       "    <tr>\n",
       "      <th>2009-01-01 00:10:00</th>\n",
       "      <td>-8.02</td>\n",
       "    </tr>\n",
       "    <tr>\n",
       "      <th>2009-01-31 00:10:00</th>\n",
       "      <td>-2.50</td>\n",
       "    </tr>\n",
       "    <tr>\n",
       "      <th>2009-03-02 00:10:00</th>\n",
       "      <td>3.60</td>\n",
       "    </tr>\n",
       "    <tr>\n",
       "      <th>2009-04-01 00:10:00</th>\n",
       "      <td>3.05</td>\n",
       "    </tr>\n",
       "    <tr>\n",
       "      <th>2009-05-01 00:10:00</th>\n",
       "      <td>9.66</td>\n",
       "    </tr>\n",
       "    <tr>\n",
       "      <th>...</th>\n",
       "      <td>...</td>\n",
       "    </tr>\n",
       "    <tr>\n",
       "      <th>2015-02-27 10:10:00</th>\n",
       "      <td>4.00</td>\n",
       "    </tr>\n",
       "    <tr>\n",
       "      <th>2015-03-29 10:10:00</th>\n",
       "      <td>11.26</td>\n",
       "    </tr>\n",
       "    <tr>\n",
       "      <th>2015-04-28 10:10:00</th>\n",
       "      <td>5.49</td>\n",
       "    </tr>\n",
       "    <tr>\n",
       "      <th>2015-05-28 10:10:00</th>\n",
       "      <td>15.03</td>\n",
       "    </tr>\n",
       "    <tr>\n",
       "      <th>2015-06-27 10:10:00</th>\n",
       "      <td>19.43</td>\n",
       "    </tr>\n",
       "  </tbody>\n",
       "</table>\n",
       "<p>80 rows × 1 columns</p>\n",
       "</div>"
      ],
      "text/plain": [
       "                     T (degC)\n",
       "Date Time                    \n",
       "2009-01-01 00:10:00     -8.02\n",
       "2009-01-31 00:10:00     -2.50\n",
       "2009-03-02 00:10:00      3.60\n",
       "2009-04-01 00:10:00      3.05\n",
       "2009-05-01 00:10:00      9.66\n",
       "...                       ...\n",
       "2015-02-27 10:10:00      4.00\n",
       "2015-03-29 10:10:00     11.26\n",
       "2015-04-28 10:10:00      5.49\n",
       "2015-05-28 10:10:00     15.03\n",
       "2015-06-27 10:10:00     19.43\n",
       "\n",
       "[80 rows x 1 columns]"
      ]
     },
     "execution_count": 84,
     "metadata": {},
     "output_type": "execute_result"
    }
   ],
   "source": [
    "train"
   ]
  },
  {
   "cell_type": "code",
   "execution_count": 85,
   "id": "a4acce94",
   "metadata": {},
   "outputs": [
    {
     "data": {
      "text/html": [
       "<div>\n",
       "<style scoped>\n",
       "    .dataframe tbody tr th:only-of-type {\n",
       "        vertical-align: middle;\n",
       "    }\n",
       "\n",
       "    .dataframe tbody tr th {\n",
       "        vertical-align: top;\n",
       "    }\n",
       "\n",
       "    .dataframe thead th {\n",
       "        text-align: right;\n",
       "    }\n",
       "</style>\n",
       "<table border=\"1\" class=\"dataframe\">\n",
       "  <thead>\n",
       "    <tr style=\"text-align: right;\">\n",
       "      <th></th>\n",
       "      <th>T (degC)</th>\n",
       "    </tr>\n",
       "    <tr>\n",
       "      <th>Date Time</th>\n",
       "      <th></th>\n",
       "    </tr>\n",
       "  </thead>\n",
       "  <tbody>\n",
       "    <tr>\n",
       "      <th>2015-07-27 10:10:00</th>\n",
       "      <td>15.89</td>\n",
       "    </tr>\n",
       "    <tr>\n",
       "      <th>2015-08-26 10:10:00</th>\n",
       "      <td>21.59</td>\n",
       "    </tr>\n",
       "    <tr>\n",
       "      <th>2015-09-25 10:10:00</th>\n",
       "      <td>12.02</td>\n",
       "    </tr>\n",
       "    <tr>\n",
       "      <th>2015-10-25 10:10:00</th>\n",
       "      <td>8.98</td>\n",
       "    </tr>\n",
       "    <tr>\n",
       "      <th>2015-11-24 10:10:00</th>\n",
       "      <td>0.36</td>\n",
       "    </tr>\n",
       "    <tr>\n",
       "      <th>2015-12-24 10:10:00</th>\n",
       "      <td>5.70</td>\n",
       "    </tr>\n",
       "    <tr>\n",
       "      <th>2016-01-23 10:10:00</th>\n",
       "      <td>2.29</td>\n",
       "    </tr>\n",
       "    <tr>\n",
       "      <th>2016-02-22 10:10:00</th>\n",
       "      <td>10.45</td>\n",
       "    </tr>\n",
       "    <tr>\n",
       "      <th>2016-03-23 10:10:00</th>\n",
       "      <td>5.41</td>\n",
       "    </tr>\n",
       "    <tr>\n",
       "      <th>2016-04-22 10:10:00</th>\n",
       "      <td>8.96</td>\n",
       "    </tr>\n",
       "    <tr>\n",
       "      <th>2016-05-22 10:10:00</th>\n",
       "      <td>23.70</td>\n",
       "    </tr>\n",
       "    <tr>\n",
       "      <th>2016-06-21 10:10:00</th>\n",
       "      <td>19.08</td>\n",
       "    </tr>\n",
       "    <tr>\n",
       "      <th>2016-07-21 10:10:00</th>\n",
       "      <td>19.95</td>\n",
       "    </tr>\n",
       "    <tr>\n",
       "      <th>2016-08-20 10:10:00</th>\n",
       "      <td>21.81</td>\n",
       "    </tr>\n",
       "    <tr>\n",
       "      <th>2016-09-19 10:10:00</th>\n",
       "      <td>11.80</td>\n",
       "    </tr>\n",
       "    <tr>\n",
       "      <th>2016-10-19 10:10:00</th>\n",
       "      <td>8.81</td>\n",
       "    </tr>\n",
       "    <tr>\n",
       "      <th>2016-11-21 12:20:00</th>\n",
       "      <td>9.62</td>\n",
       "    </tr>\n",
       "    <tr>\n",
       "      <th>2016-12-21 12:20:00</th>\n",
       "      <td>1.02</td>\n",
       "    </tr>\n",
       "  </tbody>\n",
       "</table>\n",
       "</div>"
      ],
      "text/plain": [
       "                     T (degC)\n",
       "Date Time                    \n",
       "2015-07-27 10:10:00     15.89\n",
       "2015-08-26 10:10:00     21.59\n",
       "2015-09-25 10:10:00     12.02\n",
       "2015-10-25 10:10:00      8.98\n",
       "2015-11-24 10:10:00      0.36\n",
       "2015-12-24 10:10:00      5.70\n",
       "2016-01-23 10:10:00      2.29\n",
       "2016-02-22 10:10:00     10.45\n",
       "2016-03-23 10:10:00      5.41\n",
       "2016-04-22 10:10:00      8.96\n",
       "2016-05-22 10:10:00     23.70\n",
       "2016-06-21 10:10:00     19.08\n",
       "2016-07-21 10:10:00     19.95\n",
       "2016-08-20 10:10:00     21.81\n",
       "2016-09-19 10:10:00     11.80\n",
       "2016-10-19 10:10:00      8.81\n",
       "2016-11-21 12:20:00      9.62\n",
       "2016-12-21 12:20:00      1.02"
      ]
     },
     "execution_count": 85,
     "metadata": {},
     "output_type": "execute_result"
    }
   ],
   "source": [
    "test"
   ]
  },
  {
   "cell_type": "markdown",
   "id": "1abc2c95",
   "metadata": {},
   "source": [
    "# 5.Escalado"
   ]
  },
  {
   "cell_type": "code",
   "execution_count": 86,
   "id": "9412530f",
   "metadata": {},
   "outputs": [],
   "source": [
    "from sklearn.preprocessing import MinMaxScaler\n",
    "scaler = MinMaxScaler()"
   ]
  },
  {
   "cell_type": "code",
   "execution_count": 87,
   "id": "8024c6e3",
   "metadata": {},
   "outputs": [],
   "source": [
    "# Solo usamos train para el fit() porque en caso contrario estariamos\n",
    "# asumiendo información en el conjunto de test\n",
    "scaler.fit(train)\n",
    "scaled_train = scaler.transform(train)\n",
    "scaled_test = scaler.transform(test)"
   ]
  },
  {
   "attachments": {},
   "cell_type": "markdown",
   "id": "fbe0c6d2",
   "metadata": {},
   "source": [
    "# 6.Creación Generador Serie Temporal"
   ]
  },
  {
   "cell_type": "code",
   "execution_count": 88,
   "id": "fd316fe2",
   "metadata": {},
   "outputs": [],
   "source": [
    "from tensorflow.keras.preprocessing.sequence import TimeseriesGenerator"
   ]
  },
  {
   "cell_type": "code",
   "execution_count": 89,
   "id": "5f30e743",
   "metadata": {},
   "outputs": [],
   "source": [
    "# Usamos los últimos 12 meses atrás para predecir eñ siguiente mes\n",
    "longitud = 12\n",
    "tamaño_batch = 1\n",
    "generator = TimeseriesGenerator(\n",
    "    data=scaled_train,\n",
    "    targets=scaled_train,\n",
    "    length=longitud,\n",
    "    batch_size=tamaño_batch\n",
    ")"
   ]
  },
  {
   "cell_type": "code",
   "execution_count": 90,
   "id": "0de450fc",
   "metadata": {},
   "outputs": [
    {
     "name": "stdout",
     "output_type": "stream",
     "text": [
      "Dada la muestra de 12 meses:\n",
      "\t[0.01728929 0.18771226 0.37604199 0.35906144 0.56313677 0.6279716\n",
      " 0.74251312 0.73602964 0.76844705 0.54584748 0.5418339  0.4788515 ]\n",
      "Predecimos el siguiente mes:\n",
      "\t[[0.24328496]]\n"
     ]
    }
   ],
   "source": [
    "# El generador coge 12 meses de muestra de train para predecir la siguiente\n",
    "# x = 12 muestra\n",
    "# y = predicción\n",
    "x, y = generator[0]\n",
    "print(f\"Dada la muestra de 12 meses:\\n\\t{x.flatten()}\")\n",
    "print(f\"Predecimos el siguiente mes:\\n\\t{y}\")"
   ]
  },
  {
   "attachments": {},
   "cell_type": "markdown",
   "id": "7d68c394",
   "metadata": {},
   "source": [
    "# 7. Creación del modelo"
   ]
  },
  {
   "cell_type": "code",
   "execution_count": 91,
   "id": "a13e8286",
   "metadata": {},
   "outputs": [],
   "source": [
    "from tensorflow.keras.models import Sequential\n",
    "from tensorflow.keras.layers import Dense\n",
    "from tensorflow.keras.layers import LSTM"
   ]
  },
  {
   "cell_type": "code",
   "execution_count": 92,
   "id": "29af8ee6",
   "metadata": {},
   "outputs": [],
   "source": [
    "# Definir número de variables de salida a predecir\n",
    "# En caso de ser más columnas cogeríamos el número de columnas; scaled_train.shape[1]\n",
    "nVariables = 1"
   ]
  },
  {
   "cell_type": "code",
   "execution_count": 93,
   "id": "e67c2ba2",
   "metadata": {},
   "outputs": [],
   "source": [
    "# Definir modelo\n",
    "model = Sequential()\n",
    "# Para conseguir mayor presición aumentamos el ńumero de neuronas LSTM\n",
    "model.add( LSTM(150, activation=\"relu\", input_shape=(longitud, nVariables)) )\n",
    "# Solo 1 variable de salida\n",
    "model.add( Dense(nVariables) )\n",
    "model.compile( optimizer=\"adam\", loss=\"mse\" )"
   ]
  },
  {
   "cell_type": "code",
   "execution_count": 94,
   "id": "f203a175",
   "metadata": {},
   "outputs": [
    {
     "name": "stdout",
     "output_type": "stream",
     "text": [
      "Model: \"sequential_2\"\n",
      "_________________________________________________________________\n",
      " Layer (type)                Output Shape              Param #   \n",
      "=================================================================\n",
      " lstm_1 (LSTM)               (None, 150)               91200     \n",
      "                                                                 \n",
      " dense_1 (Dense)             (None, 1)                 151       \n",
      "                                                                 \n",
      "=================================================================\n",
      "Total params: 91,351\n",
      "Trainable params: 91,351\n",
      "Non-trainable params: 0\n",
      "_________________________________________________________________\n"
     ]
    }
   ],
   "source": [
    "model.summary()"
   ]
  },
  {
   "attachments": {},
   "cell_type": "markdown",
   "id": "69a0af9f",
   "metadata": {},
   "source": [
    "# 8. Entrenamiento del modelo"
   ]
  },
  {
   "cell_type": "code",
   "execution_count": 95,
   "id": "59f9de23",
   "metadata": {},
   "outputs": [],
   "source": [
    "from tensorflow.keras.callbacks import EarlyStopping"
   ]
  },
  {
   "cell_type": "code",
   "execution_count": 96,
   "id": "98698dcd",
   "metadata": {},
   "outputs": [],
   "source": [
    "earlyStop = EarlyStopping( monitor=\"var_loss\", patience=4 )"
   ]
  },
  {
   "cell_type": "code",
   "execution_count": 97,
   "id": "cd4f6983",
   "metadata": {},
   "outputs": [],
   "source": [
    "# Definir generador para el conjunto de test que nos ayudará a validar el modelo\n",
    "val_generator = TimeseriesGenerator(scaled_test, scaled_test, length=longitud, batch_size=tamaño_batch)"
   ]
  },
  {
   "cell_type": "code",
   "execution_count": 98,
   "id": "74629512",
   "metadata": {},
   "outputs": [
    {
     "name": "stdout",
     "output_type": "stream",
     "text": [
      "Epoch 1/20\n"
     ]
    },
    {
     "name": "stderr",
     "output_type": "stream",
     "text": [
      "/tmp/ipykernel_22768/337081219.py:1: UserWarning: `Model.fit_generator` is deprecated and will be removed in a future version. Please use `Model.fit`, which supports generators.\n",
      "  model.fit_generator(\n"
     ]
    },
    {
     "name": "stdout",
     "output_type": "stream",
     "text": [
      "59/68 [=========================>....] - ETA: 0s - loss: 0.0751WARNING:tensorflow:Early stopping conditioned on metric `var_loss` which is not available. Available metrics are: loss,val_loss\n",
      "68/68 [==============================] - 1s 6ms/step - loss: 0.0721 - val_loss: 0.0627\n",
      "Epoch 2/20\n",
      "55/68 [=======================>......] - ETA: 0s - loss: 0.0563WARNING:tensorflow:Early stopping conditioned on metric `var_loss` which is not available. Available metrics are: loss,val_loss\n",
      "68/68 [==============================] - 0s 4ms/step - loss: 0.0551 - val_loss: 0.0421\n",
      "Epoch 3/20\n",
      "60/68 [=========================>....] - ETA: 0s - loss: 0.0551WARNING:tensorflow:Early stopping conditioned on metric `var_loss` which is not available. Available metrics are: loss,val_loss\n",
      "68/68 [==============================] - 0s 4ms/step - loss: 0.0549 - val_loss: 0.0388\n",
      "Epoch 4/20\n",
      "62/68 [==========================>...] - ETA: 0s - loss: 0.0486WARNING:tensorflow:Early stopping conditioned on metric `var_loss` which is not available. Available metrics are: loss,val_loss\n",
      "68/68 [==============================] - 0s 4ms/step - loss: 0.0458 - val_loss: 0.0380\n",
      "Epoch 5/20\n",
      "62/68 [==========================>...] - ETA: 0s - loss: 0.0334WARNING:tensorflow:Early stopping conditioned on metric `var_loss` which is not available. Available metrics are: loss,val_loss\n",
      "68/68 [==============================] - 0s 4ms/step - loss: 0.0377 - val_loss: 0.0452\n",
      "Epoch 6/20\n",
      "60/68 [=========================>....] - ETA: 0s - loss: 0.0327 WARNING:tensorflow:Early stopping conditioned on metric `var_loss` which is not available. Available metrics are: loss,val_loss\n",
      "68/68 [==============================] - 0s 4ms/step - loss: 0.0306 - val_loss: 0.0130\n",
      "Epoch 7/20\n",
      "58/68 [========================>.....] - ETA: 0s - loss: 0.0342 WARNING:tensorflow:Early stopping conditioned on metric `var_loss` which is not available. Available metrics are: loss,val_loss\n",
      "68/68 [==============================] - 0s 4ms/step - loss: 0.0313 - val_loss: 0.0149\n",
      "Epoch 8/20\n",
      "61/68 [=========================>....] - ETA: 0s - loss: 0.0263WARNING:tensorflow:Early stopping conditioned on metric `var_loss` which is not available. Available metrics are: loss,val_loss\n",
      "68/68 [==============================] - 0s 4ms/step - loss: 0.0261 - val_loss: 0.0188\n",
      "Epoch 9/20\n",
      "63/68 [==========================>...] - ETA: 0s - loss: 0.0262WARNING:tensorflow:Early stopping conditioned on metric `var_loss` which is not available. Available metrics are: loss,val_loss\n",
      "68/68 [==============================] - 0s 4ms/step - loss: 0.0286 - val_loss: 0.0201\n",
      "Epoch 10/20\n",
      "59/68 [=========================>....] - ETA: 0s - loss: 0.0231WARNING:tensorflow:Early stopping conditioned on metric `var_loss` which is not available. Available metrics are: loss,val_loss\n",
      "68/68 [==============================] - 0s 4ms/step - loss: 0.0247 - val_loss: 0.0093\n",
      "Epoch 11/20\n",
      "58/68 [========================>.....] - ETA: 0s - loss: 0.0227WARNING:tensorflow:Early stopping conditioned on metric `var_loss` which is not available. Available metrics are: loss,val_loss\n",
      "68/68 [==============================] - 0s 4ms/step - loss: 0.0220 - val_loss: 0.0162\n",
      "Epoch 12/20\n",
      "58/68 [========================>.....] - ETA: 0s - loss: 0.0165WARNING:tensorflow:Early stopping conditioned on metric `var_loss` which is not available. Available metrics are: loss,val_loss\n",
      "68/68 [==============================] - 0s 4ms/step - loss: 0.0185 - val_loss: 0.0122\n",
      "Epoch 13/20\n",
      "57/68 [========================>.....] - ETA: 0s - loss: 0.0178 WARNING:tensorflow:Early stopping conditioned on metric `var_loss` which is not available. Available metrics are: loss,val_loss\n",
      "68/68 [==============================] - 0s 4ms/step - loss: 0.0218 - val_loss: 0.0094\n",
      "Epoch 14/20\n",
      "61/68 [=========================>....] - ETA: 0s - loss: 0.0218 WARNING:tensorflow:Early stopping conditioned on metric `var_loss` which is not available. Available metrics are: loss,val_loss\n",
      "68/68 [==============================] - 0s 4ms/step - loss: 0.0208 - val_loss: 0.0112\n",
      "Epoch 15/20\n",
      "60/68 [=========================>....] - ETA: 0s - loss: 0.0202WARNING:tensorflow:Early stopping conditioned on metric `var_loss` which is not available. Available metrics are: loss,val_loss\n",
      "68/68 [==============================] - 0s 4ms/step - loss: 0.0194 - val_loss: 0.0140\n",
      "Epoch 16/20\n",
      "59/68 [=========================>....] - ETA: 0s - loss: 0.0209WARNING:tensorflow:Early stopping conditioned on metric `var_loss` which is not available. Available metrics are: loss,val_loss\n",
      "68/68 [==============================] - 0s 4ms/step - loss: 0.0218 - val_loss: 0.0119\n",
      "Epoch 17/20\n",
      "61/68 [=========================>....] - ETA: 0s - loss: 0.0237WARNING:tensorflow:Early stopping conditioned on metric `var_loss` which is not available. Available metrics are: loss,val_loss\n",
      "68/68 [==============================] - 0s 4ms/step - loss: 0.0231 - val_loss: 0.0089\n",
      "Epoch 18/20\n",
      "60/68 [=========================>....] - ETA: 0s - loss: 0.0195WARNING:tensorflow:Early stopping conditioned on metric `var_loss` which is not available. Available metrics are: loss,val_loss\n",
      "68/68 [==============================] - 0s 4ms/step - loss: 0.0220 - val_loss: 0.0211\n",
      "Epoch 19/20\n",
      "63/68 [==========================>...] - ETA: 0s - loss: 0.0204WARNING:tensorflow:Early stopping conditioned on metric `var_loss` which is not available. Available metrics are: loss,val_loss\n",
      "68/68 [==============================] - 0s 4ms/step - loss: 0.0191 - val_loss: 0.0210\n",
      "Epoch 20/20\n",
      "62/68 [==========================>...] - ETA: 0s - loss: 0.0199WARNING:tensorflow:Early stopping conditioned on metric `var_loss` which is not available. Available metrics are: loss,val_loss\n",
      "68/68 [==============================] - 0s 4ms/step - loss: 0.0207 - val_loss: 0.0172\n"
     ]
    },
    {
     "data": {
      "text/plain": [
       "<keras.callbacks.History at 0x7f0103226a90>"
      ]
     },
     "execution_count": 98,
     "metadata": {},
     "output_type": "execute_result"
    }
   ],
   "source": [
    "model.fit_generator(\n",
    "    generator,\n",
    "    epochs=20,\n",
    "    validation_data=val_generator,\n",
    "    callbacks=[earlyStop]\n",
    ")"
   ]
  },
  {
   "cell_type": "code",
   "execution_count": 99,
   "id": "c4ad50c5",
   "metadata": {},
   "outputs": [],
   "source": [
    "losses = pd.DataFrame(model.history.history)"
   ]
  },
  {
   "cell_type": "code",
   "execution_count": 100,
   "id": "276ee49a",
   "metadata": {},
   "outputs": [
    {
     "data": {
      "text/plain": [
       "<AxesSubplot:>"
      ]
     },
     "execution_count": 100,
     "metadata": {},
     "output_type": "execute_result"
    },
    {
     "data": {
      "image/png": "[encoded data removed]",
      "text/plain": [
       "<Figure size 640x480 with 1 Axes>"
      ]
     },
     "metadata": {},
     "output_type": "display_data"
    }
   ],
   "source": [
    "losses.plot()"
   ]
  },
  {
   "attachments": {},
   "cell_type": "markdown",
   "id": "04a549a2",
   "metadata": {},
   "source": [
    "# 9.Evaluación del modelo"
   ]
  },
  {
   "cell_type": "code",
   "execution_count": 101,
   "id": "3575a52c",
   "metadata": {},
   "outputs": [
    {
     "data": {
      "text/plain": [
       "(12, 1)"
      ]
     },
     "execution_count": 101,
     "metadata": {},
     "output_type": "execute_result"
    }
   ],
   "source": [
    "primerBatch = scaled_train[-longitud:]\n",
    "primerBatch.shape"
   ]
  },
  {
   "cell_type": "code",
   "execution_count": 102,
   "id": "f95e67e5",
   "metadata": {},
   "outputs": [
    {
     "data": {
      "text/plain": [
       "numpy.ndarray"
      ]
     },
     "execution_count": 102,
     "metadata": {},
     "output_type": "execute_result"
    }
   ],
   "source": [
    "type(primerBatch)"
   ]
  },
  {
   "cell_type": "code",
   "execution_count": 103,
   "id": "f00e91af",
   "metadata": {},
   "outputs": [
    {
     "data": {
      "text/plain": [
       "(1, 12, 1)"
      ]
     },
     "execution_count": 103,
     "metadata": {},
     "output_type": "execute_result"
    }
   ],
   "source": [
    "primerBatch = primerBatch.reshape( (1, longitud, nVariables) )\n",
    "primerBatch.shape"
   ]
  },
  {
   "cell_type": "code",
   "execution_count": 104,
   "id": "df912005",
   "metadata": {},
   "outputs": [
    {
     "name": "stdout",
     "output_type": "stream",
     "text": [
      "1/1 [==============================] - 0s 107ms/step\n"
     ]
    },
    {
     "data": {
      "text/plain": [
       "array([[0.8298289]], dtype=float32)"
      ]
     },
     "execution_count": 104,
     "metadata": {},
     "output_type": "execute_result"
    }
   ],
   "source": [
    "model.predict(primerBatch)"
   ]
  },
  {
   "cell_type": "code",
   "execution_count": 105,
   "id": "8cabeda4",
   "metadata": {},
   "outputs": [
    {
     "data": {
      "text/plain": [
       "array([0.75548009])"
      ]
     },
     "execution_count": 105,
     "metadata": {},
     "output_type": "execute_result"
    }
   ],
   "source": [
    "scaled_test[0]"
   ]
  },
  {
   "cell_type": "code",
   "execution_count": 108,
   "id": "98e7151d",
   "metadata": {},
   "outputs": [
    {
     "ename": "IndexError",
     "evalue": "index 1 is out of bounds for axis 1 with size 1",
     "output_type": "error",
     "traceback": [
      "\u001b[0;31m---------------------------------------------------------------------------\u001b[0m",
      "\u001b[0;31mIndexError\u001b[0m                                Traceback (most recent call last)",
      "\u001b[0;32m/tmp/ipykernel_22768/428172154.py\u001b[0m in \u001b[0;36m<module>\u001b[0;34m\u001b[0m\n\u001b[1;32m      1\u001b[0m \u001b[0;31m# Bucle para predecir varios meses\u001b[0m\u001b[0;34m\u001b[0m\u001b[0;34m\u001b[0m\u001b[0m\n\u001b[1;32m      2\u001b[0m \u001b[0mtest_predictions\u001b[0m \u001b[0;34m=\u001b[0m \u001b[0;34m[\u001b[0m\u001b[0;34m]\u001b[0m\u001b[0;34m\u001b[0m\u001b[0;34m\u001b[0m\u001b[0m\n\u001b[0;32m----> 3\u001b[0;31m \u001b[0mprimerBatch\u001b[0m \u001b[0;34m=\u001b[0m \u001b[0mscaled_train\u001b[0m\u001b[0;34m[\u001b[0m\u001b[0;34m-\u001b[0m\u001b[0mlongitud\u001b[0m\u001b[0;34m,\u001b[0m \u001b[0mnVariables\u001b[0m\u001b[0;34m]\u001b[0m\u001b[0;34m\u001b[0m\u001b[0;34m\u001b[0m\u001b[0m\n\u001b[0m\u001b[1;32m      4\u001b[0m \u001b[0mprint\u001b[0m\u001b[0;34m(\u001b[0m\u001b[0mprimerBatch\u001b[0m\u001b[0;34m.\u001b[0m\u001b[0mshape\u001b[0m\u001b[0;34m)\u001b[0m\u001b[0;34m\u001b[0m\u001b[0;34m\u001b[0m\u001b[0m\n",
      "\u001b[0;31mIndexError\u001b[0m: index 1 is out of bounds for axis 1 with size 1"
     ]
    }
   ],
   "source": [
    "# Bucle para predecir varios meses\n",
    "test_predictions = []\n",
    "primerBatch = scaled_train[-longitud:]\n",
    "batchActual = primerBatch.reshape( (1, longitud, nVariables) )\n",
    "\n",
    "for i in range(len(test)):\n",
    "\n",
    "    # Predicción del siguiente mes. Usar [0] para coger el valor de la predicción en lugar del array\n",
    "    predActual = model.predict(batchActual)[0]\n",
    "\n",
    "    # Guardamos esta predicción\n",
    "    test_predictions.append(predActual)\n",
    "\n",
    "    # Actualizamos el batch para descartar el primer valor e incluir la nueva predicción\n",
    "    batchActual = np.append( batchActual[:,1:,:], [[predActual]], axis=1 )"
   ]
  },
  {
   "cell_type": "code",
   "execution_count": null,
   "id": "1fe9a891",
   "metadata": {},
   "outputs": [],
   "source": []
  },
  {
   "cell_type": "code",
   "execution_count": null,
   "id": "6e32fa3c",
   "metadata": {},
   "outputs": [],
   "source": []
  },
  {
   "cell_type": "code",
   "execution_count": null,
   "id": "54fb52e0",
   "metadata": {},
   "outputs": [],
   "source": []
  },
  {
   "cell_type": "code",
   "execution_count": null,
   "id": "99e3c412",
   "metadata": {},
   "outputs": [],
   "source": []
  }
 ],
 "metadata": {
  "kernelspec": {
   "display_name": "Python 3 (ipykernel)",
   "language": "python",
   "name": "python3"
  },
  "language_info": {
   "codemirror_mode": {
    "name": "ipython",
    "version": 3
   },
   "file_extension": ".py",
   "mimetype": "text/x-python",
   "name": "python",
   "nbconvert_exporter": "python",
   "pygments_lexer": "ipython3",
   "version": "3.9.13"
  }
 },
 "nbformat": 4,
 "nbformat_minor": 5
}

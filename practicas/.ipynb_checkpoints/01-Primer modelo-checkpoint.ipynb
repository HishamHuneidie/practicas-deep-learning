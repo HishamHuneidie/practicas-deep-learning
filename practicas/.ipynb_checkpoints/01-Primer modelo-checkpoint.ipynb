{
 "cells": [
  {
   "cell_type": "markdown",
   "id": "b466a88b",
   "metadata": {},
   "source": [
    "# Keras regrasión"
   ]
  },
  {
   "cell_type": "markdown",
   "id": "b31a0ecf",
   "metadata": {},
   "source": [
    "# 1. Importación de librerías"
   ]
  },
  {
   "cell_type": "code",
   "execution_count": 1,
   "id": "fbef4e1c",
   "metadata": {},
   "outputs": [],
   "source": [
    "import pandas as pd\n",
    "import numpy as np\n",
    "import matplotlib.pyplot as plt\n",
    "import seaborn as sns"
   ]
  },
  {
   "cell_type": "markdown",
   "id": "d0eb691a",
   "metadata": {},
   "source": [
    "# 2. Importación de fuente de datos"
   ]
  },
  {
   "cell_type": "raw",
   "id": "aa54bf53",
   "metadata": {},
   "source": [
    "https://www.kaggle.com/mirbektoktogaraev/madrid-real-estate-market\n",
    "    \n",
    "Variable Name\tDescription\n",
    "ID\tIdentifier ID\n",
    "title\tTitle from listing\n",
    "subtitle\tNeighborhood and city\n",
    "sqmtbuilt\tSquare meter built\n",
    "sqmtuseful\tSquare meter useful\n",
    "n_rooms\tNumber of rooms\n",
    "n_bathrooms\tNumber of bathrooms\n",
    "sqmtallotment\tSquare meter allotment\n",
    "latitude, longitude\tLatitude, Longitude (Since portals hide the location mainly NAs)\n",
    "raw_address\tAddress\n",
    "isexactaddress_hidden\tBoolean values\n",
    "buy_price\tTarget Value"
   ]
  },
  {
   "cell_type": "code",
   "execution_count": 2,
   "id": "7dd4fa41",
   "metadata": {},
   "outputs": [],
   "source": [
    "# Crear dataFrame\n",
    "# Lectura de datos históricos\n",
    "df = pd.read_excel(\"./viviendas_Madrid.xlsx\", sheet_name=\"Datos_Históricos\")"
   ]
  },
  {
   "cell_type": "code",
   "execution_count": 3,
   "id": "43913534",
   "metadata": {
    "scrolled": false
   },
   "outputs": [
    {
     "name": "stdout",
     "output_type": "stream",
     "text": [
      "<class 'pandas.core.frame.DataFrame'>\n",
      "RangeIndex: 21742 entries, 0 to 21741\n",
      "Data columns (total 57 columns):\n",
      " #   Column                        Non-Null Count  Dtype  \n",
      "---  ------                        --------------  -----  \n",
      " 0   id                            21742 non-null  int64  \n",
      " 1   title                         21742 non-null  object \n",
      " 2   subtitle                      21742 non-null  object \n",
      " 3   sq_mt_built                   21616 non-null  float64\n",
      " 4   sq_mt_useful                  8228 non-null   float64\n",
      " 5   n_rooms                       21742 non-null  int64  \n",
      " 6   n_bathrooms                   21726 non-null  float64\n",
      " 7   n_floors                      1437 non-null   float64\n",
      " 8   sq_mt_allotment               1432 non-null   float64\n",
      " 9   latitude                      0 non-null      float64\n",
      " 10  longitude                     0 non-null      float64\n",
      " 11  raw_address                   16277 non-null  object \n",
      " 12  is_exact_address_hidden       21742 non-null  bool   \n",
      " 13  street_name                   15837 non-null  object \n",
      " 14  street_number                 6300 non-null   object \n",
      " 15  portal                        0 non-null      float64\n",
      " 16  floor                         19135 non-null  object \n",
      " 17  is_floor_under                20572 non-null  float64\n",
      " 18  door                          0 non-null      float64\n",
      " 19  neighborhood_id               21742 non-null  object \n",
      " 20  operation                     21742 non-null  object \n",
      " 21  rent_price                    21742 non-null  float64\n",
      " 22  rent_price_by_area            0 non-null      float64\n",
      " 23  is_rent_price_known           21742 non-null  bool   \n",
      " 24  buy_price                     21742 non-null  int64  \n",
      " 25  buy_price_by_area             21742 non-null  int64  \n",
      " 26  is_buy_price_known            21742 non-null  bool   \n",
      " 27  house_type_id                 21351 non-null  object \n",
      " 28  is_renewal_needed             21742 non-null  bool   \n",
      " 29  is_new_development            20750 non-null  float64\n",
      " 30  built_year                    10000 non-null  float64\n",
      " 31  has_central_heating           13608 non-null  float64\n",
      " 32  has_individual_heating        13608 non-null  float64\n",
      " 33  are_pets_allowed              0 non-null      float64\n",
      " 34  has_ac                        11211 non-null  float64\n",
      " 35  has_fitted_wardrobes          13399 non-null  float64\n",
      " 36  has_lift                      19356 non-null  float64\n",
      " 37  is_exterior                   18699 non-null  float64\n",
      " 38  has_garden                    1556 non-null   float64\n",
      " 39  has_pool                      5171 non-null   float64\n",
      " 40  has_terrace                   9548 non-null   float64\n",
      " 41  has_balcony                   3321 non-null   float64\n",
      " 42  has_storage_room              7698 non-null   float64\n",
      " 43  is_furnished                  0 non-null      float64\n",
      " 44  is_kitchen_equipped           0 non-null      float64\n",
      " 45  is_accessible                 4074 non-null   float64\n",
      " 46  has_green_zones               4057 non-null   float64\n",
      " 47  energy_certificate            21742 non-null  object \n",
      " 48  has_parking                   21742 non-null  bool   \n",
      " 49  has_private_parking           0 non-null      float64\n",
      " 50  has_public_parking            0 non-null      float64\n",
      " 51  is_parking_included_in_price  7719 non-null   float64\n",
      " 52  parking_price                 7719 non-null   float64\n",
      " 53  is_orientation_north          11358 non-null  float64\n",
      " 54  is_orientation_west           11358 non-null  float64\n",
      " 55  is_orientation_south          11358 non-null  float64\n",
      " 56  is_orientation_east           11358 non-null  float64\n",
      "dtypes: bool(5), float64(38), int64(4), object(10)\n",
      "memory usage: 8.7+ MB\n"
     ]
    }
   ],
   "source": [
    "df.info()"
   ]
  },
  {
   "cell_type": "code",
   "execution_count": 4,
   "id": "f34a0029",
   "metadata": {
    "scrolled": false
   },
   "outputs": [
    {
     "data": {
      "text/html": [
       "<div>\n",
       "<style scoped>\n",
       "    .dataframe tbody tr th:only-of-type {\n",
       "        vertical-align: middle;\n",
       "    }\n",
       "\n",
       "    .dataframe tbody tr th {\n",
       "        vertical-align: top;\n",
       "    }\n",
       "\n",
       "    .dataframe thead th {\n",
       "        text-align: right;\n",
       "    }\n",
       "</style>\n",
       "<table border=\"1\" class=\"dataframe\">\n",
       "  <thead>\n",
       "    <tr style=\"text-align: right;\">\n",
       "      <th></th>\n",
       "      <th>id</th>\n",
       "      <th>title</th>\n",
       "      <th>subtitle</th>\n",
       "      <th>sq_mt_built</th>\n",
       "      <th>sq_mt_useful</th>\n",
       "      <th>n_rooms</th>\n",
       "      <th>n_bathrooms</th>\n",
       "      <th>n_floors</th>\n",
       "      <th>sq_mt_allotment</th>\n",
       "      <th>latitude</th>\n",
       "      <th>...</th>\n",
       "      <th>energy_certificate</th>\n",
       "      <th>has_parking</th>\n",
       "      <th>has_private_parking</th>\n",
       "      <th>has_public_parking</th>\n",
       "      <th>is_parking_included_in_price</th>\n",
       "      <th>parking_price</th>\n",
       "      <th>is_orientation_north</th>\n",
       "      <th>is_orientation_west</th>\n",
       "      <th>is_orientation_south</th>\n",
       "      <th>is_orientation_east</th>\n",
       "    </tr>\n",
       "  </thead>\n",
       "  <tbody>\n",
       "    <tr>\n",
       "      <th>0</th>\n",
       "      <td>21742</td>\n",
       "      <td>Piso en venta en calle de Godella, 64</td>\n",
       "      <td>San CristÃ³bal, Madrid</td>\n",
       "      <td>64.0</td>\n",
       "      <td>60.0</td>\n",
       "      <td>2</td>\n",
       "      <td>1.0</td>\n",
       "      <td>NaN</td>\n",
       "      <td>NaN</td>\n",
       "      <td>NaN</td>\n",
       "      <td>...</td>\n",
       "      <td>D</td>\n",
       "      <td>False</td>\n",
       "      <td>NaN</td>\n",
       "      <td>NaN</td>\n",
       "      <td>NaN</td>\n",
       "      <td>NaN</td>\n",
       "      <td>0.0</td>\n",
       "      <td>1.0</td>\n",
       "      <td>0.0</td>\n",
       "      <td>0.0</td>\n",
       "    </tr>\n",
       "    <tr>\n",
       "      <th>1</th>\n",
       "      <td>21741</td>\n",
       "      <td>Piso en venta en calle de la del Manojo de Rosas</td>\n",
       "      <td>Los Ãngeles, Madrid</td>\n",
       "      <td>70.0</td>\n",
       "      <td>NaN</td>\n",
       "      <td>3</td>\n",
       "      <td>1.0</td>\n",
       "      <td>NaN</td>\n",
       "      <td>NaN</td>\n",
       "      <td>NaN</td>\n",
       "      <td>...</td>\n",
       "      <td>en trÃ¡mite</td>\n",
       "      <td>False</td>\n",
       "      <td>NaN</td>\n",
       "      <td>NaN</td>\n",
       "      <td>NaN</td>\n",
       "      <td>NaN</td>\n",
       "      <td>NaN</td>\n",
       "      <td>NaN</td>\n",
       "      <td>NaN</td>\n",
       "      <td>NaN</td>\n",
       "    </tr>\n",
       "    <tr>\n",
       "      <th>2</th>\n",
       "      <td>21740</td>\n",
       "      <td>Piso en venta en calle del Talco, 68</td>\n",
       "      <td>San AndrÃ©s, Madrid</td>\n",
       "      <td>94.0</td>\n",
       "      <td>54.0</td>\n",
       "      <td>2</td>\n",
       "      <td>2.0</td>\n",
       "      <td>NaN</td>\n",
       "      <td>NaN</td>\n",
       "      <td>NaN</td>\n",
       "      <td>...</td>\n",
       "      <td>no indicado</td>\n",
       "      <td>False</td>\n",
       "      <td>NaN</td>\n",
       "      <td>NaN</td>\n",
       "      <td>NaN</td>\n",
       "      <td>NaN</td>\n",
       "      <td>NaN</td>\n",
       "      <td>NaN</td>\n",
       "      <td>NaN</td>\n",
       "      <td>NaN</td>\n",
       "    </tr>\n",
       "    <tr>\n",
       "      <th>3</th>\n",
       "      <td>21739</td>\n",
       "      <td>Piso en venta en calle Pedro JimÃ©nez</td>\n",
       "      <td>San AndrÃ©s, Madrid</td>\n",
       "      <td>64.0</td>\n",
       "      <td>NaN</td>\n",
       "      <td>2</td>\n",
       "      <td>1.0</td>\n",
       "      <td>NaN</td>\n",
       "      <td>NaN</td>\n",
       "      <td>NaN</td>\n",
       "      <td>...</td>\n",
       "      <td>en trÃ¡mite</td>\n",
       "      <td>False</td>\n",
       "      <td>NaN</td>\n",
       "      <td>NaN</td>\n",
       "      <td>NaN</td>\n",
       "      <td>NaN</td>\n",
       "      <td>0.0</td>\n",
       "      <td>0.0</td>\n",
       "      <td>1.0</td>\n",
       "      <td>0.0</td>\n",
       "    </tr>\n",
       "    <tr>\n",
       "      <th>4</th>\n",
       "      <td>21738</td>\n",
       "      <td>Piso en venta en carretera de Villaverde a Val...</td>\n",
       "      <td>Los Rosales, Madrid</td>\n",
       "      <td>108.0</td>\n",
       "      <td>90.0</td>\n",
       "      <td>2</td>\n",
       "      <td>2.0</td>\n",
       "      <td>NaN</td>\n",
       "      <td>NaN</td>\n",
       "      <td>NaN</td>\n",
       "      <td>...</td>\n",
       "      <td>en trÃ¡mite</td>\n",
       "      <td>True</td>\n",
       "      <td>NaN</td>\n",
       "      <td>NaN</td>\n",
       "      <td>1.0</td>\n",
       "      <td>0.0</td>\n",
       "      <td>1.0</td>\n",
       "      <td>1.0</td>\n",
       "      <td>1.0</td>\n",
       "      <td>1.0</td>\n",
       "    </tr>\n",
       "  </tbody>\n",
       "</table>\n",
       "<p>5 rows × 57 columns</p>\n",
       "</div>"
      ],
      "text/plain": [
       "      id                                              title  \\\n",
       "0  21742              Piso en venta en calle de Godella, 64   \n",
       "1  21741   Piso en venta en calle de la del Manojo de Rosas   \n",
       "2  21740               Piso en venta en calle del Talco, 68   \n",
       "3  21739              Piso en venta en calle Pedro JimÃ©nez   \n",
       "4  21738  Piso en venta en carretera de Villaverde a Val...   \n",
       "\n",
       "                 subtitle  sq_mt_built  sq_mt_useful  n_rooms  n_bathrooms  \\\n",
       "0  San CristÃ³bal, Madrid         64.0          60.0        2          1.0   \n",
       "1    Los Ãngeles, Madrid         70.0           NaN        3          1.0   \n",
       "2     San AndrÃ©s, Madrid         94.0          54.0        2          2.0   \n",
       "3     San AndrÃ©s, Madrid         64.0           NaN        2          1.0   \n",
       "4     Los Rosales, Madrid        108.0          90.0        2          2.0   \n",
       "\n",
       "   n_floors  sq_mt_allotment  latitude  ...  energy_certificate has_parking  \\\n",
       "0       NaN              NaN       NaN  ...                   D       False   \n",
       "1       NaN              NaN       NaN  ...         en trÃ¡mite       False   \n",
       "2       NaN              NaN       NaN  ...         no indicado       False   \n",
       "3       NaN              NaN       NaN  ...         en trÃ¡mite       False   \n",
       "4       NaN              NaN       NaN  ...         en trÃ¡mite        True   \n",
       "\n",
       "   has_private_parking has_public_parking is_parking_included_in_price  \\\n",
       "0                  NaN                NaN                          NaN   \n",
       "1                  NaN                NaN                          NaN   \n",
       "2                  NaN                NaN                          NaN   \n",
       "3                  NaN                NaN                          NaN   \n",
       "4                  NaN                NaN                          1.0   \n",
       "\n",
       "   parking_price is_orientation_north  is_orientation_west  \\\n",
       "0            NaN                  0.0                  1.0   \n",
       "1            NaN                  NaN                  NaN   \n",
       "2            NaN                  NaN                  NaN   \n",
       "3            NaN                  0.0                  0.0   \n",
       "4            0.0                  1.0                  1.0   \n",
       "\n",
       "   is_orientation_south is_orientation_east  \n",
       "0                   0.0                 0.0  \n",
       "1                   NaN                 NaN  \n",
       "2                   NaN                 NaN  \n",
       "3                   1.0                 0.0  \n",
       "4                   1.0                 1.0  \n",
       "\n",
       "[5 rows x 57 columns]"
      ]
     },
     "execution_count": 4,
     "metadata": {},
     "output_type": "execute_result"
    }
   ],
   "source": [
    "df.head(5)"
   ]
  },
  {
   "cell_type": "markdown",
   "id": "2ca5197c",
   "metadata": {},
   "source": [
    "# 3. Análisis de datos (EDA) + procesamiento"
   ]
  },
  {
   "cell_type": "markdown",
   "id": "3ae028bc",
   "metadata": {},
   "source": [
    "## 3.1 Limpieza inicial"
   ]
  },
  {
   "cell_type": "code",
   "execution_count": 5,
   "id": "e961000f",
   "metadata": {},
   "outputs": [
    {
     "data": {
      "text/plain": [
       "id                                  0\n",
       "title                               0\n",
       "subtitle                            0\n",
       "sq_mt_built                       126\n",
       "sq_mt_useful                    13514\n",
       "n_rooms                             0\n",
       "n_bathrooms                        16\n",
       "n_floors                        20305\n",
       "sq_mt_allotment                 20310\n",
       "latitude                        21742\n",
       "longitude                       21742\n",
       "raw_address                      5465\n",
       "is_exact_address_hidden             0\n",
       "street_name                      5905\n",
       "street_number                   15442\n",
       "portal                          21742\n",
       "floor                            2607\n",
       "is_floor_under                   1170\n",
       "door                            21742\n",
       "neighborhood_id                     0\n",
       "operation                           0\n",
       "rent_price                          0\n",
       "rent_price_by_area              21742\n",
       "is_rent_price_known                 0\n",
       "buy_price                           0\n",
       "buy_price_by_area                   0\n",
       "is_buy_price_known                  0\n",
       "house_type_id                     391\n",
       "is_renewal_needed                   0\n",
       "is_new_development                992\n",
       "built_year                      11742\n",
       "has_central_heating              8134\n",
       "has_individual_heating           8134\n",
       "are_pets_allowed                21742\n",
       "has_ac                          10531\n",
       "has_fitted_wardrobes             8343\n",
       "has_lift                         2386\n",
       "is_exterior                      3043\n",
       "has_garden                      20186\n",
       "has_pool                        16571\n",
       "has_terrace                     12194\n",
       "has_balcony                     18421\n",
       "has_storage_room                14044\n",
       "is_furnished                    21742\n",
       "is_kitchen_equipped             21742\n",
       "is_accessible                   17668\n",
       "has_green_zones                 17685\n",
       "energy_certificate                  0\n",
       "has_parking                         0\n",
       "has_private_parking             21742\n",
       "has_public_parking              21742\n",
       "is_parking_included_in_price    14023\n",
       "parking_price                   14023\n",
       "is_orientation_north            10384\n",
       "is_orientation_west             10384\n",
       "is_orientation_south            10384\n",
       "is_orientation_east             10384\n",
       "dtype: int64"
      ]
     },
     "execution_count": 5,
     "metadata": {},
     "output_type": "execute_result"
    }
   ],
   "source": [
    "# Verificar si hay valores nulos\n",
    "df.isnull().sum()"
   ]
  },
  {
   "cell_type": "code",
   "execution_count": 6,
   "id": "d8f7bf7d",
   "metadata": {
    "scrolled": true
   },
   "outputs": [
    {
     "data": {
      "text/html": [
       "<div>\n",
       "<style scoped>\n",
       "    .dataframe tbody tr th:only-of-type {\n",
       "        vertical-align: middle;\n",
       "    }\n",
       "\n",
       "    .dataframe tbody tr th {\n",
       "        vertical-align: top;\n",
       "    }\n",
       "\n",
       "    .dataframe thead th {\n",
       "        text-align: right;\n",
       "    }\n",
       "</style>\n",
       "<table border=\"1\" class=\"dataframe\">\n",
       "  <thead>\n",
       "    <tr style=\"text-align: right;\">\n",
       "      <th></th>\n",
       "      <th>id</th>\n",
       "      <th>title</th>\n",
       "      <th>subtitle</th>\n",
       "      <th>sq_mt_built</th>\n",
       "      <th>n_rooms</th>\n",
       "      <th>n_bathrooms</th>\n",
       "      <th>is_exact_address_hidden</th>\n",
       "      <th>is_floor_under</th>\n",
       "      <th>neighborhood_id</th>\n",
       "      <th>operation</th>\n",
       "      <th>rent_price</th>\n",
       "      <th>is_rent_price_known</th>\n",
       "      <th>buy_price</th>\n",
       "      <th>buy_price_by_area</th>\n",
       "      <th>is_buy_price_known</th>\n",
       "      <th>house_type_id</th>\n",
       "      <th>is_renewal_needed</th>\n",
       "      <th>is_new_development</th>\n",
       "      <th>energy_certificate</th>\n",
       "      <th>has_parking</th>\n",
       "    </tr>\n",
       "  </thead>\n",
       "  <tbody>\n",
       "    <tr>\n",
       "      <th>0</th>\n",
       "      <td>21742</td>\n",
       "      <td>Piso en venta en calle de Godella, 64</td>\n",
       "      <td>San CristÃ³bal, Madrid</td>\n",
       "      <td>64.0</td>\n",
       "      <td>2</td>\n",
       "      <td>1.0</td>\n",
       "      <td>False</td>\n",
       "      <td>0.0</td>\n",
       "      <td>Neighborhood 135: San CristÃ³bal (1308.89 â‚¬/...</td>\n",
       "      <td>sale</td>\n",
       "      <td>471.0</td>\n",
       "      <td>False</td>\n",
       "      <td>85000</td>\n",
       "      <td>1328</td>\n",
       "      <td>True</td>\n",
       "      <td>HouseType 1: Pisos</td>\n",
       "      <td>False</td>\n",
       "      <td>0.0</td>\n",
       "      <td>D</td>\n",
       "      <td>False</td>\n",
       "    </tr>\n",
       "    <tr>\n",
       "      <th>1</th>\n",
       "      <td>21741</td>\n",
       "      <td>Piso en venta en calle de la del Manojo de Rosas</td>\n",
       "      <td>Los Ãngeles, Madrid</td>\n",
       "      <td>70.0</td>\n",
       "      <td>3</td>\n",
       "      <td>1.0</td>\n",
       "      <td>True</td>\n",
       "      <td>0.0</td>\n",
       "      <td>Neighborhood 132: Los Ãngeles (1796.68 â‚¬/m2...</td>\n",
       "      <td>sale</td>\n",
       "      <td>666.0</td>\n",
       "      <td>False</td>\n",
       "      <td>129900</td>\n",
       "      <td>1856</td>\n",
       "      <td>True</td>\n",
       "      <td>HouseType 1: Pisos</td>\n",
       "      <td>True</td>\n",
       "      <td>0.0</td>\n",
       "      <td>en trÃ¡mite</td>\n",
       "      <td>False</td>\n",
       "    </tr>\n",
       "    <tr>\n",
       "      <th>2</th>\n",
       "      <td>21740</td>\n",
       "      <td>Piso en venta en calle del Talco, 68</td>\n",
       "      <td>San AndrÃ©s, Madrid</td>\n",
       "      <td>94.0</td>\n",
       "      <td>2</td>\n",
       "      <td>2.0</td>\n",
       "      <td>False</td>\n",
       "      <td>0.0</td>\n",
       "      <td>Neighborhood 134: San AndrÃ©s (1617.18 â‚¬/m2)...</td>\n",
       "      <td>sale</td>\n",
       "      <td>722.0</td>\n",
       "      <td>False</td>\n",
       "      <td>144247</td>\n",
       "      <td>1535</td>\n",
       "      <td>True</td>\n",
       "      <td>HouseType 1: Pisos</td>\n",
       "      <td>False</td>\n",
       "      <td>0.0</td>\n",
       "      <td>no indicado</td>\n",
       "      <td>False</td>\n",
       "    </tr>\n",
       "    <tr>\n",
       "      <th>3</th>\n",
       "      <td>21739</td>\n",
       "      <td>Piso en venta en calle Pedro JimÃ©nez</td>\n",
       "      <td>San AndrÃ©s, Madrid</td>\n",
       "      <td>64.0</td>\n",
       "      <td>2</td>\n",
       "      <td>1.0</td>\n",
       "      <td>True</td>\n",
       "      <td>1.0</td>\n",
       "      <td>Neighborhood 134: San AndrÃ©s (1617.18 â‚¬/m2)...</td>\n",
       "      <td>sale</td>\n",
       "      <td>583.0</td>\n",
       "      <td>False</td>\n",
       "      <td>109900</td>\n",
       "      <td>1717</td>\n",
       "      <td>True</td>\n",
       "      <td>HouseType 1: Pisos</td>\n",
       "      <td>False</td>\n",
       "      <td>0.0</td>\n",
       "      <td>en trÃ¡mite</td>\n",
       "      <td>False</td>\n",
       "    </tr>\n",
       "    <tr>\n",
       "      <th>4</th>\n",
       "      <td>21738</td>\n",
       "      <td>Piso en venta en carretera de Villaverde a Val...</td>\n",
       "      <td>Los Rosales, Madrid</td>\n",
       "      <td>108.0</td>\n",
       "      <td>2</td>\n",
       "      <td>2.0</td>\n",
       "      <td>True</td>\n",
       "      <td>0.0</td>\n",
       "      <td>Neighborhood 133: Los Rosales (1827.79 â‚¬/m2)...</td>\n",
       "      <td>sale</td>\n",
       "      <td>1094.0</td>\n",
       "      <td>False</td>\n",
       "      <td>260000</td>\n",
       "      <td>2407</td>\n",
       "      <td>True</td>\n",
       "      <td>HouseType 1: Pisos</td>\n",
       "      <td>False</td>\n",
       "      <td>0.0</td>\n",
       "      <td>en trÃ¡mite</td>\n",
       "      <td>True</td>\n",
       "    </tr>\n",
       "  </tbody>\n",
       "</table>\n",
       "</div>"
      ],
      "text/plain": [
       "      id                                              title  \\\n",
       "0  21742              Piso en venta en calle de Godella, 64   \n",
       "1  21741   Piso en venta en calle de la del Manojo de Rosas   \n",
       "2  21740               Piso en venta en calle del Talco, 68   \n",
       "3  21739              Piso en venta en calle Pedro JimÃ©nez   \n",
       "4  21738  Piso en venta en carretera de Villaverde a Val...   \n",
       "\n",
       "                 subtitle  sq_mt_built  n_rooms  n_bathrooms  \\\n",
       "0  San CristÃ³bal, Madrid         64.0        2          1.0   \n",
       "1    Los Ãngeles, Madrid         70.0        3          1.0   \n",
       "2     San AndrÃ©s, Madrid         94.0        2          2.0   \n",
       "3     San AndrÃ©s, Madrid         64.0        2          1.0   \n",
       "4     Los Rosales, Madrid        108.0        2          2.0   \n",
       "\n",
       "   is_exact_address_hidden  is_floor_under  \\\n",
       "0                    False             0.0   \n",
       "1                     True             0.0   \n",
       "2                    False             0.0   \n",
       "3                     True             1.0   \n",
       "4                     True             0.0   \n",
       "\n",
       "                                     neighborhood_id operation  rent_price  \\\n",
       "0  Neighborhood 135: San CristÃ³bal (1308.89 â‚¬/...      sale       471.0   \n",
       "1  Neighborhood 132: Los Ãngeles (1796.68 â‚¬/m2...      sale       666.0   \n",
       "2  Neighborhood 134: San AndrÃ©s (1617.18 â‚¬/m2)...      sale       722.0   \n",
       "3  Neighborhood 134: San AndrÃ©s (1617.18 â‚¬/m2)...      sale       583.0   \n",
       "4  Neighborhood 133: Los Rosales (1827.79 â‚¬/m2)...      sale      1094.0   \n",
       "\n",
       "   is_rent_price_known  buy_price  buy_price_by_area  is_buy_price_known  \\\n",
       "0                False      85000               1328                True   \n",
       "1                False     129900               1856                True   \n",
       "2                False     144247               1535                True   \n",
       "3                False     109900               1717                True   \n",
       "4                False     260000               2407                True   \n",
       "\n",
       "        house_type_id  is_renewal_needed  is_new_development  \\\n",
       "0  HouseType 1: Pisos              False                 0.0   \n",
       "1  HouseType 1: Pisos               True                 0.0   \n",
       "2  HouseType 1: Pisos              False                 0.0   \n",
       "3  HouseType 1: Pisos              False                 0.0   \n",
       "4  HouseType 1: Pisos              False                 0.0   \n",
       "\n",
       "  energy_certificate  has_parking  \n",
       "0                  D        False  \n",
       "1        en trÃ¡mite        False  \n",
       "2        no indicado        False  \n",
       "3        en trÃ¡mite        False  \n",
       "4        en trÃ¡mite         True  "
      ]
     },
     "execution_count": 6,
     "metadata": {},
     "output_type": "execute_result"
    }
   ],
   "source": [
    "# Eliminar columnas con un alto porcentaje de nulos\n",
    "# Crear serie de pandas\n",
    "dfVar = df.isnull().sum()\n",
    "# Porcentaje de eliminación\n",
    "pEliminacion = 0.1\n",
    "puntoDeRoptura = pEliminacion * len(df)\n",
    "dfVar = dfVar[ dfVar<puntoDeRoptura ]\n",
    "indices = dfVar.index\n",
    "df = df[indices]\n",
    "df.head(5)"
   ]
  },
  {
   "cell_type": "code",
   "execution_count": 9,
   "id": "bc1fcde7",
   "metadata": {},
   "outputs": [
    {
     "name": "stderr",
     "output_type": "stream",
     "text": [
      "/tmp/ipykernel_31485/3260041364.py:2: SettingWithCopyWarning: \n",
      "A value is trying to be set on a copy of a slice from a DataFrame\n",
      "\n",
      "See the caveats in the documentation: https://pandas.pydata.org/pandas-docs/stable/user_guide/indexing.html#returning-a-view-versus-a-copy\n",
      "  df.dropna(inplace=True)\n"
     ]
    },
    {
     "data": {
      "text/plain": [
       "id                         0\n",
       "title                      0\n",
       "subtitle                   0\n",
       "sq_mt_built                0\n",
       "n_rooms                    0\n",
       "n_bathrooms                0\n",
       "is_exact_address_hidden    0\n",
       "is_floor_under             0\n",
       "neighborhood_id            0\n",
       "operation                  0\n",
       "rent_price                 0\n",
       "is_rent_price_known        0\n",
       "buy_price                  0\n",
       "buy_price_by_area          0\n",
       "is_buy_price_known         0\n",
       "house_type_id              0\n",
       "is_renewal_needed          0\n",
       "is_new_development         0\n",
       "energy_certificate         0\n",
       "has_parking                0\n",
       "dtype: int64"
      ]
     },
     "execution_count": 9,
     "metadata": {},
     "output_type": "execute_result"
    }
   ],
   "source": [
    "# Eliminar registros con valores erróneos\n",
    "df.dropna(inplace=True)\n",
    "df.isnull().sum()"
   ]
  },
  {
   "cell_type": "code",
   "execution_count": 10,
   "id": "77dee512",
   "metadata": {},
   "outputs": [
    {
     "data": {
      "text/html": [
       "<div>\n",
       "<style scoped>\n",
       "    .dataframe tbody tr th:only-of-type {\n",
       "        vertical-align: middle;\n",
       "    }\n",
       "\n",
       "    .dataframe tbody tr th {\n",
       "        vertical-align: top;\n",
       "    }\n",
       "\n",
       "    .dataframe thead th {\n",
       "        text-align: right;\n",
       "    }\n",
       "</style>\n",
       "<table border=\"1\" class=\"dataframe\">\n",
       "  <thead>\n",
       "    <tr style=\"text-align: right;\">\n",
       "      <th></th>\n",
       "      <th>count</th>\n",
       "      <th>mean</th>\n",
       "      <th>std</th>\n",
       "      <th>min</th>\n",
       "      <th>25%</th>\n",
       "      <th>50%</th>\n",
       "      <th>75%</th>\n",
       "      <th>max</th>\n",
       "    </tr>\n",
       "  </thead>\n",
       "  <tbody>\n",
       "    <tr>\n",
       "      <th>id</th>\n",
       "      <td>19310.0</td>\n",
       "      <td>10751.771621</td>\n",
       "      <td>6272.883675</td>\n",
       "      <td>2.0</td>\n",
       "      <td>5347.25</td>\n",
       "      <td>10575.5</td>\n",
       "      <td>16243.75</td>\n",
       "      <td>21742.0</td>\n",
       "    </tr>\n",
       "    <tr>\n",
       "      <th>sq_mt_built</th>\n",
       "      <td>19310.0</td>\n",
       "      <td>144.126359</td>\n",
       "      <td>125.418617</td>\n",
       "      <td>16.0</td>\n",
       "      <td>71.00</td>\n",
       "      <td>101.0</td>\n",
       "      <td>161.00</td>\n",
       "      <td>999.0</td>\n",
       "    </tr>\n",
       "    <tr>\n",
       "      <th>n_rooms</th>\n",
       "      <td>19310.0</td>\n",
       "      <td>3.013361</td>\n",
       "      <td>1.388427</td>\n",
       "      <td>0.0</td>\n",
       "      <td>2.00</td>\n",
       "      <td>3.0</td>\n",
       "      <td>4.00</td>\n",
       "      <td>24.0</td>\n",
       "    </tr>\n",
       "    <tr>\n",
       "      <th>n_bathrooms</th>\n",
       "      <td>19310.0</td>\n",
       "      <td>2.039617</td>\n",
       "      <td>1.271573</td>\n",
       "      <td>1.0</td>\n",
       "      <td>1.00</td>\n",
       "      <td>2.0</td>\n",
       "      <td>2.00</td>\n",
       "      <td>14.0</td>\n",
       "    </tr>\n",
       "    <tr>\n",
       "      <th>is_floor_under</th>\n",
       "      <td>19310.0</td>\n",
       "      <td>0.118747</td>\n",
       "      <td>0.323499</td>\n",
       "      <td>0.0</td>\n",
       "      <td>0.00</td>\n",
       "      <td>0.0</td>\n",
       "      <td>0.00</td>\n",
       "      <td>1.0</td>\n",
       "    </tr>\n",
       "    <tr>\n",
       "      <th>rent_price</th>\n",
       "      <td>19310.0</td>\n",
       "      <td>1573.749995</td>\n",
       "      <td>931.244378</td>\n",
       "      <td>18.0</td>\n",
       "      <td>913.00</td>\n",
       "      <td>1368.0</td>\n",
       "      <td>2073.50</td>\n",
       "      <td>12584.0</td>\n",
       "    </tr>\n",
       "    <tr>\n",
       "      <th>buy_price</th>\n",
       "      <td>19310.0</td>\n",
       "      <td>632592.345106</td>\n",
       "      <td>720196.584637</td>\n",
       "      <td>36000.0</td>\n",
       "      <td>200000.00</td>\n",
       "      <td>380000.0</td>\n",
       "      <td>750000.00</td>\n",
       "      <td>8800000.0</td>\n",
       "    </tr>\n",
       "    <tr>\n",
       "      <th>buy_price_by_area</th>\n",
       "      <td>19310.0</td>\n",
       "      <td>4061.935008</td>\n",
       "      <td>1917.230783</td>\n",
       "      <td>447.0</td>\n",
       "      <td>2586.00</td>\n",
       "      <td>3783.5</td>\n",
       "      <td>5047.00</td>\n",
       "      <td>18889.0</td>\n",
       "    </tr>\n",
       "    <tr>\n",
       "      <th>is_new_development</th>\n",
       "      <td>19310.0</td>\n",
       "      <td>0.060124</td>\n",
       "      <td>0.237723</td>\n",
       "      <td>0.0</td>\n",
       "      <td>0.00</td>\n",
       "      <td>0.0</td>\n",
       "      <td>0.00</td>\n",
       "      <td>1.0</td>\n",
       "    </tr>\n",
       "  </tbody>\n",
       "</table>\n",
       "</div>"
      ],
      "text/plain": [
       "                      count           mean            std      min        25%  \\\n",
       "id                  19310.0   10751.771621    6272.883675      2.0    5347.25   \n",
       "sq_mt_built         19310.0     144.126359     125.418617     16.0      71.00   \n",
       "n_rooms             19310.0       3.013361       1.388427      0.0       2.00   \n",
       "n_bathrooms         19310.0       2.039617       1.271573      1.0       1.00   \n",
       "is_floor_under      19310.0       0.118747       0.323499      0.0       0.00   \n",
       "rent_price          19310.0    1573.749995     931.244378     18.0     913.00   \n",
       "buy_price           19310.0  632592.345106  720196.584637  36000.0  200000.00   \n",
       "buy_price_by_area   19310.0    4061.935008    1917.230783    447.0    2586.00   \n",
       "is_new_development  19310.0       0.060124       0.237723      0.0       0.00   \n",
       "\n",
       "                         50%        75%        max  \n",
       "id                   10575.5   16243.75    21742.0  \n",
       "sq_mt_built            101.0     161.00      999.0  \n",
       "n_rooms                  3.0       4.00       24.0  \n",
       "n_bathrooms              2.0       2.00       14.0  \n",
       "is_floor_under           0.0       0.00        1.0  \n",
       "rent_price            1368.0    2073.50    12584.0  \n",
       "buy_price           380000.0  750000.00  8800000.0  \n",
       "buy_price_by_area     3783.5    5047.00    18889.0  \n",
       "is_new_development       0.0       0.00        1.0  "
      ]
     },
     "execution_count": 10,
     "metadata": {},
     "output_type": "execute_result"
    }
   ],
   "source": [
    "# Datos estadísticos de cada columna\n",
    "df.describe().transpose()"
   ]
  },
  {
   "cell_type": "markdown",
   "id": "99f1b975",
   "metadata": {},
   "source": [
    "## 3.2 Visualización"
   ]
  },
  {
   "cell_type": "markdown",
   "id": "f7bfab4b",
   "metadata": {},
   "source": [
    "### 3.2.1 Plots básicos"
   ]
  },
  {
   "cell_type": "code",
   "execution_count": 12,
   "id": "d9b325c8",
   "metadata": {
    "scrolled": true
   },
   "outputs": [
    {
     "data": {
      "text/plain": [
       "<seaborn.axisgrid.FacetGrid at 0x7f6833e49af0>"
      ]
     },
     "execution_count": 12,
     "metadata": {},
     "output_type": "execute_result"
    },
    {
     "data": {
      "text/plain": [
       "<Figure size 1200x800 with 0 Axes>"
      ]
     },
     "metadata": {},
     "output_type": "display_data"
    },
    {
     "data": {
      "image/png": "[encoded data removed]",
      "text/plain": [
       "<Figure size 500x500 with 1 Axes>"
      ]
     },
     "metadata": {},
     "output_type": "display_data"
    }
   ],
   "source": [
    "plt.figure( figsize=(12,8) )\n",
    "# Plantearse descartar outliners (atípicos) para facilitar\n",
    "# el entrenamiento de la red neuronal\n",
    "sns.displot(df[\"buy_price\"], kde=True)"
   ]
  },
  {
   "cell_type": "code",
   "execution_count": 13,
   "id": "0b8b5efb",
   "metadata": {},
   "outputs": [
    {
     "name": "stderr",
     "output_type": "stream",
     "text": [
      "/home/hisham/anaconda3/lib/python3.9/site-packages/seaborn/_decorators.py:36: FutureWarning: Pass the following variable as a keyword arg: x. From version 0.12, the only valid positional argument will be `data`, and passing other arguments without an explicit keyword will result in an error or misinterpretation.\n",
      "  warnings.warn(\n"
     ]
    },
    {
     "data": {
      "text/plain": [
       "<AxesSubplot:xlabel='n_rooms', ylabel='count'>"
      ]
     },
     "execution_count": 13,
     "metadata": {},
     "output_type": "execute_result"
    },
    {
     "data": {
      "image/png": "[encoded data removed]",
      "text/plain": [
       "<Figure size 640x480 with 1 Axes>"
      ]
     },
     "metadata": {},
     "output_type": "display_data"
    }
   ],
   "source": [
    "sns.countplot(df[\"n_rooms\"])"
   ]
  },
  {
   "cell_type": "code",
   "execution_count": 14,
   "id": "54f1a89e",
   "metadata": {},
   "outputs": [
    {
     "data": {
      "text/plain": [
       "id                        -0.195828\n",
       "is_floor_under            -0.149768\n",
       "is_new_development        -0.013903\n",
       "is_renewal_needed          0.052132\n",
       "is_exact_address_hidden    0.167964\n",
       "has_parking                0.315350\n",
       "n_rooms                    0.578291\n",
       "buy_price_by_area          0.581698\n",
       "n_bathrooms                0.753692\n",
       "sq_mt_built                0.831700\n",
       "rent_price                 0.920350\n",
       "buy_price                  1.000000\n",
       "is_rent_price_known             NaN\n",
       "is_buy_price_known              NaN\n",
       "Name: buy_price, dtype: float64"
      ]
     },
     "execution_count": 14,
     "metadata": {},
     "output_type": "execute_result"
    }
   ],
   "source": [
    "# Ver que variables tienen mayor corelación con el precio\n",
    "df.corr()[\"buy_price\"].sort_values()"
   ]
  },
  {
   "cell_type": "code",
   "execution_count": 15,
   "id": "d74dbbbb",
   "metadata": {},
   "outputs": [],
   "source": [
    "# Ver variables altamente relacionadas con la salida"
   ]
  },
  {
   "cell_type": "code",
   "execution_count": 19,
   "id": "e7eb03c9",
   "metadata": {},
   "outputs": [
    {
     "data": {
      "text/plain": [
       "<AxesSubplot:xlabel='buy_price', ylabel='sq_mt_built'>"
      ]
     },
     "execution_count": 19,
     "metadata": {},
     "output_type": "execute_result"
    },
    {
     "data": {
      "image/png": "[encoded data removed]",
      "text/plain": [
       "<Figure size 1200x800 with 1 Axes>"
      ]
     },
     "metadata": {},
     "output_type": "display_data"
    }
   ],
   "source": [
    "plt.figure( figsize=(12,8) )\n",
    "sns.scatterplot( x=\"buy_price\", y=\"sq_mt_built\", data=df )"
   ]
  },
  {
   "cell_type": "code",
   "execution_count": 20,
   "id": "38a9ac30",
   "metadata": {},
   "outputs": [
    {
     "data": {
      "text/plain": [
       "<AxesSubplot:xlabel='n_bathrooms', ylabel='buy_price'>"
      ]
     },
     "execution_count": 20,
     "metadata": {},
     "output_type": "execute_result"
    },
    {
     "data": {
      "image/png": "[encoded data removed]",
      "text/plain": [
       "<Figure size 640x480 with 1 Axes>"
      ]
     },
     "metadata": {},
     "output_type": "display_data"
    }
   ],
   "source": [
    "sns.boxplot( x=\"n_bathrooms\", y=\"buy_price\", data=df )"
   ]
  },
  {
   "cell_type": "markdown",
   "id": "48ab91aa",
   "metadata": {},
   "source": [
    "## 3.3 Limpieza final"
   ]
  },
  {
   "cell_type": "markdown",
   "id": "d5dfd0a2",
   "metadata": {},
   "source": [
    "### 3.3.1 Eliminar columnas no correlacionadas"
   ]
  },
  {
   "cell_type": "code",
   "execution_count": 22,
   "id": "236819f8",
   "metadata": {},
   "outputs": [
    {
     "name": "stdout",
     "output_type": "stream",
     "text": [
      "<class 'pandas.core.frame.DataFrame'>\n",
      "Int64Index: 19310 entries, 0 to 21740\n",
      "Data columns (total 20 columns):\n",
      " #   Column                   Non-Null Count  Dtype  \n",
      "---  ------                   --------------  -----  \n",
      " 0   id                       19310 non-null  int64  \n",
      " 1   title                    19310 non-null  object \n",
      " 2   subtitle                 19310 non-null  object \n",
      " 3   sq_mt_built              19310 non-null  float64\n",
      " 4   n_rooms                  19310 non-null  int64  \n",
      " 5   n_bathrooms              19310 non-null  float64\n",
      " 6   is_exact_address_hidden  19310 non-null  bool   \n",
      " 7   is_floor_under           19310 non-null  float64\n",
      " 8   neighborhood_id          19310 non-null  object \n",
      " 9   operation                19310 non-null  object \n",
      " 10  rent_price               19310 non-null  float64\n",
      " 11  is_rent_price_known      19310 non-null  bool   \n",
      " 12  buy_price                19310 non-null  int64  \n",
      " 13  buy_price_by_area        19310 non-null  int64  \n",
      " 14  is_buy_price_known       19310 non-null  bool   \n",
      " 15  house_type_id            19310 non-null  object \n",
      " 16  is_renewal_needed        19310 non-null  bool   \n",
      " 17  is_new_development       19310 non-null  float64\n",
      " 18  energy_certificate       19310 non-null  object \n",
      " 19  has_parking              19310 non-null  bool   \n",
      "dtypes: bool(5), float64(5), int64(4), object(6)\n",
      "memory usage: 2.4+ MB\n"
     ]
    }
   ],
   "source": [
    "df.info()"
   ]
  },
  {
   "cell_type": "code",
   "execution_count": 23,
   "id": "e61f97f3",
   "metadata": {},
   "outputs": [],
   "source": [
    "df = df.drop(['id','title','subtitle','is_exact_address_hidden','is_renewal_needed','neighborhood_id','operation','is_rent_price_known','is_buy_price_known','buy_price_by_area','is_buy_price_known','house_type_id','energy_certificate'],axis=1)"
   ]
  },
  {
   "cell_type": "code",
   "execution_count": 24,
   "id": "160fa1ab",
   "metadata": {},
   "outputs": [
    {
     "data": {
      "text/html": [
       "<div>\n",
       "<style scoped>\n",
       "    .dataframe tbody tr th:only-of-type {\n",
       "        vertical-align: middle;\n",
       "    }\n",
       "\n",
       "    .dataframe tbody tr th {\n",
       "        vertical-align: top;\n",
       "    }\n",
       "\n",
       "    .dataframe thead th {\n",
       "        text-align: right;\n",
       "    }\n",
       "</style>\n",
       "<table border=\"1\" class=\"dataframe\">\n",
       "  <thead>\n",
       "    <tr style=\"text-align: right;\">\n",
       "      <th></th>\n",
       "      <th>sq_mt_built</th>\n",
       "      <th>n_rooms</th>\n",
       "      <th>n_bathrooms</th>\n",
       "      <th>is_floor_under</th>\n",
       "      <th>rent_price</th>\n",
       "      <th>buy_price</th>\n",
       "      <th>is_new_development</th>\n",
       "      <th>has_parking</th>\n",
       "    </tr>\n",
       "  </thead>\n",
       "  <tbody>\n",
       "    <tr>\n",
       "      <th>0</th>\n",
       "      <td>64.0</td>\n",
       "      <td>2</td>\n",
       "      <td>1.0</td>\n",
       "      <td>0.0</td>\n",
       "      <td>471.0</td>\n",
       "      <td>85000</td>\n",
       "      <td>0.0</td>\n",
       "      <td>False</td>\n",
       "    </tr>\n",
       "    <tr>\n",
       "      <th>1</th>\n",
       "      <td>70.0</td>\n",
       "      <td>3</td>\n",
       "      <td>1.0</td>\n",
       "      <td>0.0</td>\n",
       "      <td>666.0</td>\n",
       "      <td>129900</td>\n",
       "      <td>0.0</td>\n",
       "      <td>False</td>\n",
       "    </tr>\n",
       "    <tr>\n",
       "      <th>2</th>\n",
       "      <td>94.0</td>\n",
       "      <td>2</td>\n",
       "      <td>2.0</td>\n",
       "      <td>0.0</td>\n",
       "      <td>722.0</td>\n",
       "      <td>144247</td>\n",
       "      <td>0.0</td>\n",
       "      <td>False</td>\n",
       "    </tr>\n",
       "    <tr>\n",
       "      <th>3</th>\n",
       "      <td>64.0</td>\n",
       "      <td>2</td>\n",
       "      <td>1.0</td>\n",
       "      <td>1.0</td>\n",
       "      <td>583.0</td>\n",
       "      <td>109900</td>\n",
       "      <td>0.0</td>\n",
       "      <td>False</td>\n",
       "    </tr>\n",
       "    <tr>\n",
       "      <th>4</th>\n",
       "      <td>108.0</td>\n",
       "      <td>2</td>\n",
       "      <td>2.0</td>\n",
       "      <td>0.0</td>\n",
       "      <td>1094.0</td>\n",
       "      <td>260000</td>\n",
       "      <td>0.0</td>\n",
       "      <td>True</td>\n",
       "    </tr>\n",
       "  </tbody>\n",
       "</table>\n",
       "</div>"
      ],
      "text/plain": [
       "   sq_mt_built  n_rooms  n_bathrooms  is_floor_under  rent_price  buy_price  \\\n",
       "0         64.0        2          1.0             0.0       471.0      85000   \n",
       "1         70.0        3          1.0             0.0       666.0     129900   \n",
       "2         94.0        2          2.0             0.0       722.0     144247   \n",
       "3         64.0        2          1.0             1.0       583.0     109900   \n",
       "4        108.0        2          2.0             0.0      1094.0     260000   \n",
       "\n",
       "   is_new_development  has_parking  \n",
       "0                 0.0        False  \n",
       "1                 0.0        False  \n",
       "2                 0.0        False  \n",
       "3                 0.0        False  \n",
       "4                 0.0         True  "
      ]
     },
     "execution_count": 24,
     "metadata": {},
     "output_type": "execute_result"
    }
   ],
   "source": [
    "df.head(5)"
   ]
  },
  {
   "cell_type": "markdown",
   "id": "c863fde2",
   "metadata": {},
   "source": [
    "# 4. Train test split"
   ]
  },
  {
   "cell_type": "code",
   "execution_count": 25,
   "id": "86e08f56",
   "metadata": {},
   "outputs": [],
   "source": [
    "x = df.drop(\"buy_price\", axis=1)\n",
    "y = df[\"buy_price\"]"
   ]
  },
  {
   "cell_type": "code",
   "execution_count": 26,
   "id": "acb769a2",
   "metadata": {},
   "outputs": [],
   "source": [
    "from sklearn.model_selection import train_test_split as ttSplit"
   ]
  },
  {
   "cell_type": "code",
   "execution_count": 27,
   "id": "cd0eb3b5",
   "metadata": {},
   "outputs": [],
   "source": [
    "x_train, x_test, y_train, y_test = ttSplit(x, y, test_size=0.2, random_state=101)"
   ]
  },
  {
   "cell_type": "code",
   "execution_count": 28,
   "id": "e771a9f5",
   "metadata": {},
   "outputs": [
    {
     "data": {
      "text/plain": [
       "(15448, 7)"
      ]
     },
     "execution_count": 28,
     "metadata": {},
     "output_type": "execute_result"
    }
   ],
   "source": [
    "x_train.shape"
   ]
  },
  {
   "cell_type": "code",
   "execution_count": 29,
   "id": "99067be4",
   "metadata": {},
   "outputs": [
    {
     "data": {
      "text/plain": [
       "(3862, 7)"
      ]
     },
     "execution_count": 29,
     "metadata": {},
     "output_type": "execute_result"
    }
   ],
   "source": [
    "x_test.shape"
   ]
  },
  {
   "cell_type": "markdown",
   "id": "23c38987",
   "metadata": {},
   "source": [
    "# 5. Escalado"
   ]
  },
  {
   "cell_type": "code",
   "execution_count": 30,
   "id": "6525f690",
   "metadata": {},
   "outputs": [],
   "source": [
    "from sklearn.preprocessing import MinMaxScaler"
   ]
  },
  {
   "cell_type": "code",
   "execution_count": 31,
   "id": "070ebdbd",
   "metadata": {},
   "outputs": [],
   "source": [
    "scaler = MinMaxScaler()"
   ]
  },
  {
   "cell_type": "code",
   "execution_count": 32,
   "id": "774683b3",
   "metadata": {},
   "outputs": [
    {
     "data": {
      "text/html": [
       "<div>\n",
       "<style scoped>\n",
       "    .dataframe tbody tr th:only-of-type {\n",
       "        vertical-align: middle;\n",
       "    }\n",
       "\n",
       "    .dataframe tbody tr th {\n",
       "        vertical-align: top;\n",
       "    }\n",
       "\n",
       "    .dataframe thead th {\n",
       "        text-align: right;\n",
       "    }\n",
       "</style>\n",
       "<table border=\"1\" class=\"dataframe\">\n",
       "  <thead>\n",
       "    <tr style=\"text-align: right;\">\n",
       "      <th></th>\n",
       "      <th>sq_mt_built</th>\n",
       "      <th>n_rooms</th>\n",
       "      <th>n_bathrooms</th>\n",
       "      <th>is_floor_under</th>\n",
       "      <th>rent_price</th>\n",
       "      <th>is_new_development</th>\n",
       "      <th>has_parking</th>\n",
       "    </tr>\n",
       "  </thead>\n",
       "  <tbody>\n",
       "    <tr>\n",
       "      <th>2160</th>\n",
       "      <td>87.0</td>\n",
       "      <td>2</td>\n",
       "      <td>1.0</td>\n",
       "      <td>0.0</td>\n",
       "      <td>913.0</td>\n",
       "      <td>0.0</td>\n",
       "      <td>False</td>\n",
       "    </tr>\n",
       "    <tr>\n",
       "      <th>13201</th>\n",
       "      <td>150.0</td>\n",
       "      <td>2</td>\n",
       "      <td>2.0</td>\n",
       "      <td>1.0</td>\n",
       "      <td>1839.0</td>\n",
       "      <td>0.0</td>\n",
       "      <td>True</td>\n",
       "    </tr>\n",
       "    <tr>\n",
       "      <th>14224</th>\n",
       "      <td>682.0</td>\n",
       "      <td>24</td>\n",
       "      <td>4.0</td>\n",
       "      <td>0.0</td>\n",
       "      <td>6864.0</td>\n",
       "      <td>0.0</td>\n",
       "      <td>False</td>\n",
       "    </tr>\n",
       "    <tr>\n",
       "      <th>17339</th>\n",
       "      <td>154.0</td>\n",
       "      <td>5</td>\n",
       "      <td>5.0</td>\n",
       "      <td>0.0</td>\n",
       "      <td>2510.0</td>\n",
       "      <td>0.0</td>\n",
       "      <td>False</td>\n",
       "    </tr>\n",
       "    <tr>\n",
       "      <th>5298</th>\n",
       "      <td>70.0</td>\n",
       "      <td>3</td>\n",
       "      <td>1.0</td>\n",
       "      <td>0.0</td>\n",
       "      <td>621.0</td>\n",
       "      <td>0.0</td>\n",
       "      <td>False</td>\n",
       "    </tr>\n",
       "    <tr>\n",
       "      <th>...</th>\n",
       "      <td>...</td>\n",
       "      <td>...</td>\n",
       "      <td>...</td>\n",
       "      <td>...</td>\n",
       "      <td>...</td>\n",
       "      <td>...</td>\n",
       "      <td>...</td>\n",
       "    </tr>\n",
       "    <tr>\n",
       "      <th>6473</th>\n",
       "      <td>67.0</td>\n",
       "      <td>2</td>\n",
       "      <td>1.0</td>\n",
       "      <td>0.0</td>\n",
       "      <td>762.0</td>\n",
       "      <td>0.0</td>\n",
       "      <td>False</td>\n",
       "    </tr>\n",
       "    <tr>\n",
       "      <th>9240</th>\n",
       "      <td>146.0</td>\n",
       "      <td>3</td>\n",
       "      <td>2.0</td>\n",
       "      <td>0.0</td>\n",
       "      <td>2070.0</td>\n",
       "      <td>1.0</td>\n",
       "      <td>True</td>\n",
       "    </tr>\n",
       "    <tr>\n",
       "      <th>19993</th>\n",
       "      <td>104.0</td>\n",
       "      <td>2</td>\n",
       "      <td>1.0</td>\n",
       "      <td>0.0</td>\n",
       "      <td>1890.0</td>\n",
       "      <td>0.0</td>\n",
       "      <td>False</td>\n",
       "    </tr>\n",
       "    <tr>\n",
       "      <th>20197</th>\n",
       "      <td>85.0</td>\n",
       "      <td>2</td>\n",
       "      <td>2.0</td>\n",
       "      <td>0.0</td>\n",
       "      <td>1197.0</td>\n",
       "      <td>0.0</td>\n",
       "      <td>False</td>\n",
       "    </tr>\n",
       "    <tr>\n",
       "      <th>14945</th>\n",
       "      <td>116.0</td>\n",
       "      <td>2</td>\n",
       "      <td>2.0</td>\n",
       "      <td>0.0</td>\n",
       "      <td>2285.0</td>\n",
       "      <td>0.0</td>\n",
       "      <td>False</td>\n",
       "    </tr>\n",
       "  </tbody>\n",
       "</table>\n",
       "<p>15448 rows × 7 columns</p>\n",
       "</div>"
      ],
      "text/plain": [
       "       sq_mt_built  n_rooms  n_bathrooms  is_floor_under  rent_price  \\\n",
       "2160          87.0        2          1.0             0.0       913.0   \n",
       "13201        150.0        2          2.0             1.0      1839.0   \n",
       "14224        682.0       24          4.0             0.0      6864.0   \n",
       "17339        154.0        5          5.0             0.0      2510.0   \n",
       "5298          70.0        3          1.0             0.0       621.0   \n",
       "...            ...      ...          ...             ...         ...   \n",
       "6473          67.0        2          1.0             0.0       762.0   \n",
       "9240         146.0        3          2.0             0.0      2070.0   \n",
       "19993        104.0        2          1.0             0.0      1890.0   \n",
       "20197         85.0        2          2.0             0.0      1197.0   \n",
       "14945        116.0        2          2.0             0.0      2285.0   \n",
       "\n",
       "       is_new_development  has_parking  \n",
       "2160                  0.0        False  \n",
       "13201                 0.0         True  \n",
       "14224                 0.0        False  \n",
       "17339                 0.0        False  \n",
       "5298                  0.0        False  \n",
       "...                   ...          ...  \n",
       "6473                  0.0        False  \n",
       "9240                  1.0         True  \n",
       "19993                 0.0        False  \n",
       "20197                 0.0        False  \n",
       "14945                 0.0        False  \n",
       "\n",
       "[15448 rows x 7 columns]"
      ]
     },
     "execution_count": 32,
     "metadata": {},
     "output_type": "execute_result"
    }
   ],
   "source": [
    "x_train"
   ]
  },
  {
   "cell_type": "code",
   "execution_count": 33,
   "id": "43a2719b",
   "metadata": {},
   "outputs": [],
   "source": [
    "x_train = scaler.fit_transform(x_train)"
   ]
  },
  {
   "cell_type": "code",
   "execution_count": 34,
   "id": "b27ec5bb",
   "metadata": {},
   "outputs": [
    {
     "data": {
      "text/plain": [
       "array([[0.07230143, 0.08333333, 0.        , ..., 0.07122394, 0.        ,\n",
       "        0.        ],\n",
       "       [0.13645621, 0.08333333, 0.07692308, ..., 0.14491485, 0.        ,\n",
       "        1.        ],\n",
       "       [0.67820774, 1.        , 0.23076923, ..., 0.54480344, 0.        ,\n",
       "        0.        ],\n",
       "       ...,\n",
       "       [0.08961303, 0.08333333, 0.        , ..., 0.14897342, 0.        ,\n",
       "        0.        ],\n",
       "       [0.07026477, 0.08333333, 0.07692308, ..., 0.09382461, 0.        ,\n",
       "        0.        ],\n",
       "       [0.10183299, 0.08333333, 0.07692308, ..., 0.18040745, 0.        ,\n",
       "        0.        ]])"
      ]
     },
     "execution_count": 34,
     "metadata": {},
     "output_type": "execute_result"
    }
   ],
   "source": [
    "x_train"
   ]
  },
  {
   "cell_type": "code",
   "execution_count": 37,
   "id": "641ba8c5",
   "metadata": {},
   "outputs": [
    {
     "name": "stderr",
     "output_type": "stream",
     "text": [
      "/home/hisham/anaconda3/lib/python3.9/site-packages/sklearn/base.py:450: UserWarning: X does not have valid feature names, but MinMaxScaler was fitted with feature names\n",
      "  warnings.warn(\n"
     ]
    }
   ],
   "source": [
    "x_test = scaler.transform(x_test)"
   ]
  },
  {
   "cell_type": "code",
   "execution_count": 38,
   "id": "d72ff1b0",
   "metadata": {},
   "outputs": [
    {
     "data": {
      "text/plain": [
       "(15448, 7)"
      ]
     },
     "execution_count": 38,
     "metadata": {},
     "output_type": "execute_result"
    }
   ],
   "source": [
    "x_train.shape"
   ]
  },
  {
   "cell_type": "code",
   "execution_count": 39,
   "id": "d3eff23d",
   "metadata": {},
   "outputs": [
    {
     "data": {
      "text/plain": [
       "(3862, 7)"
      ]
     },
     "execution_count": 39,
     "metadata": {},
     "output_type": "execute_result"
    }
   ],
   "source": [
    "x_test.shape"
   ]
  },
  {
   "cell_type": "markdown",
   "id": "fe481dca",
   "metadata": {},
   "source": [
    "# 6. Creación de modelo"
   ]
  },
  {
   "cell_type": "markdown",
   "id": "3ae2689f",
   "metadata": {},
   "source": [
    "# 7. Entrenamiento del modelo"
   ]
  },
  {
   "cell_type": "markdown",
   "id": "fcdeac86",
   "metadata": {},
   "source": [
    "# 8. Evaluación del modelo"
   ]
  }
 ],
 "metadata": {
  "kernelspec": {
   "display_name": "Python 3 (ipykernel)",
   "language": "python",
   "name": "python3"
  },
  "language_info": {
   "codemirror_mode": {
    "name": "ipython",
    "version": 3
   },
   "file_extension": ".py",
   "mimetype": "text/x-python",
   "name": "python",
   "nbconvert_exporter": "python",
   "pygments_lexer": "ipython3",
   "version": "3.9.13"
  }
 },
 "nbformat": 4,
 "nbformat_minor": 5
}
